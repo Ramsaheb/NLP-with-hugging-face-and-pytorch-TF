{
 "cells": [
  {
   "cell_type": "code",
   "execution_count": 1,
   "id": "46e27fa7-a7ad-41fd-aa03-e4569e849c3e",
   "metadata": {},
   "outputs": [
    {
     "name": "stderr",
     "output_type": "stream",
     "text": [
      "Device set to use cuda:0\n"
     ]
    }
   ],
   "source": [
    "from transformers import pipeline\n",
    "\n",
    "generator = pipeline(\n",
    "    'text-generation',\n",
    "    model='gpt2',\n",
    "    device=0  # Use GPU\n",
    ")\n"
   ]
  },
  {
   "cell_type": "code",
   "execution_count": 2,
   "id": "1ea4fd04-349f-4345-b983-a30b85c23e13",
   "metadata": {},
   "outputs": [
    {
     "name": "stderr",
     "output_type": "stream",
     "text": [
      "Truncation was not explicitly activated but `max_length` is provided a specific value, please use `truncation=True` to explicitly truncate examples to max length. Defaulting to 'longest_first' truncation strategy. If you encode pairs of sequences (GLUE-style) with the tokenizer you can select this strategy more precisely by providing a specific strategy to `truncation`.\n",
      "Setting `pad_token_id` to `eos_token_id`:50256 for open-end generation.\n"
     ]
    },
    {
     "name": "stdout",
     "output_type": "stream",
     "text": [
      "Bitcoin price in 2022\n",
      "\n",
      "The next few years will see the most dramatic rise in the Bitcoin market, with the Bitcoin price up by 8.8% in 2017, the highest rate in 30 years. The next two years will see a similar increase, but the price of Bitcoin has a more steady decline. The next few years will see a greater increase in the Bitcoin price, with the Bitcoin price increasing by 0.1% in 2017, the highest rate in 30 years. The next two years will see a greater increase in the Bitcoin price, with the Bitcoin price increasing by 0.1% in 2017, the highest rate in 30 years.\n",
      "\n",
      "The last two years will see a rise in the Bitcoin price, with the Bitcoin price increasing\n"
     ]
    }
   ],
   "source": [
    "# Generate text\n",
    "prompt = \"Bitcoin price in 2022\"\n",
    "output = generator(\n",
    "    prompt,\n",
    "    max_length=150,\n",
    "    min_length=50,\n",
    "    do_sample=True,\n",
    "    temperature=0.8,\n",
    "    top_k=50,\n",
    "    top_p=0.9\n",
    ")\n",
    "print(output[0]['generated_text'])"
   ]
  },
  {
   "cell_type": "code",
   "execution_count": null,
   "id": "1e2ca272-03fc-4066-831f-9ffac5600e3b",
   "metadata": {},
   "outputs": [],
   "source": []
  }
 ],
 "metadata": {
  "kernelspec": {
   "display_name": "Itachi",
   "language": "python",
   "name": "python3"
  },
  "language_info": {
   "codemirror_mode": {
    "name": "ipython",
    "version": 3
   },
   "file_extension": ".py",
   "mimetype": "text/x-python",
   "name": "python",
   "nbconvert_exporter": "python",
   "pygments_lexer": "ipython3",
   "version": "3.10.13"
  }
 },
 "nbformat": 4,
 "nbformat_minor": 5
}
