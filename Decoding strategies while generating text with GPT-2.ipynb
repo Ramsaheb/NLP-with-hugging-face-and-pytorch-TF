{
 "cells": [
  {
   "cell_type": "code",
   "execution_count": 1,
   "metadata": {},
   "outputs": [],
   "source": [
    "import torch\n",
    "from transformers import AutoTokenizer, AutoModelForCausalLM\n",
    "\n",
    "device = 'cuda' if torch.cuda.is_available() else 'cpu'\n",
    "\n",
    "model_name = 'gpt2-medium'\n",
    "\n",
    "tokenizer = AutoTokenizer.from_pretrained(model_name)\n",
    "model = AutoModelForCausalLM.from_pretrained(model_name).to(device)"
   ]
  },
  {
   "cell_type": "code",
   "execution_count": 3,
   "metadata": {},
   "outputs": [
    {
     "name": "stdout",
     "output_type": "stream",
     "text": [
      "                                               Input  \\\n",
      "0                                    Bitcoin will be   \n",
      "1                                Bitcoin will be the   \n",
      "2                          Bitcoin will be the first   \n",
      "3           Bitcoin will be the first cryptocurrency   \n",
      "4        Bitcoin will be the first cryptocurrency to   \n",
      "5     Bitcoin will be the first cryptocurrency to be   \n",
      "6  Bitcoin will be the first cryptocurrency to be...   \n",
      "7  Bitcoin will be the first cryptocurrency to be...   \n",
      "\n",
      "                   choice 1           choice 2           choice 3  \\\n",
      "0              the (10.88%)          a (8.09%)       used (3.84%)   \n",
      "1             first (9.30%)       most (5.43%)       next (5.40%)   \n",
      "2   cryptocurrency (12.49%)         to (8.87%)   currency (7.59%)   \n",
      "3               to (51.52%)       that (9.00%)       with (3.00%)   \n",
      "4                be (8.03%)       have (6.58%)      reach (3.63%)   \n",
      "5            listed (5.83%)   accepted (3.71%)     backed (3.19%)   \n",
      "6               on (76.07%)         in (8.06%)         by (2.82%)   \n",
      "7              the (36.40%)          a (9.31%)        Nas (7.07%)   \n",
      "\n",
      "            choice 4            choice 5  \n",
      "0       able (2.94%)          an (1.46%)  \n",
      "1   currency (4.40%)         new (3.12%)  \n",
      "2    digital (6.98%)       major (6.23%)  \n",
      "3          , (2.95%)          in (1.99%)  \n",
      "4        use (2.96%)     achieve (2.92%)  \n",
      "5   launched (3.19%)    released (3.01%)  \n",
      "6        and (2.08%)          as (1.84%)  \n",
      "7         an (5.18%)   exchanges (3.12%)  \n"
     ]
    }
   ],
   "source": [
    "time_steps = 8\n",
    "choices_per_step = 5\n",
    "\n",
    "def get_next_token_greedy_search(input_txt, input_ids):\n",
    "    iterations = []  # Initialize list to store results\n",
    "\n",
    "    with torch.no_grad():\n",
    "        for _ in range(time_steps):\n",
    "            iteration_dict = dict()  # Store results for each step\n",
    "            iteration_dict['Input'] = tokenizer.decode(input_ids[0])\n",
    "\n",
    "            output = model(input_ids)\n",
    "            next_token_logits = output.logits[0, -1, :]\n",
    "\n",
    "            # Convert logits to probabilities\n",
    "            next_token_probabilities = torch.softmax(next_token_logits, dim=-1)\n",
    "\n",
    "            # Sort indices by probability in descending order\n",
    "            sorted_indices_of_next_token_proba = torch.argsort(next_token_probabilities, descending=True)\n",
    "\n",
    "            for choice_idx in range(choices_per_step):\n",
    "                token_index_sorted = sorted_indices_of_next_token_proba[choice_idx]\n",
    "                token_proba = next_token_probabilities[token_index_sorted].detach().cpu().numpy()\n",
    "\n",
    "                token_choice = f'{tokenizer.decode([token_index_sorted])} ({100 * token_proba:.2f}%)'\n",
    "\n",
    "                iteration_dict[f'choice {choice_idx + 1}'] = token_choice\n",
    "\n",
    "            iterations.append(iteration_dict)  # Append dictionary to list\n",
    "\n",
    "            # Update input_ids with the most probable token (greedy choice)\n",
    "            most_probable_token = sorted_indices_of_next_token_proba[0].unsqueeze(0)\n",
    "            input_ids = torch.cat([input_ids, most_probable_token.unsqueeze(0)], dim=-1)\n",
    "\n",
    "    return pd.DataFrame(iterations)\n",
    "\n",
    "# Example Usage:\n",
    "input_txt = 'Bitcoin will be'\n",
    "input_ids = tokenizer(input_txt, return_tensors='pt')['input_ids'].to(device)\n",
    "\n",
    "df = get_next_token_greedy_search(input_txt, input_ids)\n",
    "print(df)"
   ]
  },
  {
   "cell_type": "code",
   "execution_count": 4,
   "metadata": {},
   "outputs": [
    {
     "name": "stderr",
     "output_type": "stream",
     "text": [
      "The attention mask and the pad token id were not set. As a consequence, you may observe unexpected behavior. Please pass your input's `attention_mask` to obtain reliable results.\n",
      "Setting `pad_token_id` to `eos_token_id`:50256 for open-end generation.\n",
      "The attention mask is not set and cannot be inferred from input because pad token is same as eos token. As a consequence, you may observe unexpected behavior. Please pass your input's `attention_mask` to obtain reliable results.\n"
     ]
    },
    {
     "name": "stdout",
     "output_type": "stream",
     "text": [
      "Bitcoin will be the first cryptocurrency to be listed on the\n"
     ]
    }
   ],
   "source": [
    "input_ids = tokenizer(input_txt, return_tensors='pt')['input_ids'].to(device)\n",
    "output = model.generate(input_ids, max_new_tokens=time_steps, do_sample=False)\n",
    "print(tokenizer.decode(output[0]))"
   ]
  },
  {
   "cell_type": "code",
   "execution_count": 10,
   "metadata": {},
   "outputs": [
    {
     "name": "stderr",
     "output_type": "stream",
     "text": [
      "The attention mask and the pad token id were not set. As a consequence, you may observe unexpected behavior. Please pass your input's `attention_mask` to obtain reliable results.\n",
      "Setting `pad_token_id` to `eos_token_id`:50256 for open-end generation.\n"
     ]
    },
    {
     "name": "stdout",
     "output_type": "stream",
     "text": [
      "Artificial intelligence is transforming the way we think about the world.\n"
     ]
    }
   ],
   "source": [
    "input_txt = 'Artificial intelligence is transforming'\n",
    "max_length = 128\n",
    "input_ids = tokenizer(input_txt, return_tensors='pt')['input_ids'].to(device)\n",
    "output_greedy = model.generate(input_ids, max_new_tokens=time_steps, do_sample=False)\n",
    "print(tokenizer.decode(output_greedy[0]))"
   ]
  },
  {
   "cell_type": "markdown",
   "metadata": {},
   "source": [
    "# beam search decoding"
   ]
  },
  {
   "cell_type": "code",
   "execution_count": 15,
   "metadata": {},
   "outputs": [],
   "source": [
    "import torch.nn.functional as F\n",
    "\n",
    "def get_log_probs_from_logits_from_single_token(logits, labels):\n",
    "    logp = F.log_softmax(logits, dim=-1)  # Shape: (batch_size, seq_length, vocab_size)\n",
    "    logp_label = torch.gather(logp, 2, labels.unsqueeze(-1)).squeeze(-1)  # Match dimensions\n",
    "    return logp_label\n"
   ]
  },
  {
   "cell_type": "code",
   "execution_count": 16,
   "metadata": {},
   "outputs": [],
   "source": [
    "def sequence_logprob(model, labels, input_len=0):\n",
    "    with torch.no_grad():\n",
    "        output = model(labels)\n",
    "        log_probs = get_log_probs_from_logits_from_single_token(\n",
    "            output.logits[:, :-1, :], labels[:, 1:]\n",
    "        )\n",
    "        seq_log_prob = torch.sum(log_probs[:, input_len:])\n",
    "    return seq_log_prob"
   ]
  },
  {
   "cell_type": "code",
   "execution_count": 17,
   "metadata": {},
   "outputs": [
    {
     "name": "stdout",
     "output_type": "stream",
     "text": [
      "Artificial intelligence is transforming the way we think about the world.\n",
      "log-prob: -8.80\n"
     ]
    }
   ],
   "source": [
    "logp = sequence_logprob(model, output_greedy, input_len=len(input_ids[0]))\n",
    "print(tokenizer.decode(output_greedy[0]))\n",
    "print(f'log-prob: {logp:.2f}')"
   ]
  },
  {
   "cell_type": "code",
   "execution_count": 18,
   "metadata": {},
   "outputs": [
    {
     "data": {
      "text/plain": [
       "tensor([[ 8001,  9542,  4430,   318, 25449,   262,   835,   356,   892,   546,\n",
       "           262,   995,    13]], device='cuda:0')"
      ]
     },
     "execution_count": 18,
     "metadata": {},
     "output_type": "execute_result"
    }
   ],
   "source": [
    "output_greedy"
   ]
  },
  {
   "cell_type": "code",
   "execution_count": 19,
   "metadata": {},
   "outputs": [
    {
     "name": "stderr",
     "output_type": "stream",
     "text": [
      "The attention mask and the pad token id were not set. As a consequence, you may observe unexpected behavior. Please pass your input's `attention_mask` to obtain reliable results.\n",
      "Setting `pad_token_id` to `eos_token_id`:50256 for open-end generation.\n"
     ]
    },
    {
     "name": "stdout",
     "output_type": "stream",
     "text": [
      "Artificial intelligence is transforming the way we interact with the world, and it's changing the way we think about the world. It's changing the way we think about ourselves, and it's changing the way we think about the world.\n",
      "\n",
      "It's changing the way we think about ourselves, and it's changing the way we think about the world.\n",
      "\n",
      "It's changing the way we think about ourselves, and it's changing the way we think about the world.\n",
      "\n",
      "It's changing the way we think about ourselves, and it's changing the way we think about the world.\n",
      "\n",
      "It's changing the way we think\n",
      "\n",
      " log-prob: -61.06\n"
     ]
    }
   ],
   "source": [
    "output_beam = model.generate(input_ids, max_length=max_length, num_beams=5, do_sample=False)\n",
    "logp = sequence_logprob(model, output_beam, input_len=len(input_ids[0]))\n",
    "print(tokenizer.decode(output_beam[0]))\n",
    "print(f'\\n log-prob: {logp:.2f}')"
   ]
  },
  {
   "cell_type": "markdown",
   "metadata": {},
   "source": [
    "# random sampling with temperature \n",
    "**sampling based family of techniques aims to increasing the diversity if the output and avoiding repeatations by introducing stochastic decisions during the generation process**"
   ]
  },
  {
   "cell_type": "code",
   "execution_count": 21,
   "metadata": {},
   "outputs": [
    {
     "data": {
      "image/png": "[encoded data removed]",
      "text/plain": [
       "<Figure size 640x480 with 1 Axes>"
      ]
     },
     "metadata": {},
     "output_type": "display_data"
    }
   ],
   "source": [
    "import matplotlib.pyplot as plt\n",
    "import numpy as np\n",
    "\n",
    "def softmax(logits, T=1):\n",
    "    e_x = np.exp(logits / T)\n",
    "    return e_x / e_x.sum()\n",
    "\n",
    "logits = np.exp(np.random.random(1000))\n",
    "sorted_logits = np.sort(logits)[::-1]\n",
    "x = np.arange(1000)\n",
    "for T in [0.5, 1.0, 2.0]:\n",
    "    plt.step(x, softmax(sorted_logits, T), label=f'T={T}')\n",
    "\n",
    "plt.legend(loc='best')\n",
    "plt.xlabel('sorted token probs')\n",
    "plt.ylabel('probabilities')\n",
    "plt.show()"
   ]
  },
  {
   "cell_type": "code",
   "execution_count": 24,
   "metadata": {},
   "outputs": [
    {
     "name": "stderr",
     "output_type": "stream",
     "text": [
      "The attention mask and the pad token id were not set. As a consequence, you may observe unexpected behavior. Please pass your input's `attention_mask` to obtain reliable results.\n",
      "Setting `pad_token_id` to `eos_token_id`:50256 for open-end generation.\n"
     ]
    },
    {
     "name": "stdout",
     "output_type": "stream",
     "text": [
      "Artificial intelligence is transforming the way we interact with computers, making it possible to communicate with machines, predict events, and even perform everyday tasks.\n",
      "\n",
      "But it's also creating a new class of artificial intelligence that is able to learn and adapt to new environments.\n",
      "\n",
      "In a paper published in the journal Current Biology, researchers at MIT and the University of California, Berkeley, describe a new class of artificial intelligence that can learn and adapt to the environment.\n",
      "\n",
      "\"It is very exciting,\" said co-author and MIT professor of computer science and engineering, Andrew Ng. \"It's the first time you have this kind of intelligent\n"
     ]
    }
   ],
   "source": [
    "output_temp = model.generate(input_ids, max_length=max_length, do_sample=True, temperature=0.5, top_k=0)\n",
    "print(tokenizer.decode(output_temp[0]))"
   ]
  },
  {
   "cell_type": "markdown",
   "metadata": {},
   "source": [
    "# top-k and nucleus sampling"
   ]
  },
  {
   "cell_type": "code",
   "execution_count": 25,
   "metadata": {},
   "outputs": [
    {
     "name": "stderr",
     "output_type": "stream",
     "text": [
      "The attention mask and the pad token id were not set. As a consequence, you may observe unexpected behavior. Please pass your input's `attention_mask` to obtain reliable results.\n",
      "Setting `pad_token_id` to `eos_token_id`:50256 for open-end generation.\n"
     ]
    },
    {
     "name": "stdout",
     "output_type": "stream",
     "text": [
      "Artificial intelligence is transforming our lives, but it's also changing the way we think about the world.\n",
      "\n",
      "As AI gets smarter, it's changing the way we think about the world. It's changing how we think about how we live.\n",
      "\n",
      "The question is, how do we change our mindsets so that we can move forward with the same goals we've always had?\n",
      "\n",
      "Here are five ways AI is changing the way we think about the world.\n",
      "\n",
      "1. We're changing our brains\n",
      "\n",
      "We've all been taught that we're smarter than we really are. But when it comes to the brain,\n"
     ]
    }
   ],
   "source": [
    "output_temp = model.generate(input_ids, max_length=max_length, do_sample=True, temperature=0.5, top_k=50)\n",
    "print(tokenizer.decode(output_temp[0]))"
   ]
  },
  {
   "cell_type": "markdown",
   "metadata": {},
   "source": [
    "# top p"
   ]
  },
  {
   "cell_type": "code",
   "execution_count": 26,
   "metadata": {},
   "outputs": [
    {
     "name": "stderr",
     "output_type": "stream",
     "text": [
      "The attention mask and the pad token id were not set. As a consequence, you may observe unexpected behavior. Please pass your input's `attention_mask` to obtain reliable results.\n",
      "Setting `pad_token_id` to `eos_token_id`:50256 for open-end generation.\n"
     ]
    },
    {
     "name": "stdout",
     "output_type": "stream",
     "text": [
      "Artificial intelligence is transforming how we think about the world. We are already seeing the effects of this transformation in the way we interact with the world.\n",
      "\n",
      "For example, artificial intelligence is transforming how we think about the world. We are already seeing the effects of this transformation in the way we interact with the world. We are creating a new type of communication: \"text-to-speech.\" We are creating a new type of communication: \"text-to-speech.\"\n",
      "\n",
      "We are creating a new type of communication: \"text-to-speech.\" We are creating a new type of communication: \"text-to-\n"
     ]
    }
   ],
   "source": [
    "output_temp = model.generate(input_ids, max_length=max_length, do_sample=True, temperature=0.5, top_p=0.90)\n",
    "print(tokenizer.decode(output_temp[0]))"
   ]
  },
  {
   "cell_type": "code",
   "execution_count": null,
   "metadata": {},
   "outputs": [],
   "source": []
  }
 ],
 "metadata": {
  "kernelspec": {
   "display_name": "Itachi",
   "language": "python",
   "name": "python3"
  },
  "language_info": {
   "codemirror_mode": {
    "name": "ipython",
    "version": 3
   },
   "file_extension": ".py",
   "mimetype": "text/x-python",
   "name": "python",
   "nbconvert_exporter": "python",
   "pygments_lexer": "ipython3",
   "version": "3.10.13"
  }
 },
 "nbformat": 4,
 "nbformat_minor": 2
}
