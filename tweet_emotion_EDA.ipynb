{
 "cells": [
  {
   "cell_type": "code",
   "execution_count": 1,
   "metadata": {},
   "outputs": [],
   "source": [
    "import pandas as pd\n",
    "import numpy as np\n",
    "import seaborn as sns\n",
    "import matplotlib.pyplot as plt\n",
    "import plotly.express as px\n",
    "import plotly.graph_objects as go\n",
    "import nltk\n",
    "from nltk.tokenize import word_tokenize\n",
    "from nltk.corpus import stopwords\n",
    "from nltk.stem import WordNetLemmatizer\n",
    "from transformers import pipeline\n",
    "from wordcloud import WordCloud\n",
    "from datasets import get_dataset_config_names, load_dataset\n"
   ]
  },
  {
   "cell_type": "code",
   "execution_count": 2,
   "metadata": {},
   "outputs": [
    {
     "name": "stderr",
     "output_type": "stream",
     "text": [
      "No model was supplied, defaulted to distilbert/distilbert-base-uncased-finetuned-sst-2-english and revision 714eb0f (https://huggingface.co/distilbert/distilbert-base-uncased-finetuned-sst-2-english).\n",
      "Using a pipeline without specifying a model name and revision in production is not recommended.\n",
      "Device set to use cuda:0\n"
     ]
    },
    {
     "data": {
      "text/html": [
       "<div>\n",
       "<style scoped>\n",
       "    .dataframe tbody tr th:only-of-type {\n",
       "        vertical-align: middle;\n",
       "    }\n",
       "\n",
       "    .dataframe tbody tr th {\n",
       "        vertical-align: top;\n",
       "    }\n",
       "\n",
       "    .dataframe thead th {\n",
       "        text-align: right;\n",
       "    }\n",
       "</style>\n",
       "<table border=\"1\" class=\"dataframe\">\n",
       "  <thead>\n",
       "    <tr style=\"text-align: right;\">\n",
       "      <th></th>\n",
       "      <th>label</th>\n",
       "      <th>score</th>\n",
       "    </tr>\n",
       "  </thead>\n",
       "  <tbody>\n",
       "    <tr>\n",
       "      <th>0</th>\n",
       "      <td>POSITIVE</td>\n",
       "      <td>0.999885</td>\n",
       "    </tr>\n",
       "  </tbody>\n",
       "</table>\n",
       "</div>"
      ],
      "text/plain": [
       "      label     score\n",
       "0  POSITIVE  0.999885"
      ]
     },
     "execution_count": 2,
     "metadata": {},
     "output_type": "execute_result"
    }
   ],
   "source": [
    "text = \"I absolutely loved this series! The storytelling was engaging, the characters were well-developed, and the cinematography was stunning. Each episode kept me hooked, and I couldn't stop binge-watching. Highly recommended!\"\n",
    "\n",
    "classifier = pipeline('text-classification')\n",
    "\n",
    "text_class = classifier(text)\n",
    "\n",
    "pd.DataFrame(text_class)"
   ]
  },
  {
   "cell_type": "code",
   "execution_count": 3,
   "metadata": {},
   "outputs": [
    {
     "name": "stdout",
     "output_type": "stream",
     "text": [
      "['ax', 'cola', 'mnli', 'mnli_matched', 'mnli_mismatched', 'mrpc', 'qnli', 'qqp', 'rte', 'sst2', 'stsb', 'wnli']\n"
     ]
    }
   ],
   "source": [
    "dataset_names = get_dataset_config_names(\"glue\")\n",
    "print(dataset_names)"
   ]
  },
  {
   "cell_type": "code",
   "execution_count": 4,
   "metadata": {},
   "outputs": [
    {
     "name": "stdout",
     "output_type": "stream",
     "text": [
      "DatasetDict({\n",
      "    train: Dataset({\n",
      "        features: ['text', 'label'],\n",
      "        num_rows: 16000\n",
      "    })\n",
      "    validation: Dataset({\n",
      "        features: ['text', 'label'],\n",
      "        num_rows: 2000\n",
      "    })\n",
      "    test: Dataset({\n",
      "        features: ['text', 'label'],\n",
      "        num_rows: 2000\n",
      "    })\n",
      "})\n"
     ]
    }
   ],
   "source": [
    "emotions = load_dataset('emotion')  # Example: Load sentiment dataset\n",
    "print(emotions)"
   ]
  },
  {
   "cell_type": "code",
   "execution_count": 5,
   "metadata": {},
   "outputs": [
    {
     "data": {
      "text/plain": [
       "Dataset({\n",
       "    features: ['text', 'label'],\n",
       "    num_rows: 16000\n",
       "})"
      ]
     },
     "execution_count": 5,
     "metadata": {},
     "output_type": "execute_result"
    }
   ],
   "source": [
    "train_ds = emotions['train']\n",
    "train_ds"
   ]
  },
  {
   "cell_type": "code",
   "execution_count": 6,
   "metadata": {},
   "outputs": [
    {
     "data": {
      "text/plain": [
       "['sadness', 'joy', 'love', 'anger', 'fear', 'surprise']"
      ]
     },
     "execution_count": 6,
     "metadata": {},
     "output_type": "execute_result"
    }
   ],
   "source": [
    "label_names = emotions['train'].features['label'].names\n",
    "label_names"
   ]
  },
  {
   "cell_type": "code",
   "execution_count": 7,
   "metadata": {},
   "outputs": [
    {
     "name": "stdout",
     "output_type": "stream",
     "text": [
      "16000\n",
      "{'text': 'i didnt feel humiliated', 'label': 0}\n",
      "['text', 'label']\n"
     ]
    }
   ],
   "source": [
    "print(len(train_ds))\n",
    "\n",
    "print(train_ds[0])\n",
    "print(train_ds.column_names)"
   ]
  },
  {
   "cell_type": "code",
   "execution_count": 8,
   "metadata": {},
   "outputs": [
    {
     "data": {
      "text/html": [
       "<div>\n",
       "<style scoped>\n",
       "    .dataframe tbody tr th:only-of-type {\n",
       "        vertical-align: middle;\n",
       "    }\n",
       "\n",
       "    .dataframe tbody tr th {\n",
       "        vertical-align: top;\n",
       "    }\n",
       "\n",
       "    .dataframe thead th {\n",
       "        text-align: right;\n",
       "    }\n",
       "</style>\n",
       "<table border=\"1\" class=\"dataframe\">\n",
       "  <thead>\n",
       "    <tr style=\"text-align: right;\">\n",
       "      <th></th>\n",
       "      <th>text</th>\n",
       "      <th>label</th>\n",
       "    </tr>\n",
       "  </thead>\n",
       "  <tbody>\n",
       "    <tr>\n",
       "      <th>0</th>\n",
       "      <td>i didnt feel humiliated</td>\n",
       "      <td>0</td>\n",
       "    </tr>\n",
       "    <tr>\n",
       "      <th>1</th>\n",
       "      <td>i can go from feeling so hopeless to so damned...</td>\n",
       "      <td>0</td>\n",
       "    </tr>\n",
       "    <tr>\n",
       "      <th>2</th>\n",
       "      <td>im grabbing a minute to post i feel greedy wrong</td>\n",
       "      <td>3</td>\n",
       "    </tr>\n",
       "    <tr>\n",
       "      <th>3</th>\n",
       "      <td>i am ever feeling nostalgic about the fireplac...</td>\n",
       "      <td>2</td>\n",
       "    </tr>\n",
       "    <tr>\n",
       "      <th>4</th>\n",
       "      <td>i am feeling grouchy</td>\n",
       "      <td>3</td>\n",
       "    </tr>\n",
       "  </tbody>\n",
       "</table>\n",
       "</div>"
      ],
      "text/plain": [
       "                                                text  label\n",
       "0                            i didnt feel humiliated      0\n",
       "1  i can go from feeling so hopeless to so damned...      0\n",
       "2   im grabbing a minute to post i feel greedy wrong      3\n",
       "3  i am ever feeling nostalgic about the fireplac...      2\n",
       "4                               i am feeling grouchy      3"
      ]
     },
     "execution_count": 8,
     "metadata": {},
     "output_type": "execute_result"
    }
   ],
   "source": [
    "train = pd.DataFrame(train_ds)\n",
    "train.head()"
   ]
  },
  {
   "cell_type": "code",
   "execution_count": 11,
   "metadata": {},
   "outputs": [
    {
     "data": {
      "text/html": [
       "<div>\n",
       "<style scoped>\n",
       "    .dataframe tbody tr th:only-of-type {\n",
       "        vertical-align: middle;\n",
       "    }\n",
       "\n",
       "    .dataframe tbody tr th {\n",
       "        vertical-align: top;\n",
       "    }\n",
       "\n",
       "    .dataframe thead th {\n",
       "        text-align: right;\n",
       "    }\n",
       "</style>\n",
       "<table border=\"1\" class=\"dataframe\">\n",
       "  <thead>\n",
       "    <tr style=\"text-align: right;\">\n",
       "      <th></th>\n",
       "      <th>text</th>\n",
       "      <th>label</th>\n",
       "    </tr>\n",
       "  </thead>\n",
       "  <tbody>\n",
       "    <tr>\n",
       "      <th>15995</th>\n",
       "      <td>i just had a very brief time in the beanbag an...</td>\n",
       "      <td>0</td>\n",
       "    </tr>\n",
       "    <tr>\n",
       "      <th>15996</th>\n",
       "      <td>i am now turning and i feel pathetic that i am...</td>\n",
       "      <td>0</td>\n",
       "    </tr>\n",
       "    <tr>\n",
       "      <th>15997</th>\n",
       "      <td>i feel strong and good overall</td>\n",
       "      <td>1</td>\n",
       "    </tr>\n",
       "    <tr>\n",
       "      <th>15998</th>\n",
       "      <td>i feel like this was such a rude comment and i...</td>\n",
       "      <td>3</td>\n",
       "    </tr>\n",
       "    <tr>\n",
       "      <th>15999</th>\n",
       "      <td>i know a lot but i feel so stupid because i ca...</td>\n",
       "      <td>0</td>\n",
       "    </tr>\n",
       "  </tbody>\n",
       "</table>\n",
       "</div>"
      ],
      "text/plain": [
       "                                                    text  label\n",
       "15995  i just had a very brief time in the beanbag an...      0\n",
       "15996  i am now turning and i feel pathetic that i am...      0\n",
       "15997                     i feel strong and good overall      1\n",
       "15998  i feel like this was such a rude comment and i...      3\n",
       "15999  i know a lot but i feel so stupid because i ca...      0"
      ]
     },
     "metadata": {},
     "output_type": "display_data"
    },
    {
     "data": {
      "text/html": [
       "<div>\n",
       "<style scoped>\n",
       "    .dataframe tbody tr th:only-of-type {\n",
       "        vertical-align: middle;\n",
       "    }\n",
       "\n",
       "    .dataframe tbody tr th {\n",
       "        vertical-align: top;\n",
       "    }\n",
       "\n",
       "    .dataframe thead th {\n",
       "        text-align: right;\n",
       "    }\n",
       "</style>\n",
       "<table border=\"1\" class=\"dataframe\">\n",
       "  <thead>\n",
       "    <tr style=\"text-align: right;\">\n",
       "      <th></th>\n",
       "      <th>text</th>\n",
       "      <th>label</th>\n",
       "      <th>label_name</th>\n",
       "    </tr>\n",
       "  </thead>\n",
       "  <tbody>\n",
       "    <tr>\n",
       "      <th>0</th>\n",
       "      <td>i didnt feel humiliated</td>\n",
       "      <td>0</td>\n",
       "      <td>sadness</td>\n",
       "    </tr>\n",
       "    <tr>\n",
       "      <th>1</th>\n",
       "      <td>i can go from feeling so hopeless to so damned...</td>\n",
       "      <td>0</td>\n",
       "      <td>sadness</td>\n",
       "    </tr>\n",
       "    <tr>\n",
       "      <th>2</th>\n",
       "      <td>im grabbing a minute to post i feel greedy wrong</td>\n",
       "      <td>3</td>\n",
       "      <td>anger</td>\n",
       "    </tr>\n",
       "    <tr>\n",
       "      <th>3</th>\n",
       "      <td>i am ever feeling nostalgic about the fireplac...</td>\n",
       "      <td>2</td>\n",
       "      <td>love</td>\n",
       "    </tr>\n",
       "    <tr>\n",
       "      <th>4</th>\n",
       "      <td>i am feeling grouchy</td>\n",
       "      <td>3</td>\n",
       "      <td>anger</td>\n",
       "    </tr>\n",
       "  </tbody>\n",
       "</table>\n",
       "</div>"
      ],
      "text/plain": [
       "                                                text  label label_name\n",
       "0                            i didnt feel humiliated      0    sadness\n",
       "1  i can go from feeling so hopeless to so damned...      0    sadness\n",
       "2   im grabbing a minute to post i feel greedy wrong      3      anger\n",
       "3  i am ever feeling nostalgic about the fireplac...      2       love\n",
       "4                               i am feeling grouchy      3      anger"
      ]
     },
     "metadata": {},
     "output_type": "display_data"
    }
   ],
   "source": [
    "emotions.set_format(type='pandas')\n",
    "\n",
    "df = emotions['train'][:]\n",
    "display(df.tail())\n",
    "\n",
    "def label_int2str(row):\n",
    "    return emotions['train'].features['label'].int2str(row)\n",
    "\n",
    "df['label_name'] = df['label'].apply(label_int2str)\n",
    "\n",
    "display(df.head())"
   ]
  },
  {
   "cell_type": "code",
   "execution_count": 12,
   "metadata": {},
   "outputs": [
    {
     "data": {
      "image/png": "[encoded data removed]",
      "text/plain": [
       "<Figure size 640x480 with 1 Axes>"
      ]
     },
     "metadata": {},
     "output_type": "display_data"
    }
   ],
   "source": [
    "df['label_name'].value_counts(ascending=True).plot.barh()\n",
    "plt.title('frequency of classes')\n",
    "plt.show()"
   ]
  },
  {
   "cell_type": "markdown",
   "metadata": {},
   "source": [
    "## plotly visualization from the emotion train DF"
   ]
  },
  {
   "cell_type": "code",
   "execution_count": 13,
   "metadata": {},
   "outputs": [
    {
     "data": {
      "application/vnd.plotly.v1+json": {
       "config": {
        "plotlyServerURL": "https://plot.ly"
       },
       "data": [
        {
         "bingroup": "x",
         "hovertemplate": "variable=length_of_text<br>lenght_of_the_text=%{x}<br>count=%{y}<extra></extra>",
         "legendgroup": "length_of_text",
         "marker": {
          "color": "#636efa",
          "line": {
           "color": "#000000",
           "width": 2
          },
          "pattern": {
           "shape": ""
          }
         },
         "name": "length_of_text",
         "orientation": "v",
         "showlegend": true,
         "type": "histogram",
         "x": {
          "bdata": "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",
          "dtype": "i1"
         },
         "xaxis": "x",
         "yaxis": "y"
        },
        {
         "hovertemplate": "variable=length_of_text<br>lenght_of_the_text=%{x}<extra></extra>",
         "legendgroup": "length_of_text",
         "marker": {
          "color": "#636efa",
          "line": {
           "color": "#000000",
           "width": 2
          }
         },
         "name": "length_of_text",
         "notched": true,
         "showlegend": false,
         "type": "box",
         "x": {
          "bdata": "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",
          "dtype": "i1"
         },
         "xaxis": "x2",
         "yaxis": "y2"
        }
       ],
       "layout": {
        "barmode": "relative",
        "legend": {
         "title": {
          "text": "variable"
         },
         "tracegroupgap": 0
        },
        "margin": {
         "t": 60
        },
        "template": {
         "data": {
          "bar": [
           {
            "error_x": {
             "color": "#2a3f5f"
            },
            "error_y": {
             "color": "#2a3f5f"
            },
            "marker": {
             "line": {
              "color": "#E5ECF6",
              "width": 0.5
             },
             "pattern": {
              "fillmode": "overlay",
              "size": 10,
              "solidity": 0.2
             }
            },
            "type": "bar"
           }
          ],
          "barpolar": [
           {
            "marker": {
             "line": {
              "color": "#E5ECF6",
              "width": 0.5
             },
             "pattern": {
              "fillmode": "overlay",
              "size": 10,
              "solidity": 0.2
             }
            },
            "type": "barpolar"
           }
          ],
          "carpet": [
           {
            "aaxis": {
             "endlinecolor": "#2a3f5f",
             "gridcolor": "white",
             "linecolor": "white",
             "minorgridcolor": "white",
             "startlinecolor": "#2a3f5f"
            },
            "baxis": {
             "endlinecolor": "#2a3f5f",
             "gridcolor": "white",
             "linecolor": "white",
             "minorgridcolor": "white",
             "startlinecolor": "#2a3f5f"
            },
            "type": "carpet"
           }
          ],
          "choropleth": [
           {
            "colorbar": {
             "outlinewidth": 0,
             "ticks": ""
            },
            "type": "choropleth"
           }
          ],
          "contour": [
           {
            "colorbar": {
             "outlinewidth": 0,
             "ticks": ""
            },
            "colorscale": [
             [
              0,
              "#0d0887"
             ],
             [
              0.1111111111111111,
              "#46039f"
             ],
             [
              0.2222222222222222,
              "#7201a8"
             ],
             [
              0.3333333333333333,
              "#9c179e"
             ],
             [
              0.4444444444444444,
              "#bd3786"
             ],
             [
              0.5555555555555556,
              "#d8576b"
             ],
             [
              0.6666666666666666,
              "#ed7953"
             ],
             [
              0.7777777777777778,
              "#fb9f3a"
             ],
             [
              0.8888888888888888,
              "#fdca26"
             ],
             [
              1,
              "#f0f921"
             ]
            ],
            "type": "contour"
           }
          ],
          "contourcarpet": [
           {
            "colorbar": {
             "outlinewidth": 0,
             "ticks": ""
            },
            "type": "contourcarpet"
           }
          ],
          "heatmap": [
           {
            "colorbar": {
             "outlinewidth": 0,
             "ticks": ""
            },
            "colorscale": [
             [
              0,
              "#0d0887"
             ],
             [
              0.1111111111111111,
              "#46039f"
             ],
             [
              0.2222222222222222,
              "#7201a8"
             ],
             [
              0.3333333333333333,
              "#9c179e"
             ],
             [
              0.4444444444444444,
              "#bd3786"
             ],
             [
              0.5555555555555556,
              "#d8576b"
             ],
             [
              0.6666666666666666,
              "#ed7953"
             ],
             [
              0.7777777777777778,
              "#fb9f3a"
             ],
             [
              0.8888888888888888,
              "#fdca26"
             ],
             [
              1,
              "#f0f921"
             ]
            ],
            "type": "heatmap"
           }
          ],
          "histogram": [
           {
            "marker": {
             "pattern": {
              "fillmode": "overlay",
              "size": 10,
              "solidity": 0.2
             }
            },
            "type": "histogram"
           }
          ],
          "histogram2d": [
           {
            "colorbar": {
             "outlinewidth": 0,
             "ticks": ""
            },
            "colorscale": [
             [
              0,
              "#0d0887"
             ],
             [
              0.1111111111111111,
              "#46039f"
             ],
             [
              0.2222222222222222,
              "#7201a8"
             ],
             [
              0.3333333333333333,
              "#9c179e"
             ],
             [
              0.4444444444444444,
              "#bd3786"
             ],
             [
              0.5555555555555556,
              "#d8576b"
             ],
             [
              0.6666666666666666,
              "#ed7953"
             ],
             [
              0.7777777777777778,
              "#fb9f3a"
             ],
             [
              0.8888888888888888,
              "#fdca26"
             ],
             [
              1,
              "#f0f921"
             ]
            ],
            "type": "histogram2d"
           }
          ],
          "histogram2dcontour": [
           {
            "colorbar": {
             "outlinewidth": 0,
             "ticks": ""
            },
            "colorscale": [
             [
              0,
              "#0d0887"
             ],
             [
              0.1111111111111111,
              "#46039f"
             ],
             [
              0.2222222222222222,
              "#7201a8"
             ],
             [
              0.3333333333333333,
              "#9c179e"
             ],
             [
              0.4444444444444444,
              "#bd3786"
             ],
             [
              0.5555555555555556,
              "#d8576b"
             ],
             [
              0.6666666666666666,
              "#ed7953"
             ],
             [
              0.7777777777777778,
              "#fb9f3a"
             ],
             [
              0.8888888888888888,
              "#fdca26"
             ],
             [
              1,
              "#f0f921"
             ]
            ],
            "type": "histogram2dcontour"
           }
          ],
          "mesh3d": [
           {
            "colorbar": {
             "outlinewidth": 0,
             "ticks": ""
            },
            "type": "mesh3d"
           }
          ],
          "parcoords": [
           {
            "line": {
             "colorbar": {
              "outlinewidth": 0,
              "ticks": ""
             }
            },
            "type": "parcoords"
           }
          ],
          "pie": [
           {
            "automargin": true,
            "type": "pie"
           }
          ],
          "scatter": [
           {
            "fillpattern": {
             "fillmode": "overlay",
             "size": 10,
             "solidity": 0.2
            },
            "type": "scatter"
           }
          ],
          "scatter3d": [
           {
            "line": {
             "colorbar": {
              "outlinewidth": 0,
              "ticks": ""
             }
            },
            "marker": {
             "colorbar": {
              "outlinewidth": 0,
              "ticks": ""
             }
            },
            "type": "scatter3d"
           }
          ],
          "scattercarpet": [
           {
            "marker": {
             "colorbar": {
              "outlinewidth": 0,
              "ticks": ""
             }
            },
            "type": "scattercarpet"
           }
          ],
          "scattergeo": [
           {
            "marker": {
             "colorbar": {
              "outlinewidth": 0,
              "ticks": ""
             }
            },
            "type": "scattergeo"
           }
          ],
          "scattergl": [
           {
            "marker": {
             "colorbar": {
              "outlinewidth": 0,
              "ticks": ""
             }
            },
            "type": "scattergl"
           }
          ],
          "scattermap": [
           {
            "marker": {
             "colorbar": {
              "outlinewidth": 0,
              "ticks": ""
             }
            },
            "type": "scattermap"
           }
          ],
          "scattermapbox": [
           {
            "marker": {
             "colorbar": {
              "outlinewidth": 0,
              "ticks": ""
             }
            },
            "type": "scattermapbox"
           }
          ],
          "scatterpolar": [
           {
            "marker": {
             "colorbar": {
              "outlinewidth": 0,
              "ticks": ""
             }
            },
            "type": "scatterpolar"
           }
          ],
          "scatterpolargl": [
           {
            "marker": {
             "colorbar": {
              "outlinewidth": 0,
              "ticks": ""
             }
            },
            "type": "scatterpolargl"
           }
          ],
          "scatterternary": [
           {
            "marker": {
             "colorbar": {
              "outlinewidth": 0,
              "ticks": ""
             }
            },
            "type": "scatterternary"
           }
          ],
          "surface": [
           {
            "colorbar": {
             "outlinewidth": 0,
             "ticks": ""
            },
            "colorscale": [
             [
              0,
              "#0d0887"
             ],
             [
              0.1111111111111111,
              "#46039f"
             ],
             [
              0.2222222222222222,
              "#7201a8"
             ],
             [
              0.3333333333333333,
              "#9c179e"
             ],
             [
              0.4444444444444444,
              "#bd3786"
             ],
             [
              0.5555555555555556,
              "#d8576b"
             ],
             [
              0.6666666666666666,
              "#ed7953"
             ],
             [
              0.7777777777777778,
              "#fb9f3a"
             ],
             [
              0.8888888888888888,
              "#fdca26"
             ],
             [
              1,
              "#f0f921"
             ]
            ],
            "type": "surface"
           }
          ],
          "table": [
           {
            "cells": {
             "fill": {
              "color": "#EBF0F8"
             },
             "line": {
              "color": "white"
             }
            },
            "header": {
             "fill": {
              "color": "#C8D4E3"
             },
             "line": {
              "color": "white"
             }
            },
            "type": "table"
           }
          ]
         },
         "layout": {
          "annotationdefaults": {
           "arrowcolor": "#2a3f5f",
           "arrowhead": 0,
           "arrowwidth": 1
          },
          "autotypenumbers": "strict",
          "coloraxis": {
           "colorbar": {
            "outlinewidth": 0,
            "ticks": ""
           }
          },
          "colorscale": {
           "diverging": [
            [
             0,
             "#8e0152"
            ],
            [
             0.1,
             "#c51b7d"
            ],
            [
             0.2,
             "#de77ae"
            ],
            [
             0.3,
             "#f1b6da"
            ],
            [
             0.4,
             "#fde0ef"
            ],
            [
             0.5,
             "#f7f7f7"
            ],
            [
             0.6,
             "#e6f5d0"
            ],
            [
             0.7,
             "#b8e186"
            ],
            [
             0.8,
             "#7fbc41"
            ],
            [
             0.9,
             "#4d9221"
            ],
            [
             1,
             "#276419"
            ]
           ],
           "sequential": [
            [
             0,
             "#0d0887"
            ],
            [
             0.1111111111111111,
             "#46039f"
            ],
            [
             0.2222222222222222,
             "#7201a8"
            ],
            [
             0.3333333333333333,
             "#9c179e"
            ],
            [
             0.4444444444444444,
             "#bd3786"
            ],
            [
             0.5555555555555556,
             "#d8576b"
            ],
            [
             0.6666666666666666,
             "#ed7953"
            ],
            [
             0.7777777777777778,
             "#fb9f3a"
            ],
            [
             0.8888888888888888,
             "#fdca26"
            ],
            [
             1,
             "#f0f921"
            ]
           ],
           "sequentialminus": [
            [
             0,
             "#0d0887"
            ],
            [
             0.1111111111111111,
             "#46039f"
            ],
            [
             0.2222222222222222,
             "#7201a8"
            ],
            [
             0.3333333333333333,
             "#9c179e"
            ],
            [
             0.4444444444444444,
             "#bd3786"
            ],
            [
             0.5555555555555556,
             "#d8576b"
            ],
            [
             0.6666666666666666,
             "#ed7953"
            ],
            [
             0.7777777777777778,
             "#fb9f3a"
            ],
            [
             0.8888888888888888,
             "#fdca26"
            ],
            [
             1,
             "#f0f921"
            ]
           ]
          },
          "colorway": [
           "#636efa",
           "#EF553B",
           "#00cc96",
           "#ab63fa",
           "#FFA15A",
           "#19d3f3",
           "#FF6692",
           "#B6E880",
           "#FF97FF",
           "#FECB52"
          ],
          "font": {
           "color": "#2a3f5f"
          },
          "geo": {
           "bgcolor": "white",
           "lakecolor": "white",
           "landcolor": "#E5ECF6",
           "showlakes": true,
           "showland": true,
           "subunitcolor": "white"
          },
          "hoverlabel": {
           "align": "left"
          },
          "hovermode": "closest",
          "mapbox": {
           "style": "light"
          },
          "paper_bgcolor": "white",
          "plot_bgcolor": "#E5ECF6",
          "polar": {
           "angularaxis": {
            "gridcolor": "white",
            "linecolor": "white",
            "ticks": ""
           },
           "bgcolor": "#E5ECF6",
           "radialaxis": {
            "gridcolor": "white",
            "linecolor": "white",
            "ticks": ""
           }
          },
          "scene": {
           "xaxis": {
            "backgroundcolor": "#E5ECF6",
            "gridcolor": "white",
            "gridwidth": 2,
            "linecolor": "white",
            "showbackground": true,
            "ticks": "",
            "zerolinecolor": "white"
           },
           "yaxis": {
            "backgroundcolor": "#E5ECF6",
            "gridcolor": "white",
            "gridwidth": 2,
            "linecolor": "white",
            "showbackground": true,
            "ticks": "",
            "zerolinecolor": "white"
           },
           "zaxis": {
            "backgroundcolor": "#E5ECF6",
            "gridcolor": "white",
            "gridwidth": 2,
            "linecolor": "white",
            "showbackground": true,
            "ticks": "",
            "zerolinecolor": "white"
           }
          },
          "shapedefaults": {
           "line": {
            "color": "#2a3f5f"
           }
          },
          "ternary": {
           "aaxis": {
            "gridcolor": "white",
            "linecolor": "white",
            "ticks": ""
           },
           "baxis": {
            "gridcolor": "white",
            "linecolor": "white",
            "ticks": ""
           },
           "bgcolor": "#E5ECF6",
           "caxis": {
            "gridcolor": "white",
            "linecolor": "white",
            "ticks": ""
           }
          },
          "title": {
           "x": 0.05
          },
          "xaxis": {
           "automargin": true,
           "gridcolor": "white",
           "linecolor": "white",
           "ticks": "",
           "title": {
            "standoff": 15
           },
           "zerolinecolor": "white",
           "zerolinewidth": 2
          },
          "yaxis": {
           "automargin": true,
           "gridcolor": "white",
           "linecolor": "white",
           "ticks": "",
           "title": {
            "standoff": 15
           },
           "zerolinecolor": "white",
           "zerolinewidth": 2
          }
         }
        },
        "title": {
         "font": {
          "size": 20
         },
         "text": "distribution length of text by emotion",
         "x": 0.5
        },
        "xaxis": {
         "anchor": "y",
         "domain": [
          0,
          1
         ],
         "title": {
          "text": "lenght_of_the_text"
         }
        },
        "xaxis2": {
         "anchor": "y2",
         "domain": [
          0,
          1
         ],
         "matches": "x",
         "showgrid": true,
         "showticklabels": false
        },
        "yaxis": {
         "anchor": "x",
         "domain": [
          0,
          0.7326
         ],
         "title": {
          "text": "count"
         }
        },
        "yaxis2": {
         "anchor": "x2",
         "domain": [
          0.7426,
          1
         ],
         "matches": "y2",
         "showgrid": false,
         "showline": false,
         "showticklabels": false,
         "ticks": ""
        }
       }
      }
     },
     "metadata": {},
     "output_type": "display_data"
    },
    {
     "data": {
      "text/plain": [
       "<Figure size 1000x1000 with 0 Axes>"
      ]
     },
     "metadata": {},
     "output_type": "display_data"
    }
   ],
   "source": [
    "train['length_of_text'] = [len(i.split(' ')) for i in train['text']]\n",
    "plt.figure(figsize=(10, 10))\n",
    "\n",
    "fig = px.histogram(train['length_of_text'], marginal='box', labels={'value':'lenght_of_the_text'})\n",
    "\n",
    "fig.update_traces(marker=dict(line=dict(color='#000000', width=2)))\n",
    "\n",
    "fig.update_layout(title_text='distribution length of text by emotion', title_x=0.5, title_font=dict(size=20))\n",
    "\n",
    "fig.show()"
   ]
  },
  {
   "cell_type": "code",
   "execution_count": 14,
   "metadata": {},
   "outputs": [
    {
     "data": {
      "application/vnd.plotly.v1+json": {
       "config": {
        "plotlyServerURL": "https://plot.ly"
       },
       "data": [
        {
         "bingroup": "x",
         "hovertemplate": "color=0<br>lenght_of_the_text=%{x}<br>count=%{y}<extra></extra>",
         "legendgroup": "0",
         "marker": {
          "color": "#636efa",
          "line": {
           "color": "#000000",
           "width": 2
          },
          "pattern": {
           "shape": ""
          }
         },
         "name": "0",
         "orientation": "v",
         "showlegend": true,
         "type": "histogram",
         "x": {
          "bdata": "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",
          "dtype": "i1"
         },
         "xaxis": "x",
         "yaxis": "y"
        },
        {
         "hovertemplate": "color=0<br>lenght_of_the_text=%{x}<extra></extra>",
         "legendgroup": "0",
         "marker": {
          "color": "#636efa",
          "line": {
           "color": "#000000",
           "width": 2
          }
         },
         "name": "0",
         "notched": true,
         "showlegend": false,
         "type": "box",
         "x": {
          "bdata": "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",
          "dtype": "i1"
         },
         "xaxis": "x2",
         "yaxis": "y2"
        },
        {
         "bingroup": "x",
         "hovertemplate": "color=3<br>lenght_of_the_text=%{x}<br>count=%{y}<extra></extra>",
         "legendgroup": "3",
         "marker": {
          "color": "#EF553B",
          "line": {
           "color": "#000000",
           "width": 2
          },
          "pattern": {
           "shape": ""
          }
         },
         "name": "3",
         "orientation": "v",
         "showlegend": true,
         "type": "histogram",
         "x": {
          "bdata": "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",
          "dtype": "i1"
         },
         "xaxis": "x",
         "yaxis": "y"
        },
        {
         "hovertemplate": "color=3<br>lenght_of_the_text=%{x}<extra></extra>",
         "legendgroup": "3",
         "marker": {
          "color": "#EF553B",
          "line": {
           "color": "#000000",
           "width": 2
          }
         },
         "name": "3",
         "notched": true,
         "showlegend": false,
         "type": "box",
         "x": {
          "bdata": "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",
          "dtype": "i1"
         },
         "xaxis": "x2",
         "yaxis": "y2"
        },
        {
         "bingroup": "x",
         "hovertemplate": "color=2<br>lenght_of_the_text=%{x}<br>count=%{y}<extra></extra>",
         "legendgroup": "2",
         "marker": {
          "color": "#00cc96",
          "line": {
           "color": "#000000",
           "width": 2
          },
          "pattern": {
           "shape": ""
          }
         },
         "name": "2",
         "orientation": "v",
         "showlegend": true,
         "type": "histogram",
         "x": {
          "bdata": "EgQWFxwRHCEYLwwcEDMkCSEnDQ4NJAwFDBoIFhMnCxQTHAwRDxAUCBAeLQcaHSwZEx0bCyMnJRIdFxEZBR0oCBkOChkUJhQhGBQGFBYUKQ0QNRQJCw8PBw0VJAQWECAOCxQbEhUYEQsJEhIbHBYQCx4UEA4QEAwICRAKCAkmMQMJGgocBw8ZFyESDxQPHRglFQ4IGQweEg4VCwoYITIPDhcuEgoSHSQWGgcFIgkyDgoSBCISCiASKw4UEichDxcNEiEIEQgKEhEKHAcaGRIODw0NBicZGxIMIy0RJw41EwowEQ8cGhQQGjcSCCEYCygcByUMHgUfExUUJiMTER8RIxEhFCMUFhchFBQOGhwGCQwKFx0XHQ8eBy4VEQYSMxgODAQMGxMbFhIMHAYMHhYdBxQYHwkPBygfCwwJDQ0UDBQLJgodEiEdCQghCxcNLA4OFxoRGQsSHBUVKSgLEgoFHxUSBREbOAcTIg4VCRknBwcLChYYIBAkFgYsCBkQFgwcHwUWEwURGhwVEyUbHBIfDx8JFBUYEwQFEg0OEBAXGxAVHSkWIgsIEhkLDhQYBQsWBQsiDhMKFjIUIC0QFDITDhUICxAIJwgOFgoeJhMcFhsMHA0QFQ8UDBIoCxsIEhIZJRENIA8GDg8REwoEDB4RCRoXKggICSQTEhwbEhMPGy8VFRgbGxEcBRAcDxIPDigGBx0JCwwaIxkXBg8KChETBAcNGxYNCRMSCRQcGA0HFyIdBh8cHBgfCBUGEgsOExIYFxAIEggWFxQWHBkZHQQOIwgcCzIUEQURERQnDgsVIhMWLxgqDQ4TFyAQJyAQCi0UHxIFMykJFyIsBR0JEwcMCg8TCwQeCyQTEQorChoOFSINDx8cBxQVEAQjDgkICxwgHSANEA4wKgUOFSkRERciEQYoDyodIiIPHBgWIg4TBxAWIA0WEhAPCgoSFxAVFQ8wIygoBxMdDA4aDhUQCQcJHA8RGAooBxoeIQ8NEhMICR0fChULHhoFIwsMFxMYGRsWEhAbHAsmERoeJQoYLQgKGxEdCgUEGRQZLx0HEhUXDw8FBw4JEhUMExkgDhQLESgLEyUSFBQSHBcRJRQaDQsWCRoGFhkYEyARDScdDAgtGBIMDRwdDQ0eDRESFA8qMQ8WCwURDw8VBxkOER8LFwsiEhcOChILEAoaERMFGQ4WDgsTGA8HIhESEyEkEAwfEiITFhAIFwkQDjIPDSUpEh4cBQwUPxAWGQsKFBcTMAcHHxASCBgOHw8LFxsZCxIbOAwQDBwaCRMSChcMEwkdMSMGECoGHREaDgwMEQsQIBgJMw0IEwwMCBoWExUoGxUsIhEaDwogBwsXDQkVFCIdHhISJw8FCgkXERgJDzILCBkfIAswGhIOISIcEhAMDxcRCQQVCxAmCRIRFQ4SCRoOCQwlHg4SFCAQDxwoCyUWDjcLEjENEhMbFDUMFiQHDAslFhwLDSgTIDULGgoTFCkhCRAZFAgPEBUIEhAGGxsnDAgTHQwJHgUKDh0vCjoZGxEZCAoUDAUODRsFIhk+DAwaIAYPCxcKCwcXBS8GKSkRCRsJCTgSHiENBxwLDxwXHiEDFw8sCx0MFB0bBhMzDiMNDxwVHh4OCgsQDA8aDxQjEiMXHgcQIwcXDhgJCSMMFREJGQYQEyUMGA4SJxgMDwgWFhAaCAwdHg4SCCIcBwUJEQcXCysQCRUfCwYeBx0fEyMVDCYcGxYgDhcgEwc=",
          "dtype": "i1"
         },
         "xaxis": "x",
         "yaxis": "y"
        },
        {
         "hovertemplate": "color=2<br>lenght_of_the_text=%{x}<extra></extra>",
         "legendgroup": "2",
         "marker": {
          "color": "#00cc96",
          "line": {
           "color": "#000000",
           "width": 2
          }
         },
         "name": "2",
         "notched": true,
         "showlegend": false,
         "type": "box",
         "x": {
          "bdata": "EgQWFxwRHCEYLwwcEDMkCSEnDQ4NJAwFDBoIFhMnCxQTHAwRDxAUCBAeLQcaHSwZEx0bCyMnJRIdFxEZBR0oCBkOChkUJhQhGBQGFBYUKQ0QNRQJCw8PBw0VJAQWECAOCxQbEhUYEQsJEhIbHBYQCx4UEA4QEAwICRAKCAkmMQMJGgocBw8ZFyESDxQPHRglFQ4IGQweEg4VCwoYITIPDhcuEgoSHSQWGgcFIgkyDgoSBCISCiASKw4UEichDxcNEiEIEQgKEhEKHAcaGRIODw0NBicZGxIMIy0RJw41EwowEQ8cGhQQGjcSCCEYCygcByUMHgUfExUUJiMTER8RIxEhFCMUFhchFBQOGhwGCQwKFx0XHQ8eBy4VEQYSMxgODAQMGxMbFhIMHAYMHhYdBxQYHwkPBygfCwwJDQ0UDBQLJgodEiEdCQghCxcNLA4OFxoRGQsSHBUVKSgLEgoFHxUSBREbOAcTIg4VCRknBwcLChYYIBAkFgYsCBkQFgwcHwUWEwURGhwVEyUbHBIfDx8JFBUYEwQFEg0OEBAXGxAVHSkWIgsIEhkLDhQYBQsWBQsiDhMKFjIUIC0QFDITDhUICxAIJwgOFgoeJhMcFhsMHA0QFQ8UDBIoCxsIEhIZJRENIA8GDg8REwoEDB4RCRoXKggICSQTEhwbEhMPGy8VFRgbGxEcBRAcDxIPDigGBx0JCwwaIxkXBg8KChETBAcNGxYNCRMSCRQcGA0HFyIdBh8cHBgfCBUGEgsOExIYFxAIEggWFxQWHBkZHQQOIwgcCzIUEQURERQnDgsVIhMWLxgqDQ4TFyAQJyAQCi0UHxIFMykJFyIsBR0JEwcMCg8TCwQeCyQTEQorChoOFSINDx8cBxQVEAQjDgkICxwgHSANEA4wKgUOFSkRERciEQYoDyodIiIPHBgWIg4TBxAWIA0WEhAPCgoSFxAVFQ8wIygoBxMdDA4aDhUQCQcJHA8RGAooBxoeIQ8NEhMICR0fChULHhoFIwsMFxMYGRsWEhAbHAsmERoeJQoYLQgKGxEdCgUEGRQZLx0HEhUXDw8FBw4JEhUMExkgDhQLESgLEyUSFBQSHBcRJRQaDQsWCRoGFhkYEyARDScdDAgtGBIMDRwdDQ0eDRESFA8qMQ8WCwURDw8VBxkOER8LFwsiEhcOChILEAoaERMFGQ4WDgsTGA8HIhESEyEkEAwfEiITFhAIFwkQDjIPDSUpEh4cBQwUPxAWGQsKFBcTMAcHHxASCBgOHw8LFxsZCxIbOAwQDBwaCRMSChcMEwkdMSMGECoGHREaDgwMEQsQIBgJMw0IEwwMCBoWExUoGxUsIhEaDwogBwsXDQkVFCIdHhISJw8FCgkXERgJDzILCBkfIAswGhIOISIcEhAMDxcRCQQVCxAmCRIRFQ4SCRoOCQwlHg4SFCAQDxwoCyUWDjcLEjENEhMbFDUMFiQHDAslFhwLDSgTIDULGgoTFCkhCRAZFAgPEBUIEhAGGxsnDAgTHQwJHgUKDh0vCjoZGxEZCAoUDAUODRsFIhk+DAwaIAYPCxcKCwcXBS8GKSkRCRsJCTgSHiENBxwLDxwXHiEDFw8sCx0MFB0bBhMzDiMNDxwVHh4OCgsQDA8aDxQjEiMXHgcQIwcXDhgJCSMMFREJGQYQEyUMGA4SJxgMDwgWFhAaCAwdHg4SCCIcBwUJEQcXCysQCRUfCwYeBx0fEyMVDCYcGxYgDhcgEwc=",
          "dtype": "i1"
         },
         "xaxis": "x2",
         "yaxis": "y2"
        },
        {
         "bingroup": "x",
         "hovertemplate": "color=5<br>lenght_of_the_text=%{x}<br>count=%{y}<extra></extra>",
         "legendgroup": "5",
         "marker": {
          "color": "#ab63fa",
          "line": {
           "color": "#000000",
           "width": 2
          },
          "pattern": {
           "shape": ""
          }
         },
         "name": "5",
         "orientation": "v",
         "showlegend": true,
         "type": "histogram",
         "x": {
          "bdata": "FxcPDB4OKBEMFRIIGg4KEQYYGhorCRQVGBMIEQknGAQFCyIiFhIdEB0YERQQBxgSCQgxFRsVDSoUDgkHExgxIg8ZBhcOHAgMHhoWCh4IIhEZGg4EMRMQChAlFhgOEgwECiEGEzAIDAwKFSMLDgkQEwchKBQODwwJBxMKIAwRGhIlIRMHKggVERcQMSoFFhckBA4dDRINGCInJQYTIwkDEBsNEQ0TBREWGxAxDxAsLBEcChwVIgoMFQ0IHRMPEBgPBxEMERgNJA8LCAYLDRoaEAYTHAoqEA0IEBkzEggKFREMFB0XGw0eEAgWDwYYHQ0XCyMdJgkMBwQRPBAMDQwJFA4HFjALESQNFyEkHiAPEh8SCxMEBwkQDjkdGBkLBRIpFh0WESAKDyAeGxgPGSIKEg0PCigDDQ0JGicuIQYaDxoSEgghFyAPLAsHHAcQDBUMMQ8JGhUOIgQXLAwhHAwIFBEMJhcFCgoNGAseGhEeBAkTBxwVEhkTJAcZEwUXDhMQDxMQDAcaDhAmCBUUHRkYCwcIDAgbDTERBAsbHBgJHQ0VHxsVGxQiKjQJDQkWCQkZFRcGEBQhDQ4NGBMKBhAHCAkMFQgdKBcJGgYRICIbGSUgFBsNDhsRJhkVGx8XERULOCERFAUdDxwQCRIHFyASBA4JBhkHGCsTDwYSGRMRBRgYDgQjDS8JCRkKFgoHGQ0SBwQFEisZFxkLKhUKEAoLGhINJBIGCikMLQoQEwsILisPFAgXFB0fEQsIJTY=",
          "dtype": "i1"
         },
         "xaxis": "x",
         "yaxis": "y"
        },
        {
         "hovertemplate": "color=5<br>lenght_of_the_text=%{x}<extra></extra>",
         "legendgroup": "5",
         "marker": {
          "color": "#ab63fa",
          "line": {
           "color": "#000000",
           "width": 2
          }
         },
         "name": "5",
         "notched": true,
         "showlegend": false,
         "type": "box",
         "x": {
          "bdata": "FxcPDB4OKBEMFRIIGg4KEQYYGhorCRQVGBMIEQknGAQFCyIiFhIdEB0YERQQBxgSCQgxFRsVDSoUDgkHExgxIg8ZBhcOHAgMHhoWCh4IIhEZGg4EMRMQChAlFhgOEgwECiEGEzAIDAwKFSMLDgkQEwchKBQODwwJBxMKIAwRGhIlIRMHKggVERcQMSoFFhckBA4dDRINGCInJQYTIwkDEBsNEQ0TBREWGxAxDxAsLBEcChwVIgoMFQ0IHRMPEBgPBxEMERgNJA8LCAYLDRoaEAYTHAoqEA0IEBkzEggKFREMFB0XGw0eEAgWDwYYHQ0XCyMdJgkMBwQRPBAMDQwJFA4HFjALESQNFyEkHiAPEh8SCxMEBwkQDjkdGBkLBRIpFh0WESAKDyAeGxgPGSIKEg0PCigDDQ0JGicuIQYaDxoSEgghFyAPLAsHHAcQDBUMMQ8JGhUOIgQXLAwhHAwIFBEMJhcFCgoNGAseGhEeBAkTBxwVEhkTJAcZEwUXDhMQDxMQDAcaDhAmCBUUHRkYCwcIDAgbDTERBAsbHBgJHQ0VHxsVGxQiKjQJDQkWCQkZFRcGEBQhDQ4NGBMKBhAHCAkMFQgdKBcJGgYRICIbGSUgFBsNDhsRJhkVGx8XERULOCERFAUdDxwQCRIHFyASBA4JBhkHGCsTDwYSGRMRBRgYDgQjDS8JCRkKFgoHGQ0SBwQFEisZFxkLKhUKEAoLGhINJBIGCikMLQoQEwsILisPFAgXFB0fEQsIJTY=",
          "dtype": "i1"
         },
         "xaxis": "x2",
         "yaxis": "y2"
        },
        {
         "bingroup": "x",
         "hovertemplate": "color=4<br>lenght_of_the_text=%{x}<br>count=%{y}<extra></extra>",
         "legendgroup": "4",
         "marker": {
          "color": "#FFA15A",
          "line": {
           "color": "#000000",
           "width": 2
          },
          "pattern": {
           "shape": ""
          }
         },
         "name": "4",
         "orientation": "v",
         "showlegend": true,
         "type": "histogram",
         "x": {
          "bdata": "EREsCRQXFBUREBoqJRMpDBEYGRMFCA0gHQoOFBgRAxUNHQUOKAUfBgUHKhAHBQwRFx4OCyAeFAcHHCoMKAoXIhEMBx8KFBUTFA8RCBoUDhESBRIKCgoLGyAQCBANFBYOFAwMCAcHJgcHChQSECUKCiQEIgcUDx4ICwgdBhILJxsUDBATCRwqDwoaCi4NGhEIFC8QCggSKCAICxQnCAUSChEdFBMOCA4IIR8QFiAYECkaFx0jEgwOFA0KFRQoDBEnBw0fDRoULhAxBQwMDx8WCAUYEA0NBx8RCBoOBhESGBAWDQgOEAsJKBEFGh0cFw4MNAQJDgUNIhYQFxMQHhAVDwwXDRAZFA0XHRkICBUOCQoNCRoOBw4MJRkNBw0UBg4YEQUSCxkdNggHBgoTDikwDQ8GBA8KCTEFCBYOFg8NDxIfIzUPFBIuDAYJGwgfDw0JCgoHIREKEAcLIhgKDiodJwccEicJIQ8IHSUMCAYGBxkJERkRHhUNGAcWEw0IGCYTHhAWFBYJDicDCBkcEwUWBxEPHRUODhALCRIOFBAFOxEFDxEIEA0NCA4SHQgODSMMKB4HFCcUGQYVDg0PEQMeFAYIDAkpDSUbFxgQEikfGBYpBg0RDgUlCwkvHxQPIxIRBhUjBhEOHBsUEAIQFgwpIxUUDxolExYcFwYTBCAHFxUJBxoSFwQFGxQhBRITHjMRBBwYCgUYDxATGyUcEhgMDCoOFg4ODhcEKAcTHQkFHRAHExIHJAcKEhMQGB4UDwwTCBoJCQgIEAoHCh0aDRMHCxYaDiYHBg8POAUOFRQQHgoLCBEKBQUeCgcMBwwPDhcPDAsLECAWDxAKChQUEBAUGhsJFhoSMg8YFgsSHxEPFRoIJRMPFgURFBYIBA0VDQwGDRUIDhAHFBIXFwUXECINDAoEEAcNJgwiFwQFCB4GHBwKCwooLBcPIRYZHA0lGQgJBxgHDQ0gGwgSIhwPEwQVExAcCQoTCxAPERYJHiUHBxAMIBsGHSUOHBYGEAoHIQohGhUkHQwIKAkHGR4VIA0RBwYMHxgUNyEWCgkYDwsKIR8lEBwfCgUSBxIMCBcDCCEYExYGIQcFBgchCw8WBS4HHhQaAwcIEx0MDRQUBRkNBhYRFgYRHREKDQ0IJAoHDwsJBAkJEg8eDBAWKRgFDCARHQYGEC0oDxQMDTsNDRg4HwQHFxsGCAUTNQQEHBgGBQgUEBEFDAo2CxAUEQYgChoZFA0cByAoGx4QCwURCBcdGhETEAsMKxoYBjMbDQggCBwFCx0OEA4cEDU0ChcEEwkFIg8ZEgwoCBgHCQcQFBMJBwsfDxQXDw0QBQ4WCQ0RCRYICzcrKRAQIAUNJyMMFhIMHCUXAg8RDwoVCAcLFRMbOgoFDgwOFiALGxkOGR4JCAwRCB0lJAgWEx0PIAccDx8dFQkZERgXIhoZCg4IBB0MFCENFgwGGBAsHREOChsHFwoQGwscMQYOGRkXDxANEyEELxwPEgcXGRMvDBEHDhkHDQ8cFAcRCgUSCx4WDAwaEhgFFxYxMCcSEhUSExAGBRIKFhYIGBYaDQsRCAgUDxAMIRQVKy0JIQgtCRwWDxUJNBISCBgZEhQOFwoUFR4GGRMaCxcdFQYEDBYvDx0aEgkYIwwIIhIkHw4ICxMQBwcbLyEGLQwdERIbBwgcBwwPBRshFQYFDBIWDDEHEAQVGQkhHBoILBwFEBsqChIRDQYlDBYIGh4SDAwVGQ0TDwQMCgsFBwcVLiQLBw4IGRIQFhARGhciExIaHwkLHBsNFA8FBBcdDREmEBk6GwcODAsMEBERDCENChoWDRQLBhgJIwoEBQoODQ8WCRIPEhEMIQQGBxUQECsJGwsnJgwTBw8YFRwOCgYGBhwUJB0kDB0GChoMDB0NFwwaHA0UEAwYEAkkBhIuEwYXDx8RHA0jGzEXLAsJIiYVFBQIBgsHGQgEBgoQIwgcDgQeBwcOBgwRJAgfCygJCAgJDyoRHx4KDx8hEw0NEBEGFQcOLQkYEQkcGRQJCRojBhMODywIEBMTBgwYChIVDQsFBhkiHQYQBygMFjQJHxELCQ0XGjMrAyELEwUKJCwVBw4VCgUWFCoYFgYHHA0XAw0IIRMSDwoGGBMQGQUHBwQFCwgSJScRIxAPDSsQDBQWEBwWHA4fGRAOCA0FEzIiESkHEAcMDR0JGR0EDhASCycQBw4HGSQfDhoNDSwICAcMBxcWDxYcDAgLDCAIDworFAwSEBMWIBIKIggICxEMDhUGCgYZEyAMCA8jFAwUCQcNGiINGDwQCRYaESoHDxEgFA8NCxQHGRsRJgoPEBcMCQcLFQodHQUXFA4bEA8oAw8HDggYFRMPGRQOEwwNDQ8XCTcUIQ4eCAsdEBkZCQcHDCkFGgsKHiUWBBIPBRQTGx4QLQUXHQ8tBQ4FEAkMDisSLw8HDhgbEiUrDhUJFRAFKw8KHRcXHwgQFBQgCAsYBB8lJBIeCxAGDxUOChMjGRkNCA4UCQgVNgoRDC4MCxEOBRUNFQcGEhwtDRMOEwkNJggYJh0GAy4fCQYxICgcGBUOHC0fGRoJEhQJGBYTCQ4ULAs=",
          "dtype": "i1"
         },
         "xaxis": "x",
         "yaxis": "y"
        },
        {
         "hovertemplate": "color=4<br>lenght_of_the_text=%{x}<extra></extra>",
         "legendgroup": "4",
         "marker": {
          "color": "#FFA15A",
          "line": {
           "color": "#000000",
           "width": 2
          }
         },
         "name": "4",
         "notched": true,
         "showlegend": false,
         "type": "box",
         "x": {
          "bdata": "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",
          "dtype": "i1"
         },
         "xaxis": "x2",
         "yaxis": "y2"
        },
        {
         "bingroup": "x",
         "hovertemplate": "color=1<br>lenght_of_the_text=%{x}<br>count=%{y}<extra></extra>",
         "legendgroup": "1",
         "marker": {
          "color": "#19d3f3",
          "line": {
           "color": "#000000",
           "width": 2
          },
          "pattern": {
           "shape": ""
          }
         },
         "name": "1",
         "orientation": "v",
         "showlegend": true,
         "type": "histogram",
         "x": {
          "bdata": "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",
          "dtype": "i1"
         },
         "xaxis": "x",
         "yaxis": "y"
        },
        {
         "hovertemplate": "color=1<br>lenght_of_the_text=%{x}<extra></extra>",
         "legendgroup": "1",
         "marker": {
          "color": "#19d3f3",
          "line": {
           "color": "#000000",
           "width": 2
          }
         },
         "name": "1",
         "notched": true,
         "showlegend": false,
         "type": "box",
         "x": {
          "bdata": "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",
          "dtype": "i1"
         },
         "xaxis": "x2",
         "yaxis": "y2"
        }
       ],
       "layout": {
        "barmode": "relative",
        "legend": {
         "title": {
          "text": "color"
         },
         "tracegroupgap": 0
        },
        "margin": {
         "t": 60
        },
        "template": {
         "data": {
          "bar": [
           {
            "error_x": {
             "color": "#2a3f5f"
            },
            "error_y": {
             "color": "#2a3f5f"
            },
            "marker": {
             "line": {
              "color": "#E5ECF6",
              "width": 0.5
             },
             "pattern": {
              "fillmode": "overlay",
              "size": 10,
              "solidity": 0.2
             }
            },
            "type": "bar"
           }
          ],
          "barpolar": [
           {
            "marker": {
             "line": {
              "color": "#E5ECF6",
              "width": 0.5
             },
             "pattern": {
              "fillmode": "overlay",
              "size": 10,
              "solidity": 0.2
             }
            },
            "type": "barpolar"
           }
          ],
          "carpet": [
           {
            "aaxis": {
             "endlinecolor": "#2a3f5f",
             "gridcolor": "white",
             "linecolor": "white",
             "minorgridcolor": "white",
             "startlinecolor": "#2a3f5f"
            },
            "baxis": {
             "endlinecolor": "#2a3f5f",
             "gridcolor": "white",
             "linecolor": "white",
             "minorgridcolor": "white",
             "startlinecolor": "#2a3f5f"
            },
            "type": "carpet"
           }
          ],
          "choropleth": [
           {
            "colorbar": {
             "outlinewidth": 0,
             "ticks": ""
            },
            "type": "choropleth"
           }
          ],
          "contour": [
           {
            "colorbar": {
             "outlinewidth": 0,
             "ticks": ""
            },
            "colorscale": [
             [
              0,
              "#0d0887"
             ],
             [
              0.1111111111111111,
              "#46039f"
             ],
             [
              0.2222222222222222,
              "#7201a8"
             ],
             [
              0.3333333333333333,
              "#9c179e"
             ],
             [
              0.4444444444444444,
              "#bd3786"
             ],
             [
              0.5555555555555556,
              "#d8576b"
             ],
             [
              0.6666666666666666,
              "#ed7953"
             ],
             [
              0.7777777777777778,
              "#fb9f3a"
             ],
             [
              0.8888888888888888,
              "#fdca26"
             ],
             [
              1,
              "#f0f921"
             ]
            ],
            "type": "contour"
           }
          ],
          "contourcarpet": [
           {
            "colorbar": {
             "outlinewidth": 0,
             "ticks": ""
            },
            "type": "contourcarpet"
           }
          ],
          "heatmap": [
           {
            "colorbar": {
             "outlinewidth": 0,
             "ticks": ""
            },
            "colorscale": [
             [
              0,
              "#0d0887"
             ],
             [
              0.1111111111111111,
              "#46039f"
             ],
             [
              0.2222222222222222,
              "#7201a8"
             ],
             [
              0.3333333333333333,
              "#9c179e"
             ],
             [
              0.4444444444444444,
              "#bd3786"
             ],
             [
              0.5555555555555556,
              "#d8576b"
             ],
             [
              0.6666666666666666,
              "#ed7953"
             ],
             [
              0.7777777777777778,
              "#fb9f3a"
             ],
             [
              0.8888888888888888,
              "#fdca26"
             ],
             [
              1,
              "#f0f921"
             ]
            ],
            "type": "heatmap"
           }
          ],
          "histogram": [
           {
            "marker": {
             "pattern": {
              "fillmode": "overlay",
              "size": 10,
              "solidity": 0.2
             }
            },
            "type": "histogram"
           }
          ],
          "histogram2d": [
           {
            "colorbar": {
             "outlinewidth": 0,
             "ticks": ""
            },
            "colorscale": [
             [
              0,
              "#0d0887"
             ],
             [
              0.1111111111111111,
              "#46039f"
             ],
             [
              0.2222222222222222,
              "#7201a8"
             ],
             [
              0.3333333333333333,
              "#9c179e"
             ],
             [
              0.4444444444444444,
              "#bd3786"
             ],
             [
              0.5555555555555556,
              "#d8576b"
             ],
             [
              0.6666666666666666,
              "#ed7953"
             ],
             [
              0.7777777777777778,
              "#fb9f3a"
             ],
             [
              0.8888888888888888,
              "#fdca26"
             ],
             [
              1,
              "#f0f921"
             ]
            ],
            "type": "histogram2d"
           }
          ],
          "histogram2dcontour": [
           {
            "colorbar": {
             "outlinewidth": 0,
             "ticks": ""
            },
            "colorscale": [
             [
              0,
              "#0d0887"
             ],
             [
              0.1111111111111111,
              "#46039f"
             ],
             [
              0.2222222222222222,
              "#7201a8"
             ],
             [
              0.3333333333333333,
              "#9c179e"
             ],
             [
              0.4444444444444444,
              "#bd3786"
             ],
             [
              0.5555555555555556,
              "#d8576b"
             ],
             [
              0.6666666666666666,
              "#ed7953"
             ],
             [
              0.7777777777777778,
              "#fb9f3a"
             ],
             [
              0.8888888888888888,
              "#fdca26"
             ],
             [
              1,
              "#f0f921"
             ]
            ],
            "type": "histogram2dcontour"
           }
          ],
          "mesh3d": [
           {
            "colorbar": {
             "outlinewidth": 0,
             "ticks": ""
            },
            "type": "mesh3d"
           }
          ],
          "parcoords": [
           {
            "line": {
             "colorbar": {
              "outlinewidth": 0,
              "ticks": ""
             }
            },
            "type": "parcoords"
           }
          ],
          "pie": [
           {
            "automargin": true,
            "type": "pie"
           }
          ],
          "scatter": [
           {
            "fillpattern": {
             "fillmode": "overlay",
             "size": 10,
             "solidity": 0.2
            },
            "type": "scatter"
           }
          ],
          "scatter3d": [
           {
            "line": {
             "colorbar": {
              "outlinewidth": 0,
              "ticks": ""
             }
            },
            "marker": {
             "colorbar": {
              "outlinewidth": 0,
              "ticks": ""
             }
            },
            "type": "scatter3d"
           }
          ],
          "scattercarpet": [
           {
            "marker": {
             "colorbar": {
              "outlinewidth": 0,
              "ticks": ""
             }
            },
            "type": "scattercarpet"
           }
          ],
          "scattergeo": [
           {
            "marker": {
             "colorbar": {
              "outlinewidth": 0,
              "ticks": ""
             }
            },
            "type": "scattergeo"
           }
          ],
          "scattergl": [
           {
            "marker": {
             "colorbar": {
              "outlinewidth": 0,
              "ticks": ""
             }
            },
            "type": "scattergl"
           }
          ],
          "scattermap": [
           {
            "marker": {
             "colorbar": {
              "outlinewidth": 0,
              "ticks": ""
             }
            },
            "type": "scattermap"
           }
          ],
          "scattermapbox": [
           {
            "marker": {
             "colorbar": {
              "outlinewidth": 0,
              "ticks": ""
             }
            },
            "type": "scattermapbox"
           }
          ],
          "scatterpolar": [
           {
            "marker": {
             "colorbar": {
              "outlinewidth": 0,
              "ticks": ""
             }
            },
            "type": "scatterpolar"
           }
          ],
          "scatterpolargl": [
           {
            "marker": {
             "colorbar": {
              "outlinewidth": 0,
              "ticks": ""
             }
            },
            "type": "scatterpolargl"
           }
          ],
          "scatterternary": [
           {
            "marker": {
             "colorbar": {
              "outlinewidth": 0,
              "ticks": ""
             }
            },
            "type": "scatterternary"
           }
          ],
          "surface": [
           {
            "colorbar": {
             "outlinewidth": 0,
             "ticks": ""
            },
            "colorscale": [
             [
              0,
              "#0d0887"
             ],
             [
              0.1111111111111111,
              "#46039f"
             ],
             [
              0.2222222222222222,
              "#7201a8"
             ],
             [
              0.3333333333333333,
              "#9c179e"
             ],
             [
              0.4444444444444444,
              "#bd3786"
             ],
             [
              0.5555555555555556,
              "#d8576b"
             ],
             [
              0.6666666666666666,
              "#ed7953"
             ],
             [
              0.7777777777777778,
              "#fb9f3a"
             ],
             [
              0.8888888888888888,
              "#fdca26"
             ],
             [
              1,
              "#f0f921"
             ]
            ],
            "type": "surface"
           }
          ],
          "table": [
           {
            "cells": {
             "fill": {
              "color": "#EBF0F8"
             },
             "line": {
              "color": "white"
             }
            },
            "header": {
             "fill": {
              "color": "#C8D4E3"
             },
             "line": {
              "color": "white"
             }
            },
            "type": "table"
           }
          ]
         },
         "layout": {
          "annotationdefaults": {
           "arrowcolor": "#2a3f5f",
           "arrowhead": 0,
           "arrowwidth": 1
          },
          "autotypenumbers": "strict",
          "coloraxis": {
           "colorbar": {
            "outlinewidth": 0,
            "ticks": ""
           }
          },
          "colorscale": {
           "diverging": [
            [
             0,
             "#8e0152"
            ],
            [
             0.1,
             "#c51b7d"
            ],
            [
             0.2,
             "#de77ae"
            ],
            [
             0.3,
             "#f1b6da"
            ],
            [
             0.4,
             "#fde0ef"
            ],
            [
             0.5,
             "#f7f7f7"
            ],
            [
             0.6,
             "#e6f5d0"
            ],
            [
             0.7,
             "#b8e186"
            ],
            [
             0.8,
             "#7fbc41"
            ],
            [
             0.9,
             "#4d9221"
            ],
            [
             1,
             "#276419"
            ]
           ],
           "sequential": [
            [
             0,
             "#0d0887"
            ],
            [
             0.1111111111111111,
             "#46039f"
            ],
            [
             0.2222222222222222,
             "#7201a8"
            ],
            [
             0.3333333333333333,
             "#9c179e"
            ],
            [
             0.4444444444444444,
             "#bd3786"
            ],
            [
             0.5555555555555556,
             "#d8576b"
            ],
            [
             0.6666666666666666,
             "#ed7953"
            ],
            [
             0.7777777777777778,
             "#fb9f3a"
            ],
            [
             0.8888888888888888,
             "#fdca26"
            ],
            [
             1,
             "#f0f921"
            ]
           ],
           "sequentialminus": [
            [
             0,
             "#0d0887"
            ],
            [
             0.1111111111111111,
             "#46039f"
            ],
            [
             0.2222222222222222,
             "#7201a8"
            ],
            [
             0.3333333333333333,
             "#9c179e"
            ],
            [
             0.4444444444444444,
             "#bd3786"
            ],
            [
             0.5555555555555556,
             "#d8576b"
            ],
            [
             0.6666666666666666,
             "#ed7953"
            ],
            [
             0.7777777777777778,
             "#fb9f3a"
            ],
            [
             0.8888888888888888,
             "#fdca26"
            ],
            [
             1,
             "#f0f921"
            ]
           ]
          },
          "colorway": [
           "#636efa",
           "#EF553B",
           "#00cc96",
           "#ab63fa",
           "#FFA15A",
           "#19d3f3",
           "#FF6692",
           "#B6E880",
           "#FF97FF",
           "#FECB52"
          ],
          "font": {
           "color": "#2a3f5f"
          },
          "geo": {
           "bgcolor": "white",
           "lakecolor": "white",
           "landcolor": "#E5ECF6",
           "showlakes": true,
           "showland": true,
           "subunitcolor": "white"
          },
          "hoverlabel": {
           "align": "left"
          },
          "hovermode": "closest",
          "mapbox": {
           "style": "light"
          },
          "paper_bgcolor": "white",
          "plot_bgcolor": "#E5ECF6",
          "polar": {
           "angularaxis": {
            "gridcolor": "white",
            "linecolor": "white",
            "ticks": ""
           },
           "bgcolor": "#E5ECF6",
           "radialaxis": {
            "gridcolor": "white",
            "linecolor": "white",
            "ticks": ""
           }
          },
          "scene": {
           "xaxis": {
            "backgroundcolor": "#E5ECF6",
            "gridcolor": "white",
            "gridwidth": 2,
            "linecolor": "white",
            "showbackground": true,
            "ticks": "",
            "zerolinecolor": "white"
           },
           "yaxis": {
            "backgroundcolor": "#E5ECF6",
            "gridcolor": "white",
            "gridwidth": 2,
            "linecolor": "white",
            "showbackground": true,
            "ticks": "",
            "zerolinecolor": "white"
           },
           "zaxis": {
            "backgroundcolor": "#E5ECF6",
            "gridcolor": "white",
            "gridwidth": 2,
            "linecolor": "white",
            "showbackground": true,
            "ticks": "",
            "zerolinecolor": "white"
           }
          },
          "shapedefaults": {
           "line": {
            "color": "#2a3f5f"
           }
          },
          "ternary": {
           "aaxis": {
            "gridcolor": "white",
            "linecolor": "white",
            "ticks": ""
           },
           "baxis": {
            "gridcolor": "white",
            "linecolor": "white",
            "ticks": ""
           },
           "bgcolor": "#E5ECF6",
           "caxis": {
            "gridcolor": "white",
            "linecolor": "white",
            "ticks": ""
           }
          },
          "title": {
           "x": 0.05
          },
          "xaxis": {
           "automargin": true,
           "gridcolor": "white",
           "linecolor": "white",
           "ticks": "",
           "title": {
            "standoff": 15
           },
           "zerolinecolor": "white",
           "zerolinewidth": 2
          },
          "yaxis": {
           "automargin": true,
           "gridcolor": "white",
           "linecolor": "white",
           "ticks": "",
           "title": {
            "standoff": 15
           },
           "zerolinecolor": "white",
           "zerolinewidth": 2
          }
         }
        },
        "title": {
         "font": {
          "size": 20
         },
         "text": "distribution length of text by emotion",
         "x": 0.5
        },
        "xaxis": {
         "anchor": "y",
         "domain": [
          0,
          1
         ],
         "title": {
          "text": "lenght_of_the_text"
         }
        },
        "xaxis2": {
         "anchor": "y2",
         "domain": [
          0,
          1
         ],
         "matches": "x",
         "showgrid": true,
         "showticklabels": false
        },
        "yaxis": {
         "anchor": "x",
         "domain": [
          0,
          0.7326
         ],
         "title": {
          "text": "count"
         }
        },
        "yaxis2": {
         "anchor": "x2",
         "domain": [
          0.7426,
          1
         ],
         "matches": "y2",
         "showgrid": false,
         "showline": false,
         "showticklabels": false,
         "ticks": ""
        }
       }
      }
     },
     "metadata": {},
     "output_type": "display_data"
    },
    {
     "data": {
      "text/plain": [
       "<Figure size 1000x1000 with 0 Axes>"
      ]
     },
     "metadata": {},
     "output_type": "display_data"
    }
   ],
   "source": [
    "plt.figure(figsize=(10, 10))\n",
    "fig = px.histogram(train['length_of_text'], marginal='box', labels={'value':'lenght_of_the_text'}, color=train['label'])\n",
    "\n",
    "fig.update_traces(marker=dict(line=dict(color='#000000', width=2)))\n",
    "\n",
    "fig.update_layout(title_text='distribution length of text by emotion', title_x=0.5, title_font=dict(size=20))\n",
    "\n",
    "fig.show()"
   ]
  },
  {
   "cell_type": "markdown",
   "metadata": {},
   "source": [
    "## Distributions of label"
   ]
  },
  {
   "cell_type": "code",
   "execution_count": 15,
   "metadata": {},
   "outputs": [
    {
     "data": {
      "application/vnd.plotly.v1+json": {
       "config": {
        "plotlyServerURL": "https://plot.ly"
       },
       "data": [
        {
         "bingroup": "x",
         "hovertemplate": "label=%{x}<br>count=%{y}<extra></extra>",
         "legendgroup": "0",
         "marker": {
          "color": "#636efa",
          "line": {
           "color": "#000000",
           "width": 2
          },
          "pattern": {
           "shape": ""
          }
         },
         "name": "0",
         "orientation": "v",
         "showlegend": true,
         "type": "histogram",
         "x": {
          "bdata": "AAAAAAAAAAAAAAAAAAAAAAAAAAAAAAAAAAAAAAAAAAAAAAAAAAAAAAAAAAAAAAAAAAAAAAAAAAAAAAAAAAAAAAAAAAAAAAAAAAAAAAAAAAAAAAAAAAAAAAAAAAAAAAAAAAAAAAAAAAAAAAAAAAAAAAAAAAAAAAAAAAAAAAAAAAAAAAAAAAAAAAAAAAAAAAAAAAAAAAAAAAAAAAAAAAAAAAAAAAAAAAAAAAAAAAAAAAAAAAAAAAAAAAAAAAAAAAAAAAAAAAAAAAAAAAAAAAAAAAAAAAAAAAAAAAAAAAAAAAAAAAAAAAAAAAAAAAAAAAAAAAAAAAAAAAAAAAAAAAAAAAAAAAAAAAAAAAAAAAAAAAAAAAAAAAAAAAAAAAAAAAAAAAAAAAAAAAAAAAAAAAAAAAAAAAAAAAAAAAAAAAAAAAAAAAAAAAAAAAAAAAAAAAAAAAAAAAAAAAAAAAAAAAAAAAAAAAAAAAAAAAAAAAAAAAAAAAAAAAAAAAAAAAAAAAAAAAAAAAAAAAAAAAAAAAAAAAAAAAAAAAAAAAAAAAAAAAAAAAAAAAAAAAAAAAAAAAAAAAAAAAAAAAAAAAAAAAAAAAAAAAAAAAAAAAAAAAAAAAAAAAAAAAAAAAAAAAAAAAAAAAAAAAAAAAAAAAAAAAAAAAAAAAAAAAAAAAAAAAAAAAAAAAAAAAAAAAAAAAAAAAAAAAAAAAAAAAAAAAAAAAAAAAAAAAAAAAAAAAAAAAAAAAAAAAAAAAAAAAAAAAAAAAAAAAAAAAAAAAAAAAAAAAAAAAAAAAAAAAAAAAAAAAAAAAAAAAAAAAAAAAAAAAAAAAAAAAAAAAAAAAAAAAAAAAAAAAAAAAAAAAAAAAAAAAAAAAAAAAAAAAAAAAAAAAAAAAAAAAAAAAAAAAAAAAAAAAAAAAAAAAAAAAAAAAAAAAAAAAAAAAAAAAAAAAAAAAAAAAAAAAAAAAAAAAAAAAAAAAAAAAAAAAAAAAAAAAAAAAAAAAAAAAAAAAAAAAAAAAAAAAAAAAAAAAAAAAAAAAAAAAAAAAAAAAAAAAAAAAAAAAAAAAAAAAAAAAAAAAAAAAAAAAAAAAAAAAAAAAAAAAAAAAAAAAAAAAAAAAAAAAAAAAAAAAAAAAAAAAAAAAAAAAAAAAAAAAAAAAAAAAAAAAAAAAAAAAAAAAAAAAAAAAAAAAAAAAAAAAAAAAAAAAAAAAAAAAAAAAAAAAAAAAAAAAAAAAAAAAAAAAAAAAAAAAAAAAAAAAAAAAAAAAAAAAAAAAAAAAAAAAAAAAAAAAAAAAAAAAAAAAAAAAAAAAAAAAAAAAAAAAAAAAAAAAAAAAAAAAAAAAAAAAAAAAAAAAAAAAAAAAAAAAAAAAAAAAAAAAAAAAAAAAAAAAAAAAAAAAAAAAAAAAAAAAAAAAAAAAAAAAAAAAAAAAAAAAAAAAAAAAAAAAAAAAAAAAAAAAAAAAAAAAAAAAAAAAAAAAAAAAAAAAAAAAAAAAAAAAAAAAAAAAAAAAAAAAAAAAAAAAAAAAAAAAAAAAAAAAAAAAAAAAAAAAAAAAAAAAAAAAAAAAAAAAAAAAAAAAAAAAAAAAAAAAAAAAAAAAAAAAAAAAAAAAAAAAAAAAAAAAAAAAAAAAAAAAAAAAAAAAAAAAAAAAAAAAAAAAAAAAAAAAAAAAAAAAAAAAAAAAAAAAAAAAAAAAAAAAAAAAAAAAAAAAAAAAAAAAAAAAAAAAAAAAAAAAAAAAAAAAAAAAAAAAAAAAAAAAAAAAAAAAAAAAAAAAAAAAAAAAAAAAAAAAAAAAAAAAAAAAAAAAAAAAAAAAAAAAAAAAAAAAAAAAAAAAAAAAAAAAAAAAAAAAAAAAAAAAAAAAAAAAAAAAAAAAAAAAAAAAAAAAAAAAAAAAAAAAAAAAAAAAAAAAAAAAAAAAAAAAAAAAAAAAAAAAAAAAAAAAAAAAAAAAAAAAAAAAAAAAAAAAAAAAAAAAAAAAAAAAAAAAAAAAAAAAAAAAAAAAAAAAAAAAAAAAAAAAAAAAAAAAAAAAAAAAAAAAAAAAAAAAAAAAAAAAAAAAAAAAAAAAAAAAAAAAAAAAAAAAAAAAAAAAAAAAAAAAAAAAAAAAAAAAAAAAAAAAAAAAAAAAAAAAAAAAAAAAAAAAAAAAAAAAAAAAAAAAAAAAAAAAAAAAAAAAAAAAAAAAAAAAAAAAAAAAAAAAAAAAAAAAAAAAAAAAAAAAAAAAAAAAAAAAAAAAAAAAAAAAAAAAAAAAAAAAAAAAAAAAAAAAAAAAAAAAAAAAAAAAAAAAAAAAAAAAAAAAAAAAAAAAAAAAAAAAAAAAAAAAAAAAAAAAAAAAAAAAAAAAAAAAAAAAAAAAAAAAAAAAAAAAAAAAAAAAAAAAAAAAAAAAAAAAAAAAAAAAAAAAAAAAAAAAAAAAAAAAAAAAAAAAAAAAAAAAAAAAAAAAAAAAAAAAAAAAAAAAAAAAAAAAAAAAAAAAAAAAAAAAAAAAAAAAAAAAAAAAAAAAAAAAAAAAAAAAAAAAAAAAAAAAAAAAAAAAAAAAAAAAAAAAAAAAAAAAAAAAAAAAAAAAAAAAAAAAAAAAAAAAAAAAAAAAAAAAAAAAAAAAAAAAAAAAAAAAAAAAAAAAAAAAAAAAAAAAAAAAAAAAAAAAAAAAAAAAAAAAAAAAAAAAAAAAAAAAAAAAAAAAAAAAAAAAAAAAAAAAAAAAAAAAAAAAAAAAAAAAAAAAAAAAAAAAAAAAAAAAAAAAAAAAAAAAAAAAAAAAAAAAAAAAAAAAAAAAAAAAAAAAAAAAAAAAAAAAAAAAAAAAAAAAAAAAAAAAAAAAAAAAAAAAAAAAAAAAAAAAAAAAAAAAAAAAAAAAAAAAAAAAAAAAAAAAAAAAAAAAAAAAAAAAAAAAAAAAAAAAAAAAAAAAAAAAAAAAAAAAAAAAAAAAAAAAAAAAAAAAAAAAAAAAAAAAAAAAAAAAAAAAAAAAAAAAAAAAAAAAAAAAAAAAAAAAAAAAAAAAAAAAAAAAAAAAAAAAAAAAAAAAAAAAAAAAAAAAAAAAAAAAAAAAAAAAAAAAAAAAAAAAAAAAAAAAAAAAAAAAAAAAAAAAAAAAAAAAAAAAAAAAAAAAAAAAAAAAAAAAAAAAAAAAAAAAAAAAAAAAAAAAAAAAAAAAAAAAAAAAAAAAAAAAAAAAAAAAAAAAAAAAAAAAAAAAAAAAAAAAAAAAAAAAAAAAAAAAAAAAAAAAAAAAAAAAAAAAAAAAAAAAAAAAAAAAAAAAAAAAAAAAAAAAAAAAAAAAAAAAAAAAAAAAAAAAAAAAAAAAAAAAAAAAAAAAAAAAAAAAAAAAAAAAAAAAAAAAAAAAAAAAAAAAAAAAAAAAAAAAAAAAAAAAAAAAAAAAAAAAAAAAAAAAAAAAAAAAAAAAAAAAAAAAAAAAAAAAAAAAAAAAAAAAAAAAAAAAAAAAAAAAAAAAAAAAAAAAAAAAAAAAAAAAAAAAAAAAAAAAAAAAAAAAAAAAAAAAAAAAAAAAAAAAAAAAAAAAAAAAAAAAAAAAAAAAAAAAAAAAAAAAAAAAAAAAAAAAAAAAAAAAAAAAAAAAAAAAAAAAAAAAAAAAAAAAAAAAAAAAAAAAAAAAAAAAAAAAAAAAAAAAAAAAAAAAAAAAAAAAAAAAAAAAAAAAAAAAAAAAAAAAAAAAAAAAAAAAAAAAAAAAAAAAAAAAAAAAAAAAAAAAAAAAAAAAAAAAAAAAAAAAAAAAAAAAAAAAAAAAAAAAAAAAAAAAAAAAAAAAAAAAAAAAAAAAAAAAAAAAAAAAAAAAAAAAAAAAAAAAAAAAAAAAAAAAAAAAAAAAAAAAAAAAAAAAAAAAAAAAAAAAAAAAAAAAAAAAAAAAAAAAAAAAAAAAAAAAAAAAAAAAAAAAAAAAAAAAAAAAAAAAAAAAAAAAAAAAAAAAAAAAAAAAAAAAAAAAAAAAAAAAAAAAAAAAAAAAAAAAAAAAAAAAAAAAAAAAAAAAAAAAAAAAAAAAAAAAAAAAAAAAAAAAAAAAAAAAAAAAAAAAAAAAAAAAAAAAAAAAAAAAAAAAAAAAAAAAAAAAAAAAAAAAAAAAAAAAAAAAAAAAAAAAAAAAAAAAAAAAAAAAAAAAAAAAAAAAAAAAAAAAAAAAAAAAAAAAAAAAAAAAAAAAAAAAAAAAAAAAAAAAAAAAAAAAAAAAAAAAAAAAAAAAAAAAAAAAAAAAAAAAAAAAAAAAAAAAAAAAAAAAAAAAAAAAAAAAAAAAAAAAAAAAAAAAAAAAAAAAAAAAAAAAAAAAAAAAAAAAAAAAAAAAAAAAAAAAAAAAAAAAAAAAAAAAAAAAAAAAAAAAAAAAAAAAAAAAAAAAAAAAAAAAAAAAAAAAAAAAAAAAAAAAAAAAAAAAAAAAAAAAAAAAAAAAAAAAAAAAAAAAAAAAAAAAAAAAAAAAAAAAAAAAAAAAAAAAAAAAAAAAAAAAAAAAAAAAAAAAAAAAAAAAAAAAAAAAAAAAAAAAAAAAAAAAAAAAAAAAAAAAAAAAAAAAAAAAAAAAAAAAAAAAAAAAAAAAAAAAAAAAAAAAAAAAAAAAAAAAAAAAAAAAAAAAAAAAAAAAAAAAAAAAAAAAAAAAAAAAAAAAAAAAAAAAAAAAAAAAAAAAAAAAAAAAAAAAAAAAAAAAAAAAAAAAAAAAAAAAAAAAAAAAAAAAAAAAAAAAAAAAAAAAAAAAAAAAAAAAAAAAAAAAAAAAAAAAAAAAAAAAAAAAAAAAAAAAAAAAAAAAAAAAAAAAAAAAAAAAAAAAAAAAAAAAAAAAAAAAAAAAAAAAAAAAAAAAAAAAAAAAAAAAAAAAAAAAAAAAAAAAAAAAAAAAAAAAAAAAAAAAAAAAAAAAAAAAAAAAAAAAAAAAAAAAAAAAAAAAAAAAAAAAAAAAAAAAAAAAAAAAAAAAAAAAAAAAAAAAAAAAAAAAAAAAAAAAAAAAAAAAAAAAAAAAAAAAAAAAAAAAAAAAAAAAAAAAAAAAAAAAAAAAAAAAAAAAAAAAAAAAAAAAAAAAAAAAAAAAAAAAAAAAAAAAAAAAAAAAAAAAAAAAAAAAAAAAAAAAAAAAAAAAAAAAAAAAAAAAAAAAAAAAAAAAAAAAAAAAAAAAAAAAAAAAAAAAAAAAAAAAAAAAAAAAAAAAAAAAAAAAAAAAAAAAAAAAAAAAAAAAAAAAAAAAAAAAAAAAAAAAAAAAAAAAAAAAAAAAAAAAAAAAAAAAAAAAAAAAAAAAAAAAAAAAAAAAAAAAAAAAAAAAAAAAAAAAAAAAAAAAAAAAAAAAAAAAAAAAAAAAAAAAAAAAAAAAAAAAAAAAAAAAAAAAAAAAAAAAAAAAAAAAAAAAAAAAAAAAAAAAAAAAAAAAAAAAAAAAAAAAAAAAAAAAAAAAAAAAAAAAAAAAAAAAAAAAAAAAAAAAAAAAAAAAAAAAAAAAAAAAAAAAAAAAAAAAAAAAAAAAAAAAAAAAAAAAAAAAAAAAAAAAAAAAAAAAAAAAAAAAAAAAAAAAAAAAAAAAAAAAAAAAAAAAAAAAAAAAAAAAAAAAAAAAAAAAAAAAAAAAAAAAAAAAAAAAAAAAAAAAAAAAAAAAAAAAAAAAAAAAAAAAAAAAAAAAAAAAAAAAAAAAAAAAAAAAAAAAAAAAAAAAAAAAAAAAAAAAAAAAAAAAAAAAAAAAAAAAAAAAAAAAAAAAAAAAAAAAAAAAAAAAAAAAAAAAAAAAAAAAAAAAAAAAAAAAAAAAAAAAAAAAAAAAAAAAAAAAAAAAAAAAAAAAAAAAAAAAAAAAAAAAAAAAAAAAAAAAAAAAAAAAAAAAAAAAAAAAAAAAAAAAAAAAAAAAAAAAAAAAAAAAAAAAAAAAAAAAAAAAAAAAAAAAAAAAAAAAAAAAAAAAAAAAAAAAAAAAAAAAAAAAAAAAAAAAAAAAAAAAAAAAAAAAAAAAAAAAAAAAAAAAAAAAAAAAAAAAAAAAAAAAAAAAAAAAAAAAAAAAAAAAAAAAAAAAAAAAAAAAAAAAAAAAAAAAAAAAAAAAAAAAAAAAAAAAAAAAAAAAAAAAAAAAAAAAAAAAAAAAAAAAAAAAAAAAAAAAAAAAAAAAAAAAAAAAAAAAAAAAAAAAAAAAAAAAAAAAAAAAAAAAAAAAAAAAAAAAAAAAAAAAAAAAAAAAAAAAAAAAAAAAAAAAAAAAAAAAAAAAAAAAAAAAAAAAAAAAAAAAAAAAAAAAAAAAAAAAAAAAAAAAAAAAAAAAAAAAAAAA==",
          "dtype": "i1"
         },
         "xaxis": "x",
         "yaxis": "y"
        },
        {
         "bingroup": "x",
         "hovertemplate": "label=%{x}<br>count=%{y}<extra></extra>",
         "legendgroup": "3",
         "marker": {
          "color": "#EF553B",
          "line": {
           "color": "#000000",
           "width": 2
          },
          "pattern": {
           "shape": ""
          }
         },
         "name": "3",
         "orientation": "v",
         "showlegend": true,
         "type": "histogram",
         "x": {
          "bdata": "AwMDAwMDAwMDAwMDAwMDAwMDAwMDAwMDAwMDAwMDAwMDAwMDAwMDAwMDAwMDAwMDAwMDAwMDAwMDAwMDAwMDAwMDAwMDAwMDAwMDAwMDAwMDAwMDAwMDAwMDAwMDAwMDAwMDAwMDAwMDAwMDAwMDAwMDAwMDAwMDAwMDAwMDAwMDAwMDAwMDAwMDAwMDAwMDAwMDAwMDAwMDAwMDAwMDAwMDAwMDAwMDAwMDAwMDAwMDAwMDAwMDAwMDAwMDAwMDAwMDAwMDAwMDAwMDAwMDAwMDAwMDAwMDAwMDAwMDAwMDAwMDAwMDAwMDAwMDAwMDAwMDAwMDAwMDAwMDAwMDAwMDAwMDAwMDAwMDAwMDAwMDAwMDAwMDAwMDAwMDAwMDAwMDAwMDAwMDAwMDAwMDAwMDAwMDAwMDAwMDAwMDAwMDAwMDAwMDAwMDAwMDAwMDAwMDAwMDAwMDAwMDAwMDAwMDAwMDAwMDAwMDAwMDAwMDAwMDAwMDAwMDAwMDAwMDAwMDAwMDAwMDAwMDAwMDAwMDAwMDAwMDAwMDAwMDAwMDAwMDAwMDAwMDAwMDAwMDAwMDAwMDAwMDAwMDAwMDAwMDAwMDAwMDAwMDAwMDAwMDAwMDAwMDAwMDAwMDAwMDAwMDAwMDAwMDAwMDAwMDAwMDAwMDAwMDAwMDAwMDAwMDAwMDAwMDAwMDAwMDAwMDAwMDAwMDAwMDAwMDAwMDAwMDAwMDAwMDAwMDAwMDAwMDAwMDAwMDAwMDAwMDAwMDAwMDAwMDAwMDAwMDAwMDAwMDAwMDAwMDAwMDAwMDAwMDAwMDAwMDAwMDAwMDAwMDAwMDAwMDAwMDAwMDAwMDAwMDAwMDAwMDAwMDAwMDAwMDAwMDAwMDAwMDAwMDAwMDAwMDAwMDAwMDAwMDAwMDAwMDAwMDAwMDAwMDAwMDAwMDAwMDAwMDAwMDAwMDAwMDAwMDAwMDAwMDAwMDAwMDAwMDAwMDAwMDAwMDAwMDAwMDAwMDAwMDAwMDAwMDAwMDAwMDAwMDAwMDAwMDAwMDAwMDAwMDAwMDAwMDAwMDAwMDAwMDAwMDAwMDAwMDAwMDAwMDAwMDAwMDAwMDAwMDAwMDAwMDAwMDAwMDAwMDAwMDAwMDAwMDAwMDAwMDAwMDAwMDAwMDAwMDAwMDAwMDAwMDAwMDAwMDAwMDAwMDAwMDAwMDAwMDAwMDAwMDAwMDAwMDAwMDAwMDAwMDAwMDAwMDAwMDAwMDAwMDAwMDAwMDAwMDAwMDAwMDAwMDAwMDAwMDAwMDAwMDAwMDAwMDAwMDAwMDAwMDAwMDAwMDAwMDAwMDAwMDAwMDAwMDAwMDAwMDAwMDAwMDAwMDAwMDAwMDAwMDAwMDAwMDAwMDAwMDAwMDAwMDAwMDAwMDAwMDAwMDAwMDAwMDAwMDAwMDAwMDAwMDAwMDAwMDAwMDAwMDAwMDAwMDAwMDAwMDAwMDAwMDAwMDAwMDAwMDAwMDAwMDAwMDAwMDAwMDAwMDAwMDAwMDAwMDAwMDAwMDAwMDAwMDAwMDAwMDAwMDAwMDAwMDAwMDAwMDAwMDAwMDAwMDAwMDAwMDAwMDAwMDAwMDAwMDAwMDAwMDAwMDAwMDAwMDAwMDAwMDAwMDAwMDAwMDAwMDAwMDAwMDAwMDAwMDAwMDAwMDAwMDAwMDAwMDAwMDAwMDAwMDAwMDAwMDAwMDAwMDAwMDAwMDAwMDAwMDAwMDAwMDAwMDAwMDAwMDAwMDAwMDAwMDAwMDAwMDAwMDAwMDAwMDAwMDAwMDAwMDAwMDAwMDAwMDAwMDAwMDAwMDAwMDAwMDAwMDAwMDAwMDAwMDAwMDAwMDAwMDAwMDAwMDAwMDAwMDAwMDAwMDAwMDAwMDAwMDAwMDAwMDAwMDAwMDAwMDAwMDAwMDAwMDAwMDAwMDAwMDAwMDAwMDAwMDAwMDAwMDAwMDAwMDAwMDAwMDAwMDAwMDAwMDAwMDAwMDAwMDAwMDAwMDAwMDAwMDAwMDAwMDAwMDAwMDAwMDAwMDAwMDAwMDAwMDAwMDAwMDAwMDAwMDAwMDAwMDAwMDAwMDAwMDAwMDAwMDAwMDAwMDAwMDAwMDAwMDAwMDAwMDAwMDAwMDAwMDAwMDAwMDAwMDAwMDAwMDAwMDAwMDAwMDAwMDAwMDAwMDAwMDAwMDAwMDAwMDAwMDAwMDAwMDAwMDAwMDAwMDAwMDAwMDAwMDAwMDAwMDAwMDAwMDAwMDAwMDAwMDAwMDAwMDAwMDAwMDAwMDAwMDAwMDAwMDAwMDAwMDAwMDAwMDAwMDAwMDAwMDAwMDAwMDAwMDAwMDAwMDAwMDAwMDAwMDAwMDAwMDAwMDAwMDAwMDAwMDAwMDAwMDAwMDAwMDAwMDAwMDAwMDAwMDAwMDAwMDAwMDAwMDAwMDAwMDAwMDAwMDAwMDAwMDAwMDAwMDAwMDAwMDAwMDAwMDAwMDAwMDAwMDAwMDAwMDAwMDAwMDAwMDAwMDAwMDAwMDAwMDAwMDAwMDAwMDAwMDAwMDAwMDAwMDAwMDAwMDAwMDAwMDAwMDAwMDAwMDAwMDAwMDAwMDAwMDAwMDAwMDAwMDAwMDAwMDAwMDAwMDAwMDAwMDAwMDAwMDAwMDAwMDAwMDAwMDAwMDAwMDAwMDAwMDAwMDAwMDAwMDAwMDAwMDAwMDAwMDAwMDAwMDAwMDAwMDAwMDAwMDAwMDAwMDAwMDAwMDAwMDAwMDAwMDAwMDAwMDAwMDAwMDAwMDAwMDAwMDAwMDAwMDAwMDAwMDAwMDAwMDAwMDAwMDAwMDAwMDAwMDAwMDAwMDAwMDAwMDAwMDAwMDAwMDAwMDAwMDAwMDAwMDAwMDAwMDAwMDAwMDAwMDAwM=",
          "dtype": "i1"
         },
         "xaxis": "x",
         "yaxis": "y"
        },
        {
         "bingroup": "x",
         "hovertemplate": "label=%{x}<br>count=%{y}<extra></extra>",
         "legendgroup": "2",
         "marker": {
          "color": "#00cc96",
          "line": {
           "color": "#000000",
           "width": 2
          },
          "pattern": {
           "shape": ""
          }
         },
         "name": "2",
         "orientation": "v",
         "showlegend": true,
         "type": "histogram",
         "x": {
          "bdata": "AgICAgICAgICAgICAgICAgICAgICAgICAgICAgICAgICAgICAgICAgICAgICAgICAgICAgICAgICAgICAgICAgICAgICAgICAgICAgICAgICAgICAgICAgICAgICAgICAgICAgICAgICAgICAgICAgICAgICAgICAgICAgICAgICAgICAgICAgICAgICAgICAgICAgICAgICAgICAgICAgICAgICAgICAgICAgICAgICAgICAgICAgICAgICAgICAgICAgICAgICAgICAgICAgICAgICAgICAgICAgICAgICAgICAgICAgICAgICAgICAgICAgICAgICAgICAgICAgICAgICAgICAgICAgICAgICAgICAgICAgICAgICAgICAgICAgICAgICAgICAgICAgICAgICAgICAgICAgICAgICAgICAgICAgICAgICAgICAgICAgICAgICAgICAgICAgICAgICAgICAgICAgICAgICAgICAgICAgICAgICAgICAgICAgICAgICAgICAgICAgICAgICAgICAgICAgICAgICAgICAgICAgICAgICAgICAgICAgICAgICAgICAgICAgICAgICAgICAgICAgICAgICAgICAgICAgICAgICAgICAgICAgICAgICAgICAgICAgICAgICAgICAgICAgICAgICAgICAgICAgICAgICAgICAgICAgICAgICAgICAgICAgICAgICAgICAgICAgICAgICAgICAgICAgICAgICAgICAgICAgICAgICAgICAgICAgICAgICAgICAgICAgICAgICAgICAgICAgICAgICAgICAgICAgICAgICAgICAgICAgICAgICAgICAgICAgICAgICAgICAgICAgICAgICAgICAgICAgICAgICAgICAgICAgICAgICAgICAgICAgICAgICAgICAgICAgICAgICAgICAgICAgICAgICAgICAgICAgICAgICAgICAgICAgICAgICAgICAgICAgICAgICAgICAgICAgICAgICAgICAgICAgICAgICAgICAgICAgICAgICAgICAgICAgICAgICAgICAgICAgICAgICAgICAgICAgICAgICAgICAgICAgICAgICAgICAgICAgICAgICAgICAgICAgICAgICAgICAgICAgICAgICAgICAgICAgICAgICAgICAgICAgICAgICAgICAgICAgICAgICAgICAgICAgICAgICAgICAgICAgICAgICAgICAgICAgICAgICAgICAgICAgICAgICAgICAgICAgICAgICAgICAgICAgICAgICAgICAgICAgICAgICAgICAgICAgICAgICAgICAgICAgICAgICAgICAgICAgICAgICAgICAgICAgICAgICAgICAgICAgICAgICAgICAgICAgICAgICAgICAgICAgICAgICAgICAgICAgICAgICAgICAgICAgICAgICAgICAgICAgICAgICAgICAgICAgICAgICAgICAgICAgICAgICAgICAgICAgICAgICAgICAgICAgICAgICAgICAgICAgICAgICAgICAgICAgICAgICAgICAgICAgICAgICAgICAgICAgICAgICAgICAgICAgICAgICAgICAgICAgICAgICAgICAgICAgICAgICAgICAgICAgICAgICAgICAgICAgICAgICAgICAgICAgICAgICAgICAgICAgICAgI=",
          "dtype": "i1"
         },
         "xaxis": "x",
         "yaxis": "y"
        },
        {
         "bingroup": "x",
         "hovertemplate": "label=%{x}<br>count=%{y}<extra></extra>",
         "legendgroup": "5",
         "marker": {
          "color": "#ab63fa",
          "line": {
           "color": "#000000",
           "width": 2
          },
          "pattern": {
           "shape": ""
          }
         },
         "name": "5",
         "orientation": "v",
         "showlegend": true,
         "type": "histogram",
         "x": {
          "bdata": "BQUFBQUFBQUFBQUFBQUFBQUFBQUFBQUFBQUFBQUFBQUFBQUFBQUFBQUFBQUFBQUFBQUFBQUFBQUFBQUFBQUFBQUFBQUFBQUFBQUFBQUFBQUFBQUFBQUFBQUFBQUFBQUFBQUFBQUFBQUFBQUFBQUFBQUFBQUFBQUFBQUFBQUFBQUFBQUFBQUFBQUFBQUFBQUFBQUFBQUFBQUFBQUFBQUFBQUFBQUFBQUFBQUFBQUFBQUFBQUFBQUFBQUFBQUFBQUFBQUFBQUFBQUFBQUFBQUFBQUFBQUFBQUFBQUFBQUFBQUFBQUFBQUFBQUFBQUFBQUFBQUFBQUFBQUFBQUFBQUFBQUFBQUFBQUFBQUFBQUFBQUFBQUFBQUFBQUFBQUFBQUFBQUFBQUFBQUFBQUFBQUFBQUFBQUFBQUFBQUFBQUFBQUFBQUFBQUFBQUFBQUFBQUFBQUFBQUFBQUFBQUFBQUFBQUFBQUFBQUFBQUFBQUFBQUFBQUFBQUFBQUFBQUFBQUFBQUFBQUFBQUFBQUFBQUFBQUFBQUFBQUFBQUFBQUFBQUFBQUFBQUFBQUFBQUFBQUFBQUFBQUFBQUFBQUFBQUFBQUFBQUFBQUFBQUFBQUFBQUFBQUFBQUFBQUFBQUFBQUFBQUFBQUFBQUFBQUFBQUFBQUFBQUFBQUFBQUFBQUFBQUFBQUFBQUFBQUFBQUFBQUFBQUFBQUFBQUFBQUFBQUFBQUFBQUFBQUFBQUFBQUFBQUFBQUFBQUFBQUFBQU=",
          "dtype": "i1"
         },
         "xaxis": "x",
         "yaxis": "y"
        },
        {
         "bingroup": "x",
         "hovertemplate": "label=%{x}<br>count=%{y}<extra></extra>",
         "legendgroup": "4",
         "marker": {
          "color": "#FFA15A",
          "line": {
           "color": "#000000",
           "width": 2
          },
          "pattern": {
           "shape": ""
          }
         },
         "name": "4",
         "orientation": "v",
         "showlegend": true,
         "type": "histogram",
         "x": {
          "bdata": "BAQEBAQEBAQEBAQEBAQEBAQEBAQEBAQEBAQEBAQEBAQEBAQEBAQEBAQEBAQEBAQEBAQEBAQEBAQEBAQEBAQEBAQEBAQEBAQEBAQEBAQEBAQEBAQEBAQEBAQEBAQEBAQEBAQEBAQEBAQEBAQEBAQEBAQEBAQEBAQEBAQEBAQEBAQEBAQEBAQEBAQEBAQEBAQEBAQEBAQEBAQEBAQEBAQEBAQEBAQEBAQEBAQEBAQEBAQEBAQEBAQEBAQEBAQEBAQEBAQEBAQEBAQEBAQEBAQEBAQEBAQEBAQEBAQEBAQEBAQEBAQEBAQEBAQEBAQEBAQEBAQEBAQEBAQEBAQEBAQEBAQEBAQEBAQEBAQEBAQEBAQEBAQEBAQEBAQEBAQEBAQEBAQEBAQEBAQEBAQEBAQEBAQEBAQEBAQEBAQEBAQEBAQEBAQEBAQEBAQEBAQEBAQEBAQEBAQEBAQEBAQEBAQEBAQEBAQEBAQEBAQEBAQEBAQEBAQEBAQEBAQEBAQEBAQEBAQEBAQEBAQEBAQEBAQEBAQEBAQEBAQEBAQEBAQEBAQEBAQEBAQEBAQEBAQEBAQEBAQEBAQEBAQEBAQEBAQEBAQEBAQEBAQEBAQEBAQEBAQEBAQEBAQEBAQEBAQEBAQEBAQEBAQEBAQEBAQEBAQEBAQEBAQEBAQEBAQEBAQEBAQEBAQEBAQEBAQEBAQEBAQEBAQEBAQEBAQEBAQEBAQEBAQEBAQEBAQEBAQEBAQEBAQEBAQEBAQEBAQEBAQEBAQEBAQEBAQEBAQEBAQEBAQEBAQEBAQEBAQEBAQEBAQEBAQEBAQEBAQEBAQEBAQEBAQEBAQEBAQEBAQEBAQEBAQEBAQEBAQEBAQEBAQEBAQEBAQEBAQEBAQEBAQEBAQEBAQEBAQEBAQEBAQEBAQEBAQEBAQEBAQEBAQEBAQEBAQEBAQEBAQEBAQEBAQEBAQEBAQEBAQEBAQEBAQEBAQEBAQEBAQEBAQEBAQEBAQEBAQEBAQEBAQEBAQEBAQEBAQEBAQEBAQEBAQEBAQEBAQEBAQEBAQEBAQEBAQEBAQEBAQEBAQEBAQEBAQEBAQEBAQEBAQEBAQEBAQEBAQEBAQEBAQEBAQEBAQEBAQEBAQEBAQEBAQEBAQEBAQEBAQEBAQEBAQEBAQEBAQEBAQEBAQEBAQEBAQEBAQEBAQEBAQEBAQEBAQEBAQEBAQEBAQEBAQEBAQEBAQEBAQEBAQEBAQEBAQEBAQEBAQEBAQEBAQEBAQEBAQEBAQEBAQEBAQEBAQEBAQEBAQEBAQEBAQEBAQEBAQEBAQEBAQEBAQEBAQEBAQEBAQEBAQEBAQEBAQEBAQEBAQEBAQEBAQEBAQEBAQEBAQEBAQEBAQEBAQEBAQEBAQEBAQEBAQEBAQEBAQEBAQEBAQEBAQEBAQEBAQEBAQEBAQEBAQEBAQEBAQEBAQEBAQEBAQEBAQEBAQEBAQEBAQEBAQEBAQEBAQEBAQEBAQEBAQEBAQEBAQEBAQEBAQEBAQEBAQEBAQEBAQEBAQEBAQEBAQEBAQEBAQEBAQEBAQEBAQEBAQEBAQEBAQEBAQEBAQEBAQEBAQEBAQEBAQEBAQEBAQEBAQEBAQEBAQEBAQEBAQEBAQEBAQEBAQEBAQEBAQEBAQEBAQEBAQEBAQEBAQEBAQEBAQEBAQEBAQEBAQEBAQEBAQEBAQEBAQEBAQEBAQEBAQEBAQEBAQEBAQEBAQEBAQEBAQEBAQEBAQEBAQEBAQEBAQEBAQEBAQEBAQEBAQEBAQEBAQEBAQEBAQEBAQEBAQEBAQEBAQEBAQEBAQEBAQEBAQEBAQEBAQEBAQEBAQEBAQEBAQEBAQEBAQEBAQEBAQEBAQEBAQEBAQEBAQEBAQEBAQEBAQEBAQEBAQEBAQEBAQEBAQEBAQEBAQEBAQEBAQEBAQEBAQEBAQEBAQEBAQEBAQEBAQEBAQEBAQEBAQEBAQEBAQEBAQEBAQEBAQEBAQEBAQEBAQEBAQEBAQEBAQEBAQEBAQEBAQEBAQEBAQEBAQEBAQEBAQEBAQEBAQEBAQEBAQEBAQEBAQEBAQEBAQEBAQEBAQEBAQEBAQEBAQEBAQEBAQEBAQEBAQEBAQEBAQEBAQEBAQEBAQEBAQEBAQEBAQEBAQEBAQEBAQEBAQEBAQEBAQEBAQEBAQEBAQEBAQEBAQEBAQEBAQEBAQEBAQEBAQEBAQEBAQEBAQEBAQEBAQEBAQEBAQEBAQEBAQEBAQEBAQEBAQEBAQEBAQEBAQEBAQEBAQEBAQEBAQEBAQEBAQEBAQEBAQEBAQEBAQEBAQEBAQEBAQEBAQEBAQEBAQEBAQEBAQEBAQEBAQEBAQEBAQEBAQEBAQEBAQEBAQEBAQEBAQEBAQEBAQEBAQEBAQEBAQEBAQEBAQEBAQEBAQEBAQEBAQEBAQEBAQEBAQEBAQEBAQEBAQEBAQEBAQEBAQEBAQEBAQEBAQEBAQEBAQEBAQEBAQEBAQEBAQEBAQEBAQEBAQEBAQEBAQEBAQEBAQEBAQEBAQEBAQEBAQEBAQEBAQEBAQEBAQEBAQEBAQEBAQEBAQEBAQEBAQEBAQEBAQEBAQ=",
          "dtype": "i1"
         },
         "xaxis": "x",
         "yaxis": "y"
        },
        {
         "bingroup": "x",
         "hovertemplate": "label=%{x}<br>count=%{y}<extra></extra>",
         "legendgroup": "1",
         "marker": {
          "color": "#19d3f3",
          "line": {
           "color": "#000000",
           "width": 2
          },
          "pattern": {
           "shape": ""
          }
         },
         "name": "1",
         "orientation": "v",
         "showlegend": true,
         "type": "histogram",
         "x": {
          "bdata": "AQEBAQEBAQEBAQEBAQEBAQEBAQEBAQEBAQEBAQEBAQEBAQEBAQEBAQEBAQEBAQEBAQEBAQEBAQEBAQEBAQEBAQEBAQEBAQEBAQEBAQEBAQEBAQEBAQEBAQEBAQEBAQEBAQEBAQEBAQEBAQEBAQEBAQEBAQEBAQEBAQEBAQEBAQEBAQEBAQEBAQEBAQEBAQEBAQEBAQEBAQEBAQEBAQEBAQEBAQEBAQEBAQEBAQEBAQEBAQEBAQEBAQEBAQEBAQEBAQEBAQEBAQEBAQEBAQEBAQEBAQEBAQEBAQEBAQEBAQEBAQEBAQEBAQEBAQEBAQEBAQEBAQEBAQEBAQEBAQEBAQEBAQEBAQEBAQEBAQEBAQEBAQEBAQEBAQEBAQEBAQEBAQEBAQEBAQEBAQEBAQEBAQEBAQEBAQEBAQEBAQEBAQEBAQEBAQEBAQEBAQEBAQEBAQEBAQEBAQEBAQEBAQEBAQEBAQEBAQEBAQEBAQEBAQEBAQEBAQEBAQEBAQEBAQEBAQEBAQEBAQEBAQEBAQEBAQEBAQEBAQEBAQEBAQEBAQEBAQEBAQEBAQEBAQEBAQEBAQEBAQEBAQEBAQEBAQEBAQEBAQEBAQEBAQEBAQEBAQEBAQEBAQEBAQEBAQEBAQEBAQEBAQEBAQEBAQEBAQEBAQEBAQEBAQEBAQEBAQEBAQEBAQEBAQEBAQEBAQEBAQEBAQEBAQEBAQEBAQEBAQEBAQEBAQEBAQEBAQEBAQEBAQEBAQEBAQEBAQEBAQEBAQEBAQEBAQEBAQEBAQEBAQEBAQEBAQEBAQEBAQEBAQEBAQEBAQEBAQEBAQEBAQEBAQEBAQEBAQEBAQEBAQEBAQEBAQEBAQEBAQEBAQEBAQEBAQEBAQEBAQEBAQEBAQEBAQEBAQEBAQEBAQEBAQEBAQEBAQEBAQEBAQEBAQEBAQEBAQEBAQEBAQEBAQEBAQEBAQEBAQEBAQEBAQEBAQEBAQEBAQEBAQEBAQEBAQEBAQEBAQEBAQEBAQEBAQEBAQEBAQEBAQEBAQEBAQEBAQEBAQEBAQEBAQEBAQEBAQEBAQEBAQEBAQEBAQEBAQEBAQEBAQEBAQEBAQEBAQEBAQEBAQEBAQEBAQEBAQEBAQEBAQEBAQEBAQEBAQEBAQEBAQEBAQEBAQEBAQEBAQEBAQEBAQEBAQEBAQEBAQEBAQEBAQEBAQEBAQEBAQEBAQEBAQEBAQEBAQEBAQEBAQEBAQEBAQEBAQEBAQEBAQEBAQEBAQEBAQEBAQEBAQEBAQEBAQEBAQEBAQEBAQEBAQEBAQEBAQEBAQEBAQEBAQEBAQEBAQEBAQEBAQEBAQEBAQEBAQEBAQEBAQEBAQEBAQEBAQEBAQEBAQEBAQEBAQEBAQEBAQEBAQEBAQEBAQEBAQEBAQEBAQEBAQEBAQEBAQEBAQEBAQEBAQEBAQEBAQEBAQEBAQEBAQEBAQEBAQEBAQEBAQEBAQEBAQEBAQEBAQEBAQEBAQEBAQEBAQEBAQEBAQEBAQEBAQEBAQEBAQEBAQEBAQEBAQEBAQEBAQEBAQEBAQEBAQEBAQEBAQEBAQEBAQEBAQEBAQEBAQEBAQEBAQEBAQEBAQEBAQEBAQEBAQEBAQEBAQEBAQEBAQEBAQEBAQEBAQEBAQEBAQEBAQEBAQEBAQEBAQEBAQEBAQEBAQEBAQEBAQEBAQEBAQEBAQEBAQEBAQEBAQEBAQEBAQEBAQEBAQEBAQEBAQEBAQEBAQEBAQEBAQEBAQEBAQEBAQEBAQEBAQEBAQEBAQEBAQEBAQEBAQEBAQEBAQEBAQEBAQEBAQEBAQEBAQEBAQEBAQEBAQEBAQEBAQEBAQEBAQEBAQEBAQEBAQEBAQEBAQEBAQEBAQEBAQEBAQEBAQEBAQEBAQEBAQEBAQEBAQEBAQEBAQEBAQEBAQEBAQEBAQEBAQEBAQEBAQEBAQEBAQEBAQEBAQEBAQEBAQEBAQEBAQEBAQEBAQEBAQEBAQEBAQEBAQEBAQEBAQEBAQEBAQEBAQEBAQEBAQEBAQEBAQEBAQEBAQEBAQEBAQEBAQEBAQEBAQEBAQEBAQEBAQEBAQEBAQEBAQEBAQEBAQEBAQEBAQEBAQEBAQEBAQEBAQEBAQEBAQEBAQEBAQEBAQEBAQEBAQEBAQEBAQEBAQEBAQEBAQEBAQEBAQEBAQEBAQEBAQEBAQEBAQEBAQEBAQEBAQEBAQEBAQEBAQEBAQEBAQEBAQEBAQEBAQEBAQEBAQEBAQEBAQEBAQEBAQEBAQEBAQEBAQEBAQEBAQEBAQEBAQEBAQEBAQEBAQEBAQEBAQEBAQEBAQEBAQEBAQEBAQEBAQEBAQEBAQEBAQEBAQEBAQEBAQEBAQEBAQEBAQEBAQEBAQEBAQEBAQEBAQEBAQEBAQEBAQEBAQEBAQEBAQEBAQEBAQEBAQEBAQEBAQEBAQEBAQEBAQEBAQEBAQEBAQEBAQEBAQEBAQEBAQEBAQEBAQEBAQEBAQEBAQEBAQEBAQEBAQEBAQEBAQEBAQEBAQEBAQEBAQEBAQEBAQEBAQEBAQEBAQEBAQEBAQEBAQEBAQEBAQEBAQEBAQEBAQEBAQEBAQEBAQEBAQEBAQEBAQEBAQEBAQEBAQEBAQEBAQEBAQEBAQEBAQEBAQEBAQEBAQEBAQEBAQEBAQEBAQEBAQEBAQEBAQEBAQEBAQEBAQEBAQEBAQEBAQEBAQEBAQEBAQEBAQEBAQEBAQEBAQEBAQEBAQEBAQEBAQEBAQEBAQEBAQEBAQEBAQEBAQEBAQEBAQEBAQEBAQEBAQEBAQEBAQEBAQEBAQEBAQEBAQEBAQEBAQEBAQEBAQEBAQEBAQEBAQEBAQEBAQEBAQEBAQEBAQEBAQEBAQEBAQEBAQEBAQEBAQEBAQEBAQEBAQEBAQEBAQEBAQEBAQEBAQEBAQEBAQEBAQEBAQEBAQEBAQEBAQEBAQEBAQEBAQEBAQEBAQEBAQEBAQEBAQEBAQEBAQEBAQEBAQEBAQEBAQEBAQEBAQEBAQEBAQEBAQEBAQEBAQEBAQEBAQEBAQEBAQEBAQEBAQEBAQEBAQEBAQEBAQEBAQEBAQEBAQEBAQEBAQEBAQEBAQEBAQEBAQEBAQEBAQEBAQEBAQEBAQEBAQEBAQEBAQEBAQEBAQEBAQEBAQEBAQEBAQEBAQEBAQEBAQEBAQEBAQEBAQEBAQEBAQEBAQEBAQEBAQEBAQEBAQEBAQEBAQEBAQEBAQEBAQEBAQEBAQEBAQEBAQEBAQEBAQEBAQEBAQEBAQEBAQEBAQEBAQEBAQEBAQEBAQEBAQEBAQEBAQEBAQEBAQEBAQEBAQEBAQEBAQEBAQEBAQEBAQEBAQEBAQEBAQEBAQEBAQEBAQEBAQEBAQEBAQEBAQEBAQEBAQEBAQEBAQEBAQEBAQEBAQEBAQEBAQEBAQEBAQEBAQEBAQEBAQEBAQEBAQEBAQEBAQEBAQEBAQEBAQEBAQEBAQEBAQEBAQEBAQEBAQEBAQEBAQEBAQEBAQEBAQEBAQEBAQEBAQEBAQEBAQEBAQEBAQEBAQEBAQEBAQEBAQEBAQEBAQEBAQEBAQEBAQEBAQEBAQEBAQEBAQEBAQEBAQEBAQEBAQEBAQEBAQEBAQEBAQEBAQEBAQEBAQEBAQEBAQEBAQEBAQEBAQEBAQEBAQEBAQEBAQEBAQEBAQEBAQEBAQEBAQEBAQEBAQEBAQEBAQEBAQEBAQEBAQEBAQEBAQEBAQEBAQEBAQEBAQEBAQEBAQEBAQEBAQEBAQEBAQEBAQEBAQEBAQEBAQEBAQEBAQEBAQEBAQEBAQEBAQEBAQEBAQEBAQEBAQEBAQEBAQEBAQEBAQEBAQEBAQEBAQEBAQEBAQEBAQEBAQEBAQEBAQEBAQEBAQEBAQEBAQEBAQEBAQEBAQEBAQEBAQEBAQEBAQEBAQEBAQEBAQEBAQEBAQEBAQEBAQEBAQEBAQEBAQEBAQEBAQEBAQEBAQEBAQEBAQEBAQEBAQEBAQEBAQEBAQEBAQEBAQEBAQEBAQEBAQEBAQEBAQEBAQEBAQEBAQEBAQEBAQEBAQEBAQEBAQEBAQEBAQEBAQEBAQEBAQEBAQEBAQEBAQEBAQEBAQEBAQEBAQEBAQEBAQEBAQEBAQEBAQEBAQEBAQEBAQEBAQEBAQEBAQEBAQEBAQEBAQEBAQEBAQEBAQEBAQEBAQEBAQEBAQEBAQEBAQEBAQEBAQEBAQEBAQEBAQEBAQEBAQEBAQEBAQEBAQEBAQEBAQEBAQEBAQEBAQEBAQEBAQEBAQEBAQEBAQEBAQEBAQEBAQEBAQEBAQEBAQEBAQEBAQEBAQEBAQEBAQEBAQEBAQEBAQEBAQEBAQEBAQEBAQEBAQEBAQEBAQEBAQEBAQEBAQEBAQEBAQEBAQEBAQEBAQEBAQEBAQEBAQEBAQEBAQEBAQEBAQEBAQEBAQEBAQEBAQEBAQEBAQEBAQEBAQEBAQEBAQEBAQEBAQEBAQEBAQEBAQEBAQEBAQEBAQEBAQEBAQEBAQEBAQEBAQEBAQEBAQEBAQEBAQEBAQEBAQEBAQEBAQEBAQEBAQEBAQEBAQEBAQEBAQEBAQEBAQEBAQEBAQEBAQEBAQEBAQEBAQEBAQEBAQEBAQEBAQEBAQEBAQEBAQEBAQEBAQEBAQEBAQEBAQEBAQEBAQEBAQEBAQEBAQEBAQEBAQEBAQEBAQEBAQEBAQEBAQEBAQEBAQEBAQEBAQEBAQEBAQEBAQEBAQEBAQEBAQEBAQEBAQEBAQEBAQEBAQEBAQEBAQEBAQEBAQEBAQEBAQEBAQEBAQEBAQEBAQEBAQEBAQEBAQEBAQEBAQEBAQEBAQEBAQEBAQEBAQEBAQEBAQEBAQEBAQEBAQEBAQEBAQEBAQEBAQEBAQEBAQEBAQEBAQEBAQEBAQEBAQEBAQEBAQEBAQEBAQEBAQEBAQEBAQEBAQEBAQEBAQEBAQEBAQEBAQEBAQEBAQEBAQEBAQEBAQEBAQEBAQEBAQEBAQEBAQEBAQEBAQEBAQEBAQEBAQEBAQEBAQEBAQEBAQEBAQEBAQEBAQEBAQEBAQEBAQEBAQEBAQEBAQEBAQEBAQEBAQEBAQEBAQEBAQEBAQEBAQEBAQEBAQEBAQEBAQEBAQEBAQEBAQEBAQEBAQEBAQEBAQEBAQEBAQEBAQEBAQEBAQEBAQEBAQEBAQEBAQEBAQEBAQEBAQEBAQEBAQEBAQEBAQEBAQEBAQEBAQEBAQEBAQEBAQEBAQEBAQEBAQEBAQEBAQEBAQEBAQEBAQEBAQEBAQEBAQEBAQEBAQEBAQEBAQEBAQEBAQEBAQEBAQEBAQEBAQEBAQEBAQEBAQEBAQEBAQEBAQEBAQEBAQEBAQEBAQEBAQEBAQEBAQEBAQEBAQEBAQEBAQEBAQEBAQEBAQEBAQEBAQEBAQEBAQEBAQEBAQEBAQEBAQEBAQEBAQEBAQEBAQEBAQEBAQEBAQEBAQEBAQEBAQEBAQEBAQEBAQEBAQEBAQEBAQEBAQEBAQEBAQEBAQEBAQEBAQEBAQEBAQEBAQEBAQEBAQEBAQEBAQEBAQEBAQEBAQEBAQEBAQEBAQEBAQEBAQEBAQEBAQEBAQEBAQEBAQEBAQEBAQEBAQEBAQEBAQEBAQEBAQEBAQEBAQEBAQEBAQEBAQEBAQEBAQEBAQEBAQEBAQEBAQEBAQEBAQEBAQEBAQEBAQEBAQEBAQEBAQEBAQEBAQEBAQEBAQEBAQEBAQEBAQEBAQEBAQEBAQEBAQEBAQEBAQEBAQEBAQEBAQEBAQEBAQEBAQEBAQEBAQEBAQEBAQEBAQEBAQEBAQEBAQEBAQEBAQEBAQEBAQEBAQEBAQEBAQEBAQEBAQEBAQEBAQEBAQEBAQEBAQEBAQEBAQEBAQEBAQEBAQEBAQEBAQEBAQEBAQEBAQEBAQEBAQEBAQEBAQEBAQEBAQEBAQEBAQEBAQEBAQEBAQEBAQEBAQEBAQEBAQEBAQEBAQEBAQEBAQEBAQEBAQEBAQEBAQEBAQEBAQEBAQEBAQEBAQEBAQEBAQEBAQEBAQEBAQEBAQEBAQEBAQEBAQEBAQEBAQEBAQEBAQEBAQEBAQEBAQEBAQEBAQEBAQEBAQEBAQEBAQEBAQEBAQEBAQEBAQEBAQEBAQEBAQEBAQEBAQEBAQEBAQEBAQEBAQEBAQEBAQEBAQEBAQEBAQEBAQEBAQEBAQEBAQEBAQEBAQEBAQEBAQEBAQEBAQEBAQEBAQEBAQEBAQEBAQEBAQEBAQEBAQEBAQEBAQEBAQEBAQEBAQEBAQEBAQEBAQEBAQEBAQEBAQEBAQEBAQEBAQEBAQEBAQEBAQEBAQEBAQEBAQEBAQEBAQEBAQEBAQEBAQEBAQEBAQEBAQEBAQEBAQEBAQEBAQEBAQEBAQEBAQEBAQEBAQEBAQEBAQEBAQEBAQEBAQEBAQEBAQEBAQEBAQEBAQEBAQEBAQEBAQEBAQEBAQEBAQEBAQEBAQEBAQEBAQEBAQEBAQEBAQEBAQEBAQEBAQEBAQEBAQEBAQEBAQEBAQEBAQEBAQEBAQEBAQEBAQEBAQEBAQEBAQEBAQEBAQEBAQEBAQEBAQEBAQEBAQEBAQEBAQEBAQEBAQEBAQEBAQEBAQEBAQEBAQEBAQEBAQEBAQEBAQEBAQEBAQEBAQEBAQEBAQEBAQEBAQEBAQEBAQEBAQEBAQEBAQEBAQEBAQEBAQEBAQEBAQEBAQEBAQEBAQEBAQEBAQEBAQEBAQEBAQEBAQEBAQEBAQEBAQEBAQEBAQEBAQEBAQEBAQEBAQEBAQEBAQEBAQEBAQEBAQEBAQEBAQEBAQEBAQEBAQEBAQEBAQEBAQEBAQEBAQEBAQEBAQEBAQEBAQEBAQEBAQEBAQEBAQEBAQEBAQEBAQEBAQEBAQEBAQEBAQEBAQEBAQEBAQEBAQEBAQEBAQEBAQEBAQEBAQEBAQEBAQEBAQEBAQEBAQEBAQEBAQEBAQEBAQEBAQEBAQEBAQEBAQEBAQEBAQEBAQEBAQEBAQEBAQEBAQEBAQEBAQEBAQEBAQEBAQEBAQEBAQEBAQEBAQEBAQEBAQEBAQEBAQEBAQEBAQEBAQEBAQEBAQEBAQEBAQEBAQEBAQEBAQEBAQEBAQEBAQEBAQEBAQEBAQEBAQEBAQEBAQEBAQEBAQEBAQEBAQ==",
          "dtype": "i1"
         },
         "xaxis": "x",
         "yaxis": "y"
        }
       ],
       "layout": {
        "barmode": "relative",
        "legend": {
         "title": {
          "text": "label"
         },
         "tracegroupgap": 0
        },
        "margin": {
         "t": 60
        },
        "template": {
         "data": {
          "bar": [
           {
            "error_x": {
             "color": "#2a3f5f"
            },
            "error_y": {
             "color": "#2a3f5f"
            },
            "marker": {
             "line": {
              "color": "#E5ECF6",
              "width": 0.5
             },
             "pattern": {
              "fillmode": "overlay",
              "size": 10,
              "solidity": 0.2
             }
            },
            "type": "bar"
           }
          ],
          "barpolar": [
           {
            "marker": {
             "line": {
              "color": "#E5ECF6",
              "width": 0.5
             },
             "pattern": {
              "fillmode": "overlay",
              "size": 10,
              "solidity": 0.2
             }
            },
            "type": "barpolar"
           }
          ],
          "carpet": [
           {
            "aaxis": {
             "endlinecolor": "#2a3f5f",
             "gridcolor": "white",
             "linecolor": "white",
             "minorgridcolor": "white",
             "startlinecolor": "#2a3f5f"
            },
            "baxis": {
             "endlinecolor": "#2a3f5f",
             "gridcolor": "white",
             "linecolor": "white",
             "minorgridcolor": "white",
             "startlinecolor": "#2a3f5f"
            },
            "type": "carpet"
           }
          ],
          "choropleth": [
           {
            "colorbar": {
             "outlinewidth": 0,
             "ticks": ""
            },
            "type": "choropleth"
           }
          ],
          "contour": [
           {
            "colorbar": {
             "outlinewidth": 0,
             "ticks": ""
            },
            "colorscale": [
             [
              0,
              "#0d0887"
             ],
             [
              0.1111111111111111,
              "#46039f"
             ],
             [
              0.2222222222222222,
              "#7201a8"
             ],
             [
              0.3333333333333333,
              "#9c179e"
             ],
             [
              0.4444444444444444,
              "#bd3786"
             ],
             [
              0.5555555555555556,
              "#d8576b"
             ],
             [
              0.6666666666666666,
              "#ed7953"
             ],
             [
              0.7777777777777778,
              "#fb9f3a"
             ],
             [
              0.8888888888888888,
              "#fdca26"
             ],
             [
              1,
              "#f0f921"
             ]
            ],
            "type": "contour"
           }
          ],
          "contourcarpet": [
           {
            "colorbar": {
             "outlinewidth": 0,
             "ticks": ""
            },
            "type": "contourcarpet"
           }
          ],
          "heatmap": [
           {
            "colorbar": {
             "outlinewidth": 0,
             "ticks": ""
            },
            "colorscale": [
             [
              0,
              "#0d0887"
             ],
             [
              0.1111111111111111,
              "#46039f"
             ],
             [
              0.2222222222222222,
              "#7201a8"
             ],
             [
              0.3333333333333333,
              "#9c179e"
             ],
             [
              0.4444444444444444,
              "#bd3786"
             ],
             [
              0.5555555555555556,
              "#d8576b"
             ],
             [
              0.6666666666666666,
              "#ed7953"
             ],
             [
              0.7777777777777778,
              "#fb9f3a"
             ],
             [
              0.8888888888888888,
              "#fdca26"
             ],
             [
              1,
              "#f0f921"
             ]
            ],
            "type": "heatmap"
           }
          ],
          "histogram": [
           {
            "marker": {
             "pattern": {
              "fillmode": "overlay",
              "size": 10,
              "solidity": 0.2
             }
            },
            "type": "histogram"
           }
          ],
          "histogram2d": [
           {
            "colorbar": {
             "outlinewidth": 0,
             "ticks": ""
            },
            "colorscale": [
             [
              0,
              "#0d0887"
             ],
             [
              0.1111111111111111,
              "#46039f"
             ],
             [
              0.2222222222222222,
              "#7201a8"
             ],
             [
              0.3333333333333333,
              "#9c179e"
             ],
             [
              0.4444444444444444,
              "#bd3786"
             ],
             [
              0.5555555555555556,
              "#d8576b"
             ],
             [
              0.6666666666666666,
              "#ed7953"
             ],
             [
              0.7777777777777778,
              "#fb9f3a"
             ],
             [
              0.8888888888888888,
              "#fdca26"
             ],
             [
              1,
              "#f0f921"
             ]
            ],
            "type": "histogram2d"
           }
          ],
          "histogram2dcontour": [
           {
            "colorbar": {
             "outlinewidth": 0,
             "ticks": ""
            },
            "colorscale": [
             [
              0,
              "#0d0887"
             ],
             [
              0.1111111111111111,
              "#46039f"
             ],
             [
              0.2222222222222222,
              "#7201a8"
             ],
             [
              0.3333333333333333,
              "#9c179e"
             ],
             [
              0.4444444444444444,
              "#bd3786"
             ],
             [
              0.5555555555555556,
              "#d8576b"
             ],
             [
              0.6666666666666666,
              "#ed7953"
             ],
             [
              0.7777777777777778,
              "#fb9f3a"
             ],
             [
              0.8888888888888888,
              "#fdca26"
             ],
             [
              1,
              "#f0f921"
             ]
            ],
            "type": "histogram2dcontour"
           }
          ],
          "mesh3d": [
           {
            "colorbar": {
             "outlinewidth": 0,
             "ticks": ""
            },
            "type": "mesh3d"
           }
          ],
          "parcoords": [
           {
            "line": {
             "colorbar": {
              "outlinewidth": 0,
              "ticks": ""
             }
            },
            "type": "parcoords"
           }
          ],
          "pie": [
           {
            "automargin": true,
            "type": "pie"
           }
          ],
          "scatter": [
           {
            "fillpattern": {
             "fillmode": "overlay",
             "size": 10,
             "solidity": 0.2
            },
            "type": "scatter"
           }
          ],
          "scatter3d": [
           {
            "line": {
             "colorbar": {
              "outlinewidth": 0,
              "ticks": ""
             }
            },
            "marker": {
             "colorbar": {
              "outlinewidth": 0,
              "ticks": ""
             }
            },
            "type": "scatter3d"
           }
          ],
          "scattercarpet": [
           {
            "marker": {
             "colorbar": {
              "outlinewidth": 0,
              "ticks": ""
             }
            },
            "type": "scattercarpet"
           }
          ],
          "scattergeo": [
           {
            "marker": {
             "colorbar": {
              "outlinewidth": 0,
              "ticks": ""
             }
            },
            "type": "scattergeo"
           }
          ],
          "scattergl": [
           {
            "marker": {
             "colorbar": {
              "outlinewidth": 0,
              "ticks": ""
             }
            },
            "type": "scattergl"
           }
          ],
          "scattermap": [
           {
            "marker": {
             "colorbar": {
              "outlinewidth": 0,
              "ticks": ""
             }
            },
            "type": "scattermap"
           }
          ],
          "scattermapbox": [
           {
            "marker": {
             "colorbar": {
              "outlinewidth": 0,
              "ticks": ""
             }
            },
            "type": "scattermapbox"
           }
          ],
          "scatterpolar": [
           {
            "marker": {
             "colorbar": {
              "outlinewidth": 0,
              "ticks": ""
             }
            },
            "type": "scatterpolar"
           }
          ],
          "scatterpolargl": [
           {
            "marker": {
             "colorbar": {
              "outlinewidth": 0,
              "ticks": ""
             }
            },
            "type": "scatterpolargl"
           }
          ],
          "scatterternary": [
           {
            "marker": {
             "colorbar": {
              "outlinewidth": 0,
              "ticks": ""
             }
            },
            "type": "scatterternary"
           }
          ],
          "surface": [
           {
            "colorbar": {
             "outlinewidth": 0,
             "ticks": ""
            },
            "colorscale": [
             [
              0,
              "#0d0887"
             ],
             [
              0.1111111111111111,
              "#46039f"
             ],
             [
              0.2222222222222222,
              "#7201a8"
             ],
             [
              0.3333333333333333,
              "#9c179e"
             ],
             [
              0.4444444444444444,
              "#bd3786"
             ],
             [
              0.5555555555555556,
              "#d8576b"
             ],
             [
              0.6666666666666666,
              "#ed7953"
             ],
             [
              0.7777777777777778,
              "#fb9f3a"
             ],
             [
              0.8888888888888888,
              "#fdca26"
             ],
             [
              1,
              "#f0f921"
             ]
            ],
            "type": "surface"
           }
          ],
          "table": [
           {
            "cells": {
             "fill": {
              "color": "#EBF0F8"
             },
             "line": {
              "color": "white"
             }
            },
            "header": {
             "fill": {
              "color": "#C8D4E3"
             },
             "line": {
              "color": "white"
             }
            },
            "type": "table"
           }
          ]
         },
         "layout": {
          "annotationdefaults": {
           "arrowcolor": "#2a3f5f",
           "arrowhead": 0,
           "arrowwidth": 1
          },
          "autotypenumbers": "strict",
          "coloraxis": {
           "colorbar": {
            "outlinewidth": 0,
            "ticks": ""
           }
          },
          "colorscale": {
           "diverging": [
            [
             0,
             "#8e0152"
            ],
            [
             0.1,
             "#c51b7d"
            ],
            [
             0.2,
             "#de77ae"
            ],
            [
             0.3,
             "#f1b6da"
            ],
            [
             0.4,
             "#fde0ef"
            ],
            [
             0.5,
             "#f7f7f7"
            ],
            [
             0.6,
             "#e6f5d0"
            ],
            [
             0.7,
             "#b8e186"
            ],
            [
             0.8,
             "#7fbc41"
            ],
            [
             0.9,
             "#4d9221"
            ],
            [
             1,
             "#276419"
            ]
           ],
           "sequential": [
            [
             0,
             "#0d0887"
            ],
            [
             0.1111111111111111,
             "#46039f"
            ],
            [
             0.2222222222222222,
             "#7201a8"
            ],
            [
             0.3333333333333333,
             "#9c179e"
            ],
            [
             0.4444444444444444,
             "#bd3786"
            ],
            [
             0.5555555555555556,
             "#d8576b"
            ],
            [
             0.6666666666666666,
             "#ed7953"
            ],
            [
             0.7777777777777778,
             "#fb9f3a"
            ],
            [
             0.8888888888888888,
             "#fdca26"
            ],
            [
             1,
             "#f0f921"
            ]
           ],
           "sequentialminus": [
            [
             0,
             "#0d0887"
            ],
            [
             0.1111111111111111,
             "#46039f"
            ],
            [
             0.2222222222222222,
             "#7201a8"
            ],
            [
             0.3333333333333333,
             "#9c179e"
            ],
            [
             0.4444444444444444,
             "#bd3786"
            ],
            [
             0.5555555555555556,
             "#d8576b"
            ],
            [
             0.6666666666666666,
             "#ed7953"
            ],
            [
             0.7777777777777778,
             "#fb9f3a"
            ],
            [
             0.8888888888888888,
             "#fdca26"
            ],
            [
             1,
             "#f0f921"
            ]
           ]
          },
          "colorway": [
           "#636efa",
           "#EF553B",
           "#00cc96",
           "#ab63fa",
           "#FFA15A",
           "#19d3f3",
           "#FF6692",
           "#B6E880",
           "#FF97FF",
           "#FECB52"
          ],
          "font": {
           "color": "#2a3f5f"
          },
          "geo": {
           "bgcolor": "white",
           "lakecolor": "white",
           "landcolor": "#E5ECF6",
           "showlakes": true,
           "showland": true,
           "subunitcolor": "white"
          },
          "hoverlabel": {
           "align": "left"
          },
          "hovermode": "closest",
          "mapbox": {
           "style": "light"
          },
          "paper_bgcolor": "white",
          "plot_bgcolor": "#E5ECF6",
          "polar": {
           "angularaxis": {
            "gridcolor": "white",
            "linecolor": "white",
            "ticks": ""
           },
           "bgcolor": "#E5ECF6",
           "radialaxis": {
            "gridcolor": "white",
            "linecolor": "white",
            "ticks": ""
           }
          },
          "scene": {
           "xaxis": {
            "backgroundcolor": "#E5ECF6",
            "gridcolor": "white",
            "gridwidth": 2,
            "linecolor": "white",
            "showbackground": true,
            "ticks": "",
            "zerolinecolor": "white"
           },
           "yaxis": {
            "backgroundcolor": "#E5ECF6",
            "gridcolor": "white",
            "gridwidth": 2,
            "linecolor": "white",
            "showbackground": true,
            "ticks": "",
            "zerolinecolor": "white"
           },
           "zaxis": {
            "backgroundcolor": "#E5ECF6",
            "gridcolor": "white",
            "gridwidth": 2,
            "linecolor": "white",
            "showbackground": true,
            "ticks": "",
            "zerolinecolor": "white"
           }
          },
          "shapedefaults": {
           "line": {
            "color": "#2a3f5f"
           }
          },
          "ternary": {
           "aaxis": {
            "gridcolor": "white",
            "linecolor": "white",
            "ticks": ""
           },
           "baxis": {
            "gridcolor": "white",
            "linecolor": "white",
            "ticks": ""
           },
           "bgcolor": "#E5ECF6",
           "caxis": {
            "gridcolor": "white",
            "linecolor": "white",
            "ticks": ""
           }
          },
          "title": {
           "x": 0.05
          },
          "xaxis": {
           "automargin": true,
           "gridcolor": "white",
           "linecolor": "white",
           "ticks": "",
           "title": {
            "standoff": 15
           },
           "zerolinecolor": "white",
           "zerolinewidth": 2
          },
          "yaxis": {
           "automargin": true,
           "gridcolor": "white",
           "linecolor": "white",
           "ticks": "",
           "title": {
            "standoff": 15
           },
           "zerolinecolor": "white",
           "zerolinewidth": 2
          }
         }
        },
        "title": {
         "font": {
          "size": 20
         },
         "text": "dist of labels",
         "x": 0.5
        },
        "xaxis": {
         "anchor": "y",
         "categoryarray": [
          0,
          3,
          2,
          5,
          4,
          1
         ],
         "categoryorder": "array",
         "domain": [
          0,
          1
         ],
         "title": {
          "text": "label"
         }
        },
        "yaxis": {
         "anchor": "x",
         "domain": [
          0,
          1
         ],
         "title": {
          "text": "count"
         }
        }
       }
      }
     },
     "metadata": {},
     "output_type": "display_data"
    }
   ],
   "source": [
    "fig = px.histogram(train, x='label', color='label')\n",
    "fig.update_traces(marker=dict(line=dict(color='#000000', width=2)))\n",
    "\n",
    "fig.update_layout(title_text='dist of labels', title_x=0.5, title_font=dict(size=20))\n",
    "\n",
    "fig.show()"
   ]
  },
  {
   "cell_type": "markdown",
   "metadata": {},
   "source": [
    "## frequency of words in train datasets"
   ]
  },
  {
   "cell_type": "code",
   "execution_count": 16,
   "metadata": {},
   "outputs": [
    {
     "data": {
      "text/plain": [
       "Index(['i', 'feel', 'and', 'to', 'the', 'a', 'feeling', 'that', 'of', 'my',\n",
       "       ...\n",
       "       'few', 'year', 'thought', 'first', 'times', 'family', 'started', 'able',\n",
       "       'said', 'week'],\n",
       "      dtype='object', length=200)"
      ]
     },
     "execution_count": 16,
     "metadata": {},
     "output_type": "execute_result"
    }
   ],
   "source": [
    "freq_of_words = train['text'].str.split(expand=True).stack().value_counts()\n",
    "\n",
    "freq_of_words_top200 = freq_of_words[:200]\n",
    "freq_of_words_top200.index"
   ]
  },
  {
   "cell_type": "code",
   "execution_count": 17,
   "metadata": {},
   "outputs": [
    {
     "data": {
      "application/vnd.plotly.v1+json": {
       "config": {
        "plotlyServerURL": "https://plot.ly"
       },
       "data": [
        {
         "branchvalues": "total",
         "domain": {
          "x": [
           0,
           1
          ],
          "y": [
           0,
           1
          ]
         },
         "hovertemplate": "labels=%{label}<br>count=%{value}<br>parent=%{parent}<br>id=%{id}<extra></extra>",
         "ids": [
          "i",
          "feel",
          "and",
          "to",
          "the",
          "a",
          "feeling",
          "that",
          "of",
          "my",
          "in",
          "it",
          "like",
          "so",
          "for",
          "im",
          "me",
          "but",
          "was",
          "have",
          "is",
          "this",
          "am",
          "with",
          "not",
          "about",
          "be",
          "as",
          "on",
          "you",
          "just",
          "at",
          "when",
          "or",
          "all",
          "because",
          "more",
          "do",
          "can",
          "really",
          "up",
          "t",
          "are",
          "by",
          "very",
          "know",
          "been",
          "if",
          "out",
          "myself",
          "time",
          "how",
          "what",
          "get",
          "little",
          "had",
          "now",
          "will",
          "from",
          "being",
          "they",
          "people",
          "them",
          "would",
          "he",
          "want",
          "her",
          "some",
          "think",
          "one",
          "still",
          "ive",
          "him",
          "even",
          "an",
          "who",
          "life",
          "its",
          "make",
          "there",
          "we",
          "bit",
          "something",
          "love",
          "much",
          "going",
          "dont",
          "things",
          "s",
          "way",
          "could",
          "m",
          "too",
          "than",
          "no",
          "day",
          "she",
          "has",
          "back",
          "go",
          "good",
          "pretty",
          "don",
          "need",
          "into",
          "his",
          "which",
          "these",
          "your",
          "their",
          "always",
          "see",
          "right",
          "feelings",
          "over",
          "also",
          "only",
          "say",
          "other",
          "should",
          "today",
          "feels",
          "work",
          "then",
          "after",
          "did",
          "around",
          "again",
          "were",
          "cant",
          "made",
          "our",
          "most",
          "here",
          "well",
          "though",
          "through",
          "didnt",
          "help",
          "got",
          "down",
          "those",
          "felt",
          "never",
          "any",
          "every",
          "someone",
          "having",
          "days",
          "less",
          "makes",
          "where",
          "happy",
          "doing",
          "quite",
          "enough",
          "lot",
          "many",
          "sure",
          "why",
          "away",
          "look",
          "find",
          "ever",
          "anything",
          "home",
          "kind",
          "off",
          "better",
          "person",
          "left",
          "friends",
          "before",
          "without",
          "own",
          "everything",
          "actually",
          "last",
          "getting",
          "such",
          "come",
          "world",
          "take",
          "new",
          "sometimes",
          "while",
          "http",
          "thing",
          "remember",
          "trying",
          "few",
          "year",
          "thought",
          "first",
          "times",
          "family",
          "started",
          "able",
          "said",
          "week"
         ],
         "labels": [
          "i",
          "feel",
          "and",
          "to",
          "the",
          "a",
          "feeling",
          "that",
          "of",
          "my",
          "in",
          "it",
          "like",
          "so",
          "for",
          "im",
          "me",
          "but",
          "was",
          "have",
          "is",
          "this",
          "am",
          "with",
          "not",
          "about",
          "be",
          "as",
          "on",
          "you",
          "just",
          "at",
          "when",
          "or",
          "all",
          "because",
          "more",
          "do",
          "can",
          "really",
          "up",
          "t",
          "are",
          "by",
          "very",
          "know",
          "been",
          "if",
          "out",
          "myself",
          "time",
          "how",
          "what",
          "get",
          "little",
          "had",
          "now",
          "will",
          "from",
          "being",
          "they",
          "people",
          "them",
          "would",
          "he",
          "want",
          "her",
          "some",
          "think",
          "one",
          "still",
          "ive",
          "him",
          "even",
          "an",
          "who",
          "life",
          "its",
          "make",
          "there",
          "we",
          "bit",
          "something",
          "love",
          "much",
          "going",
          "dont",
          "things",
          "s",
          "way",
          "could",
          "m",
          "too",
          "than",
          "no",
          "day",
          "she",
          "has",
          "back",
          "go",
          "good",
          "pretty",
          "don",
          "need",
          "into",
          "his",
          "which",
          "these",
          "your",
          "their",
          "always",
          "see",
          "right",
          "feelings",
          "over",
          "also",
          "only",
          "say",
          "other",
          "should",
          "today",
          "feels",
          "work",
          "then",
          "after",
          "did",
          "around",
          "again",
          "were",
          "cant",
          "made",
          "our",
          "most",
          "here",
          "well",
          "though",
          "through",
          "didnt",
          "help",
          "got",
          "down",
          "those",
          "felt",
          "never",
          "any",
          "every",
          "someone",
          "having",
          "days",
          "less",
          "makes",
          "where",
          "happy",
          "doing",
          "quite",
          "enough",
          "lot",
          "many",
          "sure",
          "why",
          "away",
          "look",
          "find",
          "ever",
          "anything",
          "home",
          "kind",
          "off",
          "better",
          "person",
          "left",
          "friends",
          "before",
          "without",
          "own",
          "everything",
          "actually",
          "last",
          "getting",
          "such",
          "come",
          "world",
          "take",
          "new",
          "sometimes",
          "while",
          "http",
          "thing",
          "remember",
          "trying",
          "few",
          "year",
          "thought",
          "first",
          "times",
          "family",
          "started",
          "able",
          "said",
          "week"
         ],
         "name": "",
         "parents": [
          "",
          "",
          "",
          "",
          "",
          "",
          "",
          "",
          "",
          "",
          "",
          "",
          "",
          "",
          "",
          "",
          "",
          "",
          "",
          "",
          "",
          "",
          "",
          "",
          "",
          "",
          "",
          "",
          "",
          "",
          "",
          "",
          "",
          "",
          "",
          "",
          "",
          "",
          "",
          "",
          "",
          "",
          "",
          "",
          "",
          "",
          "",
          "",
          "",
          "",
          "",
          "",
          "",
          "",
          "",
          "",
          "",
          "",
          "",
          "",
          "",
          "",
          "",
          "",
          "",
          "",
          "",
          "",
          "",
          "",
          "",
          "",
          "",
          "",
          "",
          "",
          "",
          "",
          "",
          "",
          "",
          "",
          "",
          "",
          "",
          "",
          "",
          "",
          "",
          "",
          "",
          "",
          "",
          "",
          "",
          "",
          "",
          "",
          "",
          "",
          "",
          "",
          "",
          "",
          "",
          "",
          "",
          "",
          "",
          "",
          "",
          "",
          "",
          "",
          "",
          "",
          "",
          "",
          "",
          "",
          "",
          "",
          "",
          "",
          "",
          "",
          "",
          "",
          "",
          "",
          "",
          "",
          "",
          "",
          "",
          "",
          "",
          "",
          "",
          "",
          "",
          "",
          "",
          "",
          "",
          "",
          "",
          "",
          "",
          "",
          "",
          "",
          "",
          "",
          "",
          "",
          "",
          "",
          "",
          "",
          "",
          "",
          "",
          "",
          "",
          "",
          "",
          "",
          "",
          "",
          "",
          "",
          "",
          "",
          "",
          "",
          "",
          "",
          "",
          "",
          "",
          "",
          "",
          "",
          "",
          "",
          "",
          "",
          "",
          "",
          "",
          "",
          "",
          "",
          "",
          "",
          "",
          "",
          "",
          ""
         ],
         "textinfo": "label+value",
         "type": "treemap",
         "values": {
          "bdata": "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",
          "dtype": "f8"
         }
        }
       ],
       "layout": {
        "legend": {
         "tracegroupgap": 0
        },
        "margin": {
         "t": 60
        },
        "template": {
         "data": {
          "bar": [
           {
            "error_x": {
             "color": "#2a3f5f"
            },
            "error_y": {
             "color": "#2a3f5f"
            },
            "marker": {
             "line": {
              "color": "#E5ECF6",
              "width": 0.5
             },
             "pattern": {
              "fillmode": "overlay",
              "size": 10,
              "solidity": 0.2
             }
            },
            "type": "bar"
           }
          ],
          "barpolar": [
           {
            "marker": {
             "line": {
              "color": "#E5ECF6",
              "width": 0.5
             },
             "pattern": {
              "fillmode": "overlay",
              "size": 10,
              "solidity": 0.2
             }
            },
            "type": "barpolar"
           }
          ],
          "carpet": [
           {
            "aaxis": {
             "endlinecolor": "#2a3f5f",
             "gridcolor": "white",
             "linecolor": "white",
             "minorgridcolor": "white",
             "startlinecolor": "#2a3f5f"
            },
            "baxis": {
             "endlinecolor": "#2a3f5f",
             "gridcolor": "white",
             "linecolor": "white",
             "minorgridcolor": "white",
             "startlinecolor": "#2a3f5f"
            },
            "type": "carpet"
           }
          ],
          "choropleth": [
           {
            "colorbar": {
             "outlinewidth": 0,
             "ticks": ""
            },
            "type": "choropleth"
           }
          ],
          "contour": [
           {
            "colorbar": {
             "outlinewidth": 0,
             "ticks": ""
            },
            "colorscale": [
             [
              0,
              "#0d0887"
             ],
             [
              0.1111111111111111,
              "#46039f"
             ],
             [
              0.2222222222222222,
              "#7201a8"
             ],
             [
              0.3333333333333333,
              "#9c179e"
             ],
             [
              0.4444444444444444,
              "#bd3786"
             ],
             [
              0.5555555555555556,
              "#d8576b"
             ],
             [
              0.6666666666666666,
              "#ed7953"
             ],
             [
              0.7777777777777778,
              "#fb9f3a"
             ],
             [
              0.8888888888888888,
              "#fdca26"
             ],
             [
              1,
              "#f0f921"
             ]
            ],
            "type": "contour"
           }
          ],
          "contourcarpet": [
           {
            "colorbar": {
             "outlinewidth": 0,
             "ticks": ""
            },
            "type": "contourcarpet"
           }
          ],
          "heatmap": [
           {
            "colorbar": {
             "outlinewidth": 0,
             "ticks": ""
            },
            "colorscale": [
             [
              0,
              "#0d0887"
             ],
             [
              0.1111111111111111,
              "#46039f"
             ],
             [
              0.2222222222222222,
              "#7201a8"
             ],
             [
              0.3333333333333333,
              "#9c179e"
             ],
             [
              0.4444444444444444,
              "#bd3786"
             ],
             [
              0.5555555555555556,
              "#d8576b"
             ],
             [
              0.6666666666666666,
              "#ed7953"
             ],
             [
              0.7777777777777778,
              "#fb9f3a"
             ],
             [
              0.8888888888888888,
              "#fdca26"
             ],
             [
              1,
              "#f0f921"
             ]
            ],
            "type": "heatmap"
           }
          ],
          "histogram": [
           {
            "marker": {
             "pattern": {
              "fillmode": "overlay",
              "size": 10,
              "solidity": 0.2
             }
            },
            "type": "histogram"
           }
          ],
          "histogram2d": [
           {
            "colorbar": {
             "outlinewidth": 0,
             "ticks": ""
            },
            "colorscale": [
             [
              0,
              "#0d0887"
             ],
             [
              0.1111111111111111,
              "#46039f"
             ],
             [
              0.2222222222222222,
              "#7201a8"
             ],
             [
              0.3333333333333333,
              "#9c179e"
             ],
             [
              0.4444444444444444,
              "#bd3786"
             ],
             [
              0.5555555555555556,
              "#d8576b"
             ],
             [
              0.6666666666666666,
              "#ed7953"
             ],
             [
              0.7777777777777778,
              "#fb9f3a"
             ],
             [
              0.8888888888888888,
              "#fdca26"
             ],
             [
              1,
              "#f0f921"
             ]
            ],
            "type": "histogram2d"
           }
          ],
          "histogram2dcontour": [
           {
            "colorbar": {
             "outlinewidth": 0,
             "ticks": ""
            },
            "colorscale": [
             [
              0,
              "#0d0887"
             ],
             [
              0.1111111111111111,
              "#46039f"
             ],
             [
              0.2222222222222222,
              "#7201a8"
             ],
             [
              0.3333333333333333,
              "#9c179e"
             ],
             [
              0.4444444444444444,
              "#bd3786"
             ],
             [
              0.5555555555555556,
              "#d8576b"
             ],
             [
              0.6666666666666666,
              "#ed7953"
             ],
             [
              0.7777777777777778,
              "#fb9f3a"
             ],
             [
              0.8888888888888888,
              "#fdca26"
             ],
             [
              1,
              "#f0f921"
             ]
            ],
            "type": "histogram2dcontour"
           }
          ],
          "mesh3d": [
           {
            "colorbar": {
             "outlinewidth": 0,
             "ticks": ""
            },
            "type": "mesh3d"
           }
          ],
          "parcoords": [
           {
            "line": {
             "colorbar": {
              "outlinewidth": 0,
              "ticks": ""
             }
            },
            "type": "parcoords"
           }
          ],
          "pie": [
           {
            "automargin": true,
            "type": "pie"
           }
          ],
          "scatter": [
           {
            "fillpattern": {
             "fillmode": "overlay",
             "size": 10,
             "solidity": 0.2
            },
            "type": "scatter"
           }
          ],
          "scatter3d": [
           {
            "line": {
             "colorbar": {
              "outlinewidth": 0,
              "ticks": ""
             }
            },
            "marker": {
             "colorbar": {
              "outlinewidth": 0,
              "ticks": ""
             }
            },
            "type": "scatter3d"
           }
          ],
          "scattercarpet": [
           {
            "marker": {
             "colorbar": {
              "outlinewidth": 0,
              "ticks": ""
             }
            },
            "type": "scattercarpet"
           }
          ],
          "scattergeo": [
           {
            "marker": {
             "colorbar": {
              "outlinewidth": 0,
              "ticks": ""
             }
            },
            "type": "scattergeo"
           }
          ],
          "scattergl": [
           {
            "marker": {
             "colorbar": {
              "outlinewidth": 0,
              "ticks": ""
             }
            },
            "type": "scattergl"
           }
          ],
          "scattermap": [
           {
            "marker": {
             "colorbar": {
              "outlinewidth": 0,
              "ticks": ""
             }
            },
            "type": "scattermap"
           }
          ],
          "scattermapbox": [
           {
            "marker": {
             "colorbar": {
              "outlinewidth": 0,
              "ticks": ""
             }
            },
            "type": "scattermapbox"
           }
          ],
          "scatterpolar": [
           {
            "marker": {
             "colorbar": {
              "outlinewidth": 0,
              "ticks": ""
             }
            },
            "type": "scatterpolar"
           }
          ],
          "scatterpolargl": [
           {
            "marker": {
             "colorbar": {
              "outlinewidth": 0,
              "ticks": ""
             }
            },
            "type": "scatterpolargl"
           }
          ],
          "scatterternary": [
           {
            "marker": {
             "colorbar": {
              "outlinewidth": 0,
              "ticks": ""
             }
            },
            "type": "scatterternary"
           }
          ],
          "surface": [
           {
            "colorbar": {
             "outlinewidth": 0,
             "ticks": ""
            },
            "colorscale": [
             [
              0,
              "#0d0887"
             ],
             [
              0.1111111111111111,
              "#46039f"
             ],
             [
              0.2222222222222222,
              "#7201a8"
             ],
             [
              0.3333333333333333,
              "#9c179e"
             ],
             [
              0.4444444444444444,
              "#bd3786"
             ],
             [
              0.5555555555555556,
              "#d8576b"
             ],
             [
              0.6666666666666666,
              "#ed7953"
             ],
             [
              0.7777777777777778,
              "#fb9f3a"
             ],
             [
              0.8888888888888888,
              "#fdca26"
             ],
             [
              1,
              "#f0f921"
             ]
            ],
            "type": "surface"
           }
          ],
          "table": [
           {
            "cells": {
             "fill": {
              "color": "#EBF0F8"
             },
             "line": {
              "color": "white"
             }
            },
            "header": {
             "fill": {
              "color": "#C8D4E3"
             },
             "line": {
              "color": "white"
             }
            },
            "type": "table"
           }
          ]
         },
         "layout": {
          "annotationdefaults": {
           "arrowcolor": "#2a3f5f",
           "arrowhead": 0,
           "arrowwidth": 1
          },
          "autotypenumbers": "strict",
          "coloraxis": {
           "colorbar": {
            "outlinewidth": 0,
            "ticks": ""
           }
          },
          "colorscale": {
           "diverging": [
            [
             0,
             "#8e0152"
            ],
            [
             0.1,
             "#c51b7d"
            ],
            [
             0.2,
             "#de77ae"
            ],
            [
             0.3,
             "#f1b6da"
            ],
            [
             0.4,
             "#fde0ef"
            ],
            [
             0.5,
             "#f7f7f7"
            ],
            [
             0.6,
             "#e6f5d0"
            ],
            [
             0.7,
             "#b8e186"
            ],
            [
             0.8,
             "#7fbc41"
            ],
            [
             0.9,
             "#4d9221"
            ],
            [
             1,
             "#276419"
            ]
           ],
           "sequential": [
            [
             0,
             "#0d0887"
            ],
            [
             0.1111111111111111,
             "#46039f"
            ],
            [
             0.2222222222222222,
             "#7201a8"
            ],
            [
             0.3333333333333333,
             "#9c179e"
            ],
            [
             0.4444444444444444,
             "#bd3786"
            ],
            [
             0.5555555555555556,
             "#d8576b"
            ],
            [
             0.6666666666666666,
             "#ed7953"
            ],
            [
             0.7777777777777778,
             "#fb9f3a"
            ],
            [
             0.8888888888888888,
             "#fdca26"
            ],
            [
             1,
             "#f0f921"
            ]
           ],
           "sequentialminus": [
            [
             0,
             "#0d0887"
            ],
            [
             0.1111111111111111,
             "#46039f"
            ],
            [
             0.2222222222222222,
             "#7201a8"
            ],
            [
             0.3333333333333333,
             "#9c179e"
            ],
            [
             0.4444444444444444,
             "#bd3786"
            ],
            [
             0.5555555555555556,
             "#d8576b"
            ],
            [
             0.6666666666666666,
             "#ed7953"
            ],
            [
             0.7777777777777778,
             "#fb9f3a"
            ],
            [
             0.8888888888888888,
             "#fdca26"
            ],
            [
             1,
             "#f0f921"
            ]
           ]
          },
          "colorway": [
           "#636efa",
           "#EF553B",
           "#00cc96",
           "#ab63fa",
           "#FFA15A",
           "#19d3f3",
           "#FF6692",
           "#B6E880",
           "#FF97FF",
           "#FECB52"
          ],
          "font": {
           "color": "#2a3f5f"
          },
          "geo": {
           "bgcolor": "white",
           "lakecolor": "white",
           "landcolor": "#E5ECF6",
           "showlakes": true,
           "showland": true,
           "subunitcolor": "white"
          },
          "hoverlabel": {
           "align": "left"
          },
          "hovermode": "closest",
          "mapbox": {
           "style": "light"
          },
          "paper_bgcolor": "white",
          "plot_bgcolor": "#E5ECF6",
          "polar": {
           "angularaxis": {
            "gridcolor": "white",
            "linecolor": "white",
            "ticks": ""
           },
           "bgcolor": "#E5ECF6",
           "radialaxis": {
            "gridcolor": "white",
            "linecolor": "white",
            "ticks": ""
           }
          },
          "scene": {
           "xaxis": {
            "backgroundcolor": "#E5ECF6",
            "gridcolor": "white",
            "gridwidth": 2,
            "linecolor": "white",
            "showbackground": true,
            "ticks": "",
            "zerolinecolor": "white"
           },
           "yaxis": {
            "backgroundcolor": "#E5ECF6",
            "gridcolor": "white",
            "gridwidth": 2,
            "linecolor": "white",
            "showbackground": true,
            "ticks": "",
            "zerolinecolor": "white"
           },
           "zaxis": {
            "backgroundcolor": "#E5ECF6",
            "gridcolor": "white",
            "gridwidth": 2,
            "linecolor": "white",
            "showbackground": true,
            "ticks": "",
            "zerolinecolor": "white"
           }
          },
          "shapedefaults": {
           "line": {
            "color": "#2a3f5f"
           }
          },
          "ternary": {
           "aaxis": {
            "gridcolor": "white",
            "linecolor": "white",
            "ticks": ""
           },
           "baxis": {
            "gridcolor": "white",
            "linecolor": "white",
            "ticks": ""
           },
           "bgcolor": "#E5ECF6",
           "caxis": {
            "gridcolor": "white",
            "linecolor": "white",
            "ticks": ""
           }
          },
          "title": {
           "x": 0.05
          },
          "xaxis": {
           "automargin": true,
           "gridcolor": "white",
           "linecolor": "white",
           "ticks": "",
           "title": {
            "standoff": 15
           },
           "zerolinecolor": "white",
           "zerolinewidth": 2
          },
          "yaxis": {
           "automargin": true,
           "gridcolor": "white",
           "linecolor": "white",
           "ticks": "",
           "title": {
            "standoff": 15
           },
           "zerolinecolor": "white",
           "zerolinewidth": 2
          }
         }
        },
        "title": {
         "font": {
          "size": 20
         },
         "text": "freq of the words in train datasets",
         "x": 0.5
        }
       }
      }
     },
     "metadata": {},
     "output_type": "display_data"
    }
   ],
   "source": [
    "fig = px.treemap(freq_of_words_top200, path=[freq_of_words_top200.index], values='count')\n",
    "\n",
    "fig.update_layout(title_text='freq of the words in train datasets', title_x=0.5, title_font=dict(size=20))\n",
    "\n",
    "fig.update_traces(textinfo='label+value')\n",
    "\n",
    "fig.show()"
   ]
  },
  {
   "cell_type": "markdown",
   "metadata": {},
   "source": [
    "## text preprocessing"
   ]
  },
  {
   "cell_type": "code",
   "execution_count": 19,
   "metadata": {},
   "outputs": [
    {
     "data": {
      "text/html": [
       "<div>\n",
       "<style scoped>\n",
       "    .dataframe tbody tr th:only-of-type {\n",
       "        vertical-align: middle;\n",
       "    }\n",
       "\n",
       "    .dataframe tbody tr th {\n",
       "        vertical-align: top;\n",
       "    }\n",
       "\n",
       "    .dataframe thead th {\n",
       "        text-align: right;\n",
       "    }\n",
       "</style>\n",
       "<table border=\"1\" class=\"dataframe\">\n",
       "  <thead>\n",
       "    <tr style=\"text-align: right;\">\n",
       "      <th></th>\n",
       "      <th>text</th>\n",
       "      <th>label</th>\n",
       "      <th>length_of_text</th>\n",
       "      <th>text_tokenized</th>\n",
       "    </tr>\n",
       "  </thead>\n",
       "  <tbody>\n",
       "    <tr>\n",
       "      <th>0</th>\n",
       "      <td>i didnt feel humiliated</td>\n",
       "      <td>0</td>\n",
       "      <td>4</td>\n",
       "      <td>[i, didnt, feel, humiliated]</td>\n",
       "    </tr>\n",
       "    <tr>\n",
       "      <th>1</th>\n",
       "      <td>i can go from feeling so hopeless to so damned...</td>\n",
       "      <td>0</td>\n",
       "      <td>21</td>\n",
       "      <td>[i, can, go, from, feeling, so, hopeless, to, ...</td>\n",
       "    </tr>\n",
       "    <tr>\n",
       "      <th>2</th>\n",
       "      <td>im grabbing a minute to post i feel greedy wrong</td>\n",
       "      <td>3</td>\n",
       "      <td>10</td>\n",
       "      <td>[im, grabbing, a, minute, to, post, i, feel, g...</td>\n",
       "    </tr>\n",
       "    <tr>\n",
       "      <th>3</th>\n",
       "      <td>i am ever feeling nostalgic about the fireplac...</td>\n",
       "      <td>2</td>\n",
       "      <td>18</td>\n",
       "      <td>[i, am, ever, feeling, nostalgic, about, the, ...</td>\n",
       "    </tr>\n",
       "    <tr>\n",
       "      <th>4</th>\n",
       "      <td>i am feeling grouchy</td>\n",
       "      <td>3</td>\n",
       "      <td>4</td>\n",
       "      <td>[i, am, feeling, grouchy]</td>\n",
       "    </tr>\n",
       "  </tbody>\n",
       "</table>\n",
       "</div>"
      ],
      "text/plain": [
       "                                                text  label  length_of_text  \\\n",
       "0                            i didnt feel humiliated      0               4   \n",
       "1  i can go from feeling so hopeless to so damned...      0              21   \n",
       "2   im grabbing a minute to post i feel greedy wrong      3              10   \n",
       "3  i am ever feeling nostalgic about the fireplac...      2              18   \n",
       "4                               i am feeling grouchy      3               4   \n",
       "\n",
       "                                      text_tokenized  \n",
       "0                       [i, didnt, feel, humiliated]  \n",
       "1  [i, can, go, from, feeling, so, hopeless, to, ...  \n",
       "2  [im, grabbing, a, minute, to, post, i, feel, g...  \n",
       "3  [i, am, ever, feeling, nostalgic, about, the, ...  \n",
       "4                          [i, am, feeling, grouchy]  "
      ]
     },
     "execution_count": 19,
     "metadata": {},
     "output_type": "execute_result"
    }
   ],
   "source": [
    "def tokenization(inputs):\n",
    "    return word_tokenize(inputs)\n",
    "\n",
    "train['text_tokenized'] = train['text'].apply(tokenization)\n",
    "\n",
    "train.head()"
   ]
  },
  {
   "cell_type": "markdown",
   "metadata": {},
   "source": [
    "## stopword removal"
   ]
  },
  {
   "cell_type": "code",
   "execution_count": 22,
   "metadata": {},
   "outputs": [
    {
     "data": {
      "text/html": [
       "<div>\n",
       "<style scoped>\n",
       "    .dataframe tbody tr th:only-of-type {\n",
       "        vertical-align: middle;\n",
       "    }\n",
       "\n",
       "    .dataframe tbody tr th {\n",
       "        vertical-align: top;\n",
       "    }\n",
       "\n",
       "    .dataframe thead th {\n",
       "        text-align: right;\n",
       "    }\n",
       "</style>\n",
       "<table border=\"1\" class=\"dataframe\">\n",
       "  <thead>\n",
       "    <tr style=\"text-align: right;\">\n",
       "      <th></th>\n",
       "      <th>text</th>\n",
       "      <th>label</th>\n",
       "      <th>length_of_text</th>\n",
       "      <th>text_tokenized</th>\n",
       "      <th>text_after_removing_stopwords</th>\n",
       "    </tr>\n",
       "  </thead>\n",
       "  <tbody>\n",
       "    <tr>\n",
       "      <th>0</th>\n",
       "      <td>i didnt feel humiliated</td>\n",
       "      <td>0</td>\n",
       "      <td>4</td>\n",
       "      <td>[i, didnt, feel, humiliated]</td>\n",
       "      <td>[didnt, feel, humiliated]</td>\n",
       "    </tr>\n",
       "    <tr>\n",
       "      <th>1</th>\n",
       "      <td>i can go from feeling so hopeless to so damned...</td>\n",
       "      <td>0</td>\n",
       "      <td>21</td>\n",
       "      <td>[i, can, go, from, feeling, so, hopeless, to, ...</td>\n",
       "      <td>[go, feeling, hopeless, damned, hopeful, aroun...</td>\n",
       "    </tr>\n",
       "    <tr>\n",
       "      <th>2</th>\n",
       "      <td>im grabbing a minute to post i feel greedy wrong</td>\n",
       "      <td>3</td>\n",
       "      <td>10</td>\n",
       "      <td>[im, grabbing, a, minute, to, post, i, feel, g...</td>\n",
       "      <td>[im, grabbing, minute, post, feel, greedy, wrong]</td>\n",
       "    </tr>\n",
       "    <tr>\n",
       "      <th>3</th>\n",
       "      <td>i am ever feeling nostalgic about the fireplac...</td>\n",
       "      <td>2</td>\n",
       "      <td>18</td>\n",
       "      <td>[i, am, ever, feeling, nostalgic, about, the, ...</td>\n",
       "      <td>[ever, feeling, nostalgic, fireplace, know, st...</td>\n",
       "    </tr>\n",
       "    <tr>\n",
       "      <th>4</th>\n",
       "      <td>i am feeling grouchy</td>\n",
       "      <td>3</td>\n",
       "      <td>4</td>\n",
       "      <td>[i, am, feeling, grouchy]</td>\n",
       "      <td>[feeling, grouchy]</td>\n",
       "    </tr>\n",
       "  </tbody>\n",
       "</table>\n",
       "</div>"
      ],
      "text/plain": [
       "                                                text  label  length_of_text  \\\n",
       "0                            i didnt feel humiliated      0               4   \n",
       "1  i can go from feeling so hopeless to so damned...      0              21   \n",
       "2   im grabbing a minute to post i feel greedy wrong      3              10   \n",
       "3  i am ever feeling nostalgic about the fireplac...      2              18   \n",
       "4                               i am feeling grouchy      3               4   \n",
       "\n",
       "                                      text_tokenized  \\\n",
       "0                       [i, didnt, feel, humiliated]   \n",
       "1  [i, can, go, from, feeling, so, hopeless, to, ...   \n",
       "2  [im, grabbing, a, minute, to, post, i, feel, g...   \n",
       "3  [i, am, ever, feeling, nostalgic, about, the, ...   \n",
       "4                          [i, am, feeling, grouchy]   \n",
       "\n",
       "                       text_after_removing_stopwords  \n",
       "0                          [didnt, feel, humiliated]  \n",
       "1  [go, feeling, hopeless, damned, hopeful, aroun...  \n",
       "2  [im, grabbing, minute, post, feel, greedy, wrong]  \n",
       "3  [ever, feeling, nostalgic, fireplace, know, st...  \n",
       "4                                 [feeling, grouchy]  "
      ]
     },
     "execution_count": 22,
     "metadata": {},
     "output_type": "execute_result"
    }
   ],
   "source": [
    "stop_word = set(stopwords.words('english'))\n",
    "def stopwords_remove(inputs):\n",
    "    return [item for item in inputs if item not in stop_word]\n",
    "\n",
    "train['text_after_removing_stopwords'] = train['text_tokenized'].apply(stopwords_remove)\n",
    "\n",
    "train.head()"
   ]
  },
  {
   "cell_type": "markdown",
   "metadata": {},
   "source": [
    "## Lamitization"
   ]
  },
  {
   "cell_type": "code",
   "execution_count": 23,
   "metadata": {},
   "outputs": [
    {
     "data": {
      "text/html": [
       "<div>\n",
       "<style scoped>\n",
       "    .dataframe tbody tr th:only-of-type {\n",
       "        vertical-align: middle;\n",
       "    }\n",
       "\n",
       "    .dataframe tbody tr th {\n",
       "        vertical-align: top;\n",
       "    }\n",
       "\n",
       "    .dataframe thead th {\n",
       "        text-align: right;\n",
       "    }\n",
       "</style>\n",
       "<table border=\"1\" class=\"dataframe\">\n",
       "  <thead>\n",
       "    <tr style=\"text-align: right;\">\n",
       "      <th></th>\n",
       "      <th>text</th>\n",
       "      <th>label</th>\n",
       "      <th>length_of_text</th>\n",
       "      <th>text_tokenized</th>\n",
       "      <th>text_after_removing_stopwords</th>\n",
       "      <th>text_lemmatized</th>\n",
       "    </tr>\n",
       "  </thead>\n",
       "  <tbody>\n",
       "    <tr>\n",
       "      <th>0</th>\n",
       "      <td>i didnt feel humiliated</td>\n",
       "      <td>0</td>\n",
       "      <td>4</td>\n",
       "      <td>[i, didnt, feel, humiliated]</td>\n",
       "      <td>[didnt, feel, humiliated]</td>\n",
       "      <td>[didnt, feel, humiliate]</td>\n",
       "    </tr>\n",
       "    <tr>\n",
       "      <th>1</th>\n",
       "      <td>i can go from feeling so hopeless to so damned...</td>\n",
       "      <td>0</td>\n",
       "      <td>21</td>\n",
       "      <td>[i, can, go, from, feeling, so, hopeless, to, ...</td>\n",
       "      <td>[go, feeling, hopeless, damned, hopeful, aroun...</td>\n",
       "      <td>[go, feel, hopeless, damn, hopeful, around, so...</td>\n",
       "    </tr>\n",
       "    <tr>\n",
       "      <th>2</th>\n",
       "      <td>im grabbing a minute to post i feel greedy wrong</td>\n",
       "      <td>3</td>\n",
       "      <td>10</td>\n",
       "      <td>[im, grabbing, a, minute, to, post, i, feel, g...</td>\n",
       "      <td>[im, grabbing, minute, post, feel, greedy, wrong]</td>\n",
       "      <td>[im, grab, minute, post, feel, greedy, wrong]</td>\n",
       "    </tr>\n",
       "    <tr>\n",
       "      <th>3</th>\n",
       "      <td>i am ever feeling nostalgic about the fireplac...</td>\n",
       "      <td>2</td>\n",
       "      <td>18</td>\n",
       "      <td>[i, am, ever, feeling, nostalgic, about, the, ...</td>\n",
       "      <td>[ever, feeling, nostalgic, fireplace, know, st...</td>\n",
       "      <td>[ever, feel, nostalgic, fireplace, know, still...</td>\n",
       "    </tr>\n",
       "    <tr>\n",
       "      <th>4</th>\n",
       "      <td>i am feeling grouchy</td>\n",
       "      <td>3</td>\n",
       "      <td>4</td>\n",
       "      <td>[i, am, feeling, grouchy]</td>\n",
       "      <td>[feeling, grouchy]</td>\n",
       "      <td>[feel, grouchy]</td>\n",
       "    </tr>\n",
       "  </tbody>\n",
       "</table>\n",
       "</div>"
      ],
      "text/plain": [
       "                                                text  label  length_of_text  \\\n",
       "0                            i didnt feel humiliated      0               4   \n",
       "1  i can go from feeling so hopeless to so damned...      0              21   \n",
       "2   im grabbing a minute to post i feel greedy wrong      3              10   \n",
       "3  i am ever feeling nostalgic about the fireplac...      2              18   \n",
       "4                               i am feeling grouchy      3               4   \n",
       "\n",
       "                                      text_tokenized  \\\n",
       "0                       [i, didnt, feel, humiliated]   \n",
       "1  [i, can, go, from, feeling, so, hopeless, to, ...   \n",
       "2  [im, grabbing, a, minute, to, post, i, feel, g...   \n",
       "3  [i, am, ever, feeling, nostalgic, about, the, ...   \n",
       "4                          [i, am, feeling, grouchy]   \n",
       "\n",
       "                       text_after_removing_stopwords  \\\n",
       "0                          [didnt, feel, humiliated]   \n",
       "1  [go, feeling, hopeless, damned, hopeful, aroun...   \n",
       "2  [im, grabbing, minute, post, feel, greedy, wrong]   \n",
       "3  [ever, feeling, nostalgic, fireplace, know, st...   \n",
       "4                                 [feeling, grouchy]   \n",
       "\n",
       "                                     text_lemmatized  \n",
       "0                           [didnt, feel, humiliate]  \n",
       "1  [go, feel, hopeless, damn, hopeful, around, so...  \n",
       "2      [im, grab, minute, post, feel, greedy, wrong]  \n",
       "3  [ever, feel, nostalgic, fireplace, know, still...  \n",
       "4                                    [feel, grouchy]  "
      ]
     },
     "execution_count": 23,
     "metadata": {},
     "output_type": "execute_result"
    }
   ],
   "source": [
    "lemmatizer = WordNetLemmatizer()\n",
    "\n",
    "def lemmatization(inputs):\n",
    "    return [lemmatizer.lemmatize(word=x, pos='v') for x in inputs]\n",
    "\n",
    "train['text_lemmatized'] = train['text_after_removing_stopwords'].apply(lemmatization)\n",
    "\n",
    "train.head()\n"
   ]
  },
  {
   "cell_type": "markdown",
   "metadata": {},
   "source": [
    "## joining token into sentence"
   ]
  },
  {
   "cell_type": "code",
   "execution_count": 24,
   "metadata": {},
   "outputs": [
    {
     "data": {
      "text/html": [
       "<div>\n",
       "<style scoped>\n",
       "    .dataframe tbody tr th:only-of-type {\n",
       "        vertical-align: middle;\n",
       "    }\n",
       "\n",
       "    .dataframe tbody tr th {\n",
       "        vertical-align: top;\n",
       "    }\n",
       "\n",
       "    .dataframe thead th {\n",
       "        text-align: right;\n",
       "    }\n",
       "</style>\n",
       "<table border=\"1\" class=\"dataframe\">\n",
       "  <thead>\n",
       "    <tr style=\"text-align: right;\">\n",
       "      <th></th>\n",
       "      <th>text</th>\n",
       "      <th>label</th>\n",
       "      <th>length_of_text</th>\n",
       "      <th>text_tokenized</th>\n",
       "      <th>text_after_removing_stopwords</th>\n",
       "      <th>text_lemmatized</th>\n",
       "      <th>text_cleaned</th>\n",
       "    </tr>\n",
       "  </thead>\n",
       "  <tbody>\n",
       "    <tr>\n",
       "      <th>0</th>\n",
       "      <td>i didnt feel humiliated</td>\n",
       "      <td>0</td>\n",
       "      <td>4</td>\n",
       "      <td>[i, didnt, feel, humiliated]</td>\n",
       "      <td>[didnt, feel, humiliated]</td>\n",
       "      <td>[didnt, feel, humiliate]</td>\n",
       "      <td>didnt feel humiliate</td>\n",
       "    </tr>\n",
       "    <tr>\n",
       "      <th>1</th>\n",
       "      <td>i can go from feeling so hopeless to so damned...</td>\n",
       "      <td>0</td>\n",
       "      <td>21</td>\n",
       "      <td>[i, can, go, from, feeling, so, hopeless, to, ...</td>\n",
       "      <td>[go, feeling, hopeless, damned, hopeful, aroun...</td>\n",
       "      <td>[go, feel, hopeless, damn, hopeful, around, so...</td>\n",
       "      <td>go feel hopeless damn hopeful around someone c...</td>\n",
       "    </tr>\n",
       "    <tr>\n",
       "      <th>2</th>\n",
       "      <td>im grabbing a minute to post i feel greedy wrong</td>\n",
       "      <td>3</td>\n",
       "      <td>10</td>\n",
       "      <td>[im, grabbing, a, minute, to, post, i, feel, g...</td>\n",
       "      <td>[im, grabbing, minute, post, feel, greedy, wrong]</td>\n",
       "      <td>[im, grab, minute, post, feel, greedy, wrong]</td>\n",
       "      <td>im grab minute post feel greedy wrong</td>\n",
       "    </tr>\n",
       "    <tr>\n",
       "      <th>3</th>\n",
       "      <td>i am ever feeling nostalgic about the fireplac...</td>\n",
       "      <td>2</td>\n",
       "      <td>18</td>\n",
       "      <td>[i, am, ever, feeling, nostalgic, about, the, ...</td>\n",
       "      <td>[ever, feeling, nostalgic, fireplace, know, st...</td>\n",
       "      <td>[ever, feel, nostalgic, fireplace, know, still...</td>\n",
       "      <td>ever feel nostalgic fireplace know still property</td>\n",
       "    </tr>\n",
       "    <tr>\n",
       "      <th>4</th>\n",
       "      <td>i am feeling grouchy</td>\n",
       "      <td>3</td>\n",
       "      <td>4</td>\n",
       "      <td>[i, am, feeling, grouchy]</td>\n",
       "      <td>[feeling, grouchy]</td>\n",
       "      <td>[feel, grouchy]</td>\n",
       "      <td>feel grouchy</td>\n",
       "    </tr>\n",
       "  </tbody>\n",
       "</table>\n",
       "</div>"
      ],
      "text/plain": [
       "                                                text  label  length_of_text  \\\n",
       "0                            i didnt feel humiliated      0               4   \n",
       "1  i can go from feeling so hopeless to so damned...      0              21   \n",
       "2   im grabbing a minute to post i feel greedy wrong      3              10   \n",
       "3  i am ever feeling nostalgic about the fireplac...      2              18   \n",
       "4                               i am feeling grouchy      3               4   \n",
       "\n",
       "                                      text_tokenized  \\\n",
       "0                       [i, didnt, feel, humiliated]   \n",
       "1  [i, can, go, from, feeling, so, hopeless, to, ...   \n",
       "2  [im, grabbing, a, minute, to, post, i, feel, g...   \n",
       "3  [i, am, ever, feeling, nostalgic, about, the, ...   \n",
       "4                          [i, am, feeling, grouchy]   \n",
       "\n",
       "                       text_after_removing_stopwords  \\\n",
       "0                          [didnt, feel, humiliated]   \n",
       "1  [go, feeling, hopeless, damned, hopeful, aroun...   \n",
       "2  [im, grabbing, minute, post, feel, greedy, wrong]   \n",
       "3  [ever, feeling, nostalgic, fireplace, know, st...   \n",
       "4                                 [feeling, grouchy]   \n",
       "\n",
       "                                     text_lemmatized  \\\n",
       "0                           [didnt, feel, humiliate]   \n",
       "1  [go, feel, hopeless, damn, hopeful, around, so...   \n",
       "2      [im, grab, minute, post, feel, greedy, wrong]   \n",
       "3  [ever, feel, nostalgic, fireplace, know, still...   \n",
       "4                                    [feel, grouchy]   \n",
       "\n",
       "                                        text_cleaned  \n",
       "0                               didnt feel humiliate  \n",
       "1  go feel hopeless damn hopeful around someone c...  \n",
       "2              im grab minute post feel greedy wrong  \n",
       "3  ever feel nostalgic fireplace know still property  \n",
       "4                                       feel grouchy  "
      ]
     },
     "execution_count": 24,
     "metadata": {},
     "output_type": "execute_result"
    }
   ],
   "source": [
    "train['text_cleaned'] = train['text_lemmatized'].str.join(' ')\n",
    "train.head()"
   ]
  },
  {
   "cell_type": "markdown",
   "metadata": {},
   "source": [
    "## Word cloud"
   ]
  },
  {
   "cell_type": "code",
   "execution_count": 28,
   "metadata": {},
   "outputs": [
    {
     "data": {
      "image/png": "[encoded data removed]",
      "text/plain": [
       "<Figure size 1000x1000 with 1 Axes>"
      ]
     },
     "metadata": {},
     "output_type": "display_data"
    }
   ],
   "source": [
    "wordcloud = WordCloud(max_words=150, random_state=30, collocations=True).generate(str(train['text']))\n",
    "plt.figure(figsize=(10, 10))\n",
    "plt.imshow(wordcloud, interpolation='bilinear')\n",
    "plt.axis('off')\n",
    "plt.show()"
   ]
  },
  {
   "cell_type": "code",
   "execution_count": 29,
   "metadata": {},
   "outputs": [
    {
     "data": {
      "application/vnd.plotly.v1+json": {
       "config": {
        "plotlyServerURL": "https://plot.ly"
       },
       "data": [
        {
         "branchvalues": "total",
         "domain": {
          "x": [
           0,
           1
          ],
          "y": [
           0,
           1
          ]
         },
         "hovertemplate": "labels=%{label}<br>count=%{value}<br>parent=%{parent}<br>id=%{id}<extra></extra>",
         "ids": [
          "feel",
          "like",
          "im",
          "get",
          "make",
          "go",
          "know",
          "time",
          "really",
          "think",
          "want",
          "little",
          "love",
          "people",
          "would",
          "say",
          "still",
          "one",
          "even",
          "ive",
          "life",
          "bite",
          "need",
          "something",
          "much",
          "dont",
          "things",
          "way",
          "work",
          "see",
          "could",
          "start",
          "come",
          "day",
          "look",
          "take",
          "back",
          "try",
          "good",
          "pretty",
          "leave",
          "find",
          "always",
          "right",
          "feelings",
          "also",
          "help",
          "today",
          "write",
          "give",
          "around",
          "cant",
          "tell",
          "well",
          "though",
          "didnt",
          "felt",
          "never",
          "lot",
          "use",
          "every",
          "someone",
          "keep",
          "days",
          "less",
          "happy",
          "live",
          "read",
          "enough",
          "quite",
          "many",
          "sure",
          "away",
          "home",
          "long",
          "ever",
          "anything",
          "kind",
          "better",
          "talk",
          "person",
          "let",
          "friends",
          "remember",
          "without",
          "last",
          "everything",
          "actually",
          "world",
          "new",
          "care",
          "sometimes",
          "end",
          "amaze",
          "http",
          "thing",
          "lose",
          "post",
          "year",
          "put",
          "first",
          "miss",
          "mean",
          "family",
          "stress",
          "sit",
          "happen",
          "able",
          "run",
          "alone",
          "week",
          "rather",
          "support",
          "place",
          "call",
          "ask",
          "already",
          "stop",
          "part",
          "seem",
          "href",
          "bad",
          "ill",
          "spend",
          "us",
          "blog",
          "walk",
          "begin",
          "hurt",
          "wake",
          "yet",
          "book",
          "others",
          "years",
          "two",
          "may",
          "overwhelm",
          "understand",
          "since",
          "become",
          "nothing",
          "pain",
          "heart",
          "point",
          "often",
          "hate",
          "watch",
          "sweet",
          "hear",
          "strange",
          "school",
          "moment",
          "share",
          "sleep",
          "eat",
          "morning",
          "hope",
          "might",
          "learn",
          "accept",
          "guess",
          "god",
          "word",
          "anyone",
          "weird",
          "excite",
          "night",
          "bless",
          "hard",
          "friend",
          "id",
          "face",
          "reason",
          "wrong",
          "everyone",
          "move",
          "whole",
          "sad",
          "body",
          "angry",
          "another",
          "change",
          "old",
          "break",
          "hat",
          "fuck",
          "enjoy",
          "experience",
          "show",
          "do",
          "passionate",
          "important",
          "maybe",
          "believe",
          "wear",
          "kid",
          "content",
          "tire",
          "stupid",
          "almost"
         ],
         "labels": [
          "feel",
          "like",
          "im",
          "get",
          "make",
          "go",
          "know",
          "time",
          "really",
          "think",
          "want",
          "little",
          "love",
          "people",
          "would",
          "say",
          "still",
          "one",
          "even",
          "ive",
          "life",
          "bite",
          "need",
          "something",
          "much",
          "dont",
          "things",
          "way",
          "work",
          "see",
          "could",
          "start",
          "come",
          "day",
          "look",
          "take",
          "back",
          "try",
          "good",
          "pretty",
          "leave",
          "find",
          "always",
          "right",
          "feelings",
          "also",
          "help",
          "today",
          "write",
          "give",
          "around",
          "cant",
          "tell",
          "well",
          "though",
          "didnt",
          "felt",
          "never",
          "lot",
          "use",
          "every",
          "someone",
          "keep",
          "days",
          "less",
          "happy",
          "live",
          "read",
          "enough",
          "quite",
          "many",
          "sure",
          "away",
          "home",
          "long",
          "ever",
          "anything",
          "kind",
          "better",
          "talk",
          "person",
          "let",
          "friends",
          "remember",
          "without",
          "last",
          "everything",
          "actually",
          "world",
          "new",
          "care",
          "sometimes",
          "end",
          "amaze",
          "http",
          "thing",
          "lose",
          "post",
          "year",
          "put",
          "first",
          "miss",
          "mean",
          "family",
          "stress",
          "sit",
          "happen",
          "able",
          "run",
          "alone",
          "week",
          "rather",
          "support",
          "place",
          "call",
          "ask",
          "already",
          "stop",
          "part",
          "seem",
          "href",
          "bad",
          "ill",
          "spend",
          "us",
          "blog",
          "walk",
          "begin",
          "hurt",
          "wake",
          "yet",
          "book",
          "others",
          "years",
          "two",
          "may",
          "overwhelm",
          "understand",
          "since",
          "become",
          "nothing",
          "pain",
          "heart",
          "point",
          "often",
          "hate",
          "watch",
          "sweet",
          "hear",
          "strange",
          "school",
          "moment",
          "share",
          "sleep",
          "eat",
          "morning",
          "hope",
          "might",
          "learn",
          "accept",
          "guess",
          "god",
          "word",
          "anyone",
          "weird",
          "excite",
          "night",
          "bless",
          "hard",
          "friend",
          "id",
          "face",
          "reason",
          "wrong",
          "everyone",
          "move",
          "whole",
          "sad",
          "body",
          "angry",
          "another",
          "change",
          "old",
          "break",
          "hat",
          "fuck",
          "enjoy",
          "experience",
          "show",
          "do",
          "passionate",
          "important",
          "maybe",
          "believe",
          "wear",
          "kid",
          "content",
          "tire",
          "stupid",
          "almost"
         ],
         "name": "",
         "parents": [
          "",
          "",
          "",
          "",
          "",
          "",
          "",
          "",
          "",
          "",
          "",
          "",
          "",
          "",
          "",
          "",
          "",
          "",
          "",
          "",
          "",
          "",
          "",
          "",
          "",
          "",
          "",
          "",
          "",
          "",
          "",
          "",
          "",
          "",
          "",
          "",
          "",
          "",
          "",
          "",
          "",
          "",
          "",
          "",
          "",
          "",
          "",
          "",
          "",
          "",
          "",
          "",
          "",
          "",
          "",
          "",
          "",
          "",
          "",
          "",
          "",
          "",
          "",
          "",
          "",
          "",
          "",
          "",
          "",
          "",
          "",
          "",
          "",
          "",
          "",
          "",
          "",
          "",
          "",
          "",
          "",
          "",
          "",
          "",
          "",
          "",
          "",
          "",
          "",
          "",
          "",
          "",
          "",
          "",
          "",
          "",
          "",
          "",
          "",
          "",
          "",
          "",
          "",
          "",
          "",
          "",
          "",
          "",
          "",
          "",
          "",
          "",
          "",
          "",
          "",
          "",
          "",
          "",
          "",
          "",
          "",
          "",
          "",
          "",
          "",
          "",
          "",
          "",
          "",
          "",
          "",
          "",
          "",
          "",
          "",
          "",
          "",
          "",
          "",
          "",
          "",
          "",
          "",
          "",
          "",
          "",
          "",
          "",
          "",
          "",
          "",
          "",
          "",
          "",
          "",
          "",
          "",
          "",
          "",
          "",
          "",
          "",
          "",
          "",
          "",
          "",
          "",
          "",
          "",
          "",
          "",
          "",
          "",
          "",
          "",
          "",
          "",
          "",
          "",
          "",
          "",
          "",
          "",
          "",
          "",
          "",
          "",
          "",
          "",
          "",
          "",
          "",
          "",
          "",
          "",
          "",
          "",
          "",
          "",
          ""
         ],
         "textinfo": "label+value",
         "type": "treemap",
         "values": {
          "bdata": "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",
          "dtype": "f8"
         }
        }
       ],
       "layout": {
        "legend": {
         "tracegroupgap": 0
        },
        "margin": {
         "t": 60
        },
        "template": {
         "data": {
          "bar": [
           {
            "error_x": {
             "color": "#2a3f5f"
            },
            "error_y": {
             "color": "#2a3f5f"
            },
            "marker": {
             "line": {
              "color": "#E5ECF6",
              "width": 0.5
             },
             "pattern": {
              "fillmode": "overlay",
              "size": 10,
              "solidity": 0.2
             }
            },
            "type": "bar"
           }
          ],
          "barpolar": [
           {
            "marker": {
             "line": {
              "color": "#E5ECF6",
              "width": 0.5
             },
             "pattern": {
              "fillmode": "overlay",
              "size": 10,
              "solidity": 0.2
             }
            },
            "type": "barpolar"
           }
          ],
          "carpet": [
           {
            "aaxis": {
             "endlinecolor": "#2a3f5f",
             "gridcolor": "white",
             "linecolor": "white",
             "minorgridcolor": "white",
             "startlinecolor": "#2a3f5f"
            },
            "baxis": {
             "endlinecolor": "#2a3f5f",
             "gridcolor": "white",
             "linecolor": "white",
             "minorgridcolor": "white",
             "startlinecolor": "#2a3f5f"
            },
            "type": "carpet"
           }
          ],
          "choropleth": [
           {
            "colorbar": {
             "outlinewidth": 0,
             "ticks": ""
            },
            "type": "choropleth"
           }
          ],
          "contour": [
           {
            "colorbar": {
             "outlinewidth": 0,
             "ticks": ""
            },
            "colorscale": [
             [
              0,
              "#0d0887"
             ],
             [
              0.1111111111111111,
              "#46039f"
             ],
             [
              0.2222222222222222,
              "#7201a8"
             ],
             [
              0.3333333333333333,
              "#9c179e"
             ],
             [
              0.4444444444444444,
              "#bd3786"
             ],
             [
              0.5555555555555556,
              "#d8576b"
             ],
             [
              0.6666666666666666,
              "#ed7953"
             ],
             [
              0.7777777777777778,
              "#fb9f3a"
             ],
             [
              0.8888888888888888,
              "#fdca26"
             ],
             [
              1,
              "#f0f921"
             ]
            ],
            "type": "contour"
           }
          ],
          "contourcarpet": [
           {
            "colorbar": {
             "outlinewidth": 0,
             "ticks": ""
            },
            "type": "contourcarpet"
           }
          ],
          "heatmap": [
           {
            "colorbar": {
             "outlinewidth": 0,
             "ticks": ""
            },
            "colorscale": [
             [
              0,
              "#0d0887"
             ],
             [
              0.1111111111111111,
              "#46039f"
             ],
             [
              0.2222222222222222,
              "#7201a8"
             ],
             [
              0.3333333333333333,
              "#9c179e"
             ],
             [
              0.4444444444444444,
              "#bd3786"
             ],
             [
              0.5555555555555556,
              "#d8576b"
             ],
             [
              0.6666666666666666,
              "#ed7953"
             ],
             [
              0.7777777777777778,
              "#fb9f3a"
             ],
             [
              0.8888888888888888,
              "#fdca26"
             ],
             [
              1,
              "#f0f921"
             ]
            ],
            "type": "heatmap"
           }
          ],
          "histogram": [
           {
            "marker": {
             "pattern": {
              "fillmode": "overlay",
              "size": 10,
              "solidity": 0.2
             }
            },
            "type": "histogram"
           }
          ],
          "histogram2d": [
           {
            "colorbar": {
             "outlinewidth": 0,
             "ticks": ""
            },
            "colorscale": [
             [
              0,
              "#0d0887"
             ],
             [
              0.1111111111111111,
              "#46039f"
             ],
             [
              0.2222222222222222,
              "#7201a8"
             ],
             [
              0.3333333333333333,
              "#9c179e"
             ],
             [
              0.4444444444444444,
              "#bd3786"
             ],
             [
              0.5555555555555556,
              "#d8576b"
             ],
             [
              0.6666666666666666,
              "#ed7953"
             ],
             [
              0.7777777777777778,
              "#fb9f3a"
             ],
             [
              0.8888888888888888,
              "#fdca26"
             ],
             [
              1,
              "#f0f921"
             ]
            ],
            "type": "histogram2d"
           }
          ],
          "histogram2dcontour": [
           {
            "colorbar": {
             "outlinewidth": 0,
             "ticks": ""
            },
            "colorscale": [
             [
              0,
              "#0d0887"
             ],
             [
              0.1111111111111111,
              "#46039f"
             ],
             [
              0.2222222222222222,
              "#7201a8"
             ],
             [
              0.3333333333333333,
              "#9c179e"
             ],
             [
              0.4444444444444444,
              "#bd3786"
             ],
             [
              0.5555555555555556,
              "#d8576b"
             ],
             [
              0.6666666666666666,
              "#ed7953"
             ],
             [
              0.7777777777777778,
              "#fb9f3a"
             ],
             [
              0.8888888888888888,
              "#fdca26"
             ],
             [
              1,
              "#f0f921"
             ]
            ],
            "type": "histogram2dcontour"
           }
          ],
          "mesh3d": [
           {
            "colorbar": {
             "outlinewidth": 0,
             "ticks": ""
            },
            "type": "mesh3d"
           }
          ],
          "parcoords": [
           {
            "line": {
             "colorbar": {
              "outlinewidth": 0,
              "ticks": ""
             }
            },
            "type": "parcoords"
           }
          ],
          "pie": [
           {
            "automargin": true,
            "type": "pie"
           }
          ],
          "scatter": [
           {
            "fillpattern": {
             "fillmode": "overlay",
             "size": 10,
             "solidity": 0.2
            },
            "type": "scatter"
           }
          ],
          "scatter3d": [
           {
            "line": {
             "colorbar": {
              "outlinewidth": 0,
              "ticks": ""
             }
            },
            "marker": {
             "colorbar": {
              "outlinewidth": 0,
              "ticks": ""
             }
            },
            "type": "scatter3d"
           }
          ],
          "scattercarpet": [
           {
            "marker": {
             "colorbar": {
              "outlinewidth": 0,
              "ticks": ""
             }
            },
            "type": "scattercarpet"
           }
          ],
          "scattergeo": [
           {
            "marker": {
             "colorbar": {
              "outlinewidth": 0,
              "ticks": ""
             }
            },
            "type": "scattergeo"
           }
          ],
          "scattergl": [
           {
            "marker": {
             "colorbar": {
              "outlinewidth": 0,
              "ticks": ""
             }
            },
            "type": "scattergl"
           }
          ],
          "scattermap": [
           {
            "marker": {
             "colorbar": {
              "outlinewidth": 0,
              "ticks": ""
             }
            },
            "type": "scattermap"
           }
          ],
          "scattermapbox": [
           {
            "marker": {
             "colorbar": {
              "outlinewidth": 0,
              "ticks": ""
             }
            },
            "type": "scattermapbox"
           }
          ],
          "scatterpolar": [
           {
            "marker": {
             "colorbar": {
              "outlinewidth": 0,
              "ticks": ""
             }
            },
            "type": "scatterpolar"
           }
          ],
          "scatterpolargl": [
           {
            "marker": {
             "colorbar": {
              "outlinewidth": 0,
              "ticks": ""
             }
            },
            "type": "scatterpolargl"
           }
          ],
          "scatterternary": [
           {
            "marker": {
             "colorbar": {
              "outlinewidth": 0,
              "ticks": ""
             }
            },
            "type": "scatterternary"
           }
          ],
          "surface": [
           {
            "colorbar": {
             "outlinewidth": 0,
             "ticks": ""
            },
            "colorscale": [
             [
              0,
              "#0d0887"
             ],
             [
              0.1111111111111111,
              "#46039f"
             ],
             [
              0.2222222222222222,
              "#7201a8"
             ],
             [
              0.3333333333333333,
              "#9c179e"
             ],
             [
              0.4444444444444444,
              "#bd3786"
             ],
             [
              0.5555555555555556,
              "#d8576b"
             ],
             [
              0.6666666666666666,
              "#ed7953"
             ],
             [
              0.7777777777777778,
              "#fb9f3a"
             ],
             [
              0.8888888888888888,
              "#fdca26"
             ],
             [
              1,
              "#f0f921"
             ]
            ],
            "type": "surface"
           }
          ],
          "table": [
           {
            "cells": {
             "fill": {
              "color": "#EBF0F8"
             },
             "line": {
              "color": "white"
             }
            },
            "header": {
             "fill": {
              "color": "#C8D4E3"
             },
             "line": {
              "color": "white"
             }
            },
            "type": "table"
           }
          ]
         },
         "layout": {
          "annotationdefaults": {
           "arrowcolor": "#2a3f5f",
           "arrowhead": 0,
           "arrowwidth": 1
          },
          "autotypenumbers": "strict",
          "coloraxis": {
           "colorbar": {
            "outlinewidth": 0,
            "ticks": ""
           }
          },
          "colorscale": {
           "diverging": [
            [
             0,
             "#8e0152"
            ],
            [
             0.1,
             "#c51b7d"
            ],
            [
             0.2,
             "#de77ae"
            ],
            [
             0.3,
             "#f1b6da"
            ],
            [
             0.4,
             "#fde0ef"
            ],
            [
             0.5,
             "#f7f7f7"
            ],
            [
             0.6,
             "#e6f5d0"
            ],
            [
             0.7,
             "#b8e186"
            ],
            [
             0.8,
             "#7fbc41"
            ],
            [
             0.9,
             "#4d9221"
            ],
            [
             1,
             "#276419"
            ]
           ],
           "sequential": [
            [
             0,
             "#0d0887"
            ],
            [
             0.1111111111111111,
             "#46039f"
            ],
            [
             0.2222222222222222,
             "#7201a8"
            ],
            [
             0.3333333333333333,
             "#9c179e"
            ],
            [
             0.4444444444444444,
             "#bd3786"
            ],
            [
             0.5555555555555556,
             "#d8576b"
            ],
            [
             0.6666666666666666,
             "#ed7953"
            ],
            [
             0.7777777777777778,
             "#fb9f3a"
            ],
            [
             0.8888888888888888,
             "#fdca26"
            ],
            [
             1,
             "#f0f921"
            ]
           ],
           "sequentialminus": [
            [
             0,
             "#0d0887"
            ],
            [
             0.1111111111111111,
             "#46039f"
            ],
            [
             0.2222222222222222,
             "#7201a8"
            ],
            [
             0.3333333333333333,
             "#9c179e"
            ],
            [
             0.4444444444444444,
             "#bd3786"
            ],
            [
             0.5555555555555556,
             "#d8576b"
            ],
            [
             0.6666666666666666,
             "#ed7953"
            ],
            [
             0.7777777777777778,
             "#fb9f3a"
            ],
            [
             0.8888888888888888,
             "#fdca26"
            ],
            [
             1,
             "#f0f921"
            ]
           ]
          },
          "colorway": [
           "#636efa",
           "#EF553B",
           "#00cc96",
           "#ab63fa",
           "#FFA15A",
           "#19d3f3",
           "#FF6692",
           "#B6E880",
           "#FF97FF",
           "#FECB52"
          ],
          "font": {
           "color": "#2a3f5f"
          },
          "geo": {
           "bgcolor": "white",
           "lakecolor": "white",
           "landcolor": "#E5ECF6",
           "showlakes": true,
           "showland": true,
           "subunitcolor": "white"
          },
          "hoverlabel": {
           "align": "left"
          },
          "hovermode": "closest",
          "mapbox": {
           "style": "light"
          },
          "paper_bgcolor": "white",
          "plot_bgcolor": "#E5ECF6",
          "polar": {
           "angularaxis": {
            "gridcolor": "white",
            "linecolor": "white",
            "ticks": ""
           },
           "bgcolor": "#E5ECF6",
           "radialaxis": {
            "gridcolor": "white",
            "linecolor": "white",
            "ticks": ""
           }
          },
          "scene": {
           "xaxis": {
            "backgroundcolor": "#E5ECF6",
            "gridcolor": "white",
            "gridwidth": 2,
            "linecolor": "white",
            "showbackground": true,
            "ticks": "",
            "zerolinecolor": "white"
           },
           "yaxis": {
            "backgroundcolor": "#E5ECF6",
            "gridcolor": "white",
            "gridwidth": 2,
            "linecolor": "white",
            "showbackground": true,
            "ticks": "",
            "zerolinecolor": "white"
           },
           "zaxis": {
            "backgroundcolor": "#E5ECF6",
            "gridcolor": "white",
            "gridwidth": 2,
            "linecolor": "white",
            "showbackground": true,
            "ticks": "",
            "zerolinecolor": "white"
           }
          },
          "shapedefaults": {
           "line": {
            "color": "#2a3f5f"
           }
          },
          "ternary": {
           "aaxis": {
            "gridcolor": "white",
            "linecolor": "white",
            "ticks": ""
           },
           "baxis": {
            "gridcolor": "white",
            "linecolor": "white",
            "ticks": ""
           },
           "bgcolor": "#E5ECF6",
           "caxis": {
            "gridcolor": "white",
            "linecolor": "white",
            "ticks": ""
           }
          },
          "title": {
           "x": 0.05
          },
          "xaxis": {
           "automargin": true,
           "gridcolor": "white",
           "linecolor": "white",
           "ticks": "",
           "title": {
            "standoff": 15
           },
           "zerolinecolor": "white",
           "zerolinewidth": 2
          },
          "yaxis": {
           "automargin": true,
           "gridcolor": "white",
           "linecolor": "white",
           "ticks": "",
           "title": {
            "standoff": 15
           },
           "zerolinecolor": "white",
           "zerolinewidth": 2
          }
         }
        },
        "title": {
         "font": {
          "size": 20
         },
         "text": "freq of the words in train datasets",
         "x": 0.5
        }
       }
      }
     },
     "metadata": {},
     "output_type": "display_data"
    }
   ],
   "source": [
    "freq_of_words = train['text_cleaned'].str.split(expand=True).stack().value_counts()\n",
    "\n",
    "freq_of_words_top200 = freq_of_words[:200]\n",
    "freq_of_words_top200.index\n",
    "\n",
    "fig = px.treemap(freq_of_words_top200, path=[freq_of_words_top200.index], values='count')\n",
    "\n",
    "fig.update_layout(title_text='freq of the words in train datasets', title_x=0.5, title_font=dict(size=20))\n",
    "\n",
    "fig.update_traces(textinfo='label+value')\n",
    "\n",
    "fig.show()"
   ]
  }
 ],
 "metadata": {
  "kernelspec": {
   "display_name": "Itachi",
   "language": "python",
   "name": "python3"
  },
  "language_info": {
   "codemirror_mode": {
    "name": "ipython",
    "version": 3
   },
   "file_extension": ".py",
   "mimetype": "text/x-python",
   "name": "python",
   "nbconvert_exporter": "python",
   "pygments_lexer": "ipython3",
   "version": "3.10.13"
  }
 },
 "nbformat": 4,
 "nbformat_minor": 2
}
